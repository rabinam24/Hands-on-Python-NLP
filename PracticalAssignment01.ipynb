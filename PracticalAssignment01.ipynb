{
  "nbformat": 4,
  "nbformat_minor": 0,
  "metadata": {
    "colab": {
      "provenance": [],
      "toc_visible": true,
      "mount_file_id": "1GQWWkrIfYA9WHGgOb-B-IMLMaokV1GNj",
      "authorship_tag": "ABX9TyMUb8xSveh5/G4NgZf/DQmG",
      "include_colab_link": true
    },
    "kernelspec": {
      "name": "python3",
      "display_name": "Python 3"
    },
    "language_info": {
      "name": "python"
    }
  },
  "cells": [
    {
      "cell_type": "markdown",
      "metadata": {
        "id": "view-in-github",
        "colab_type": "text"
      },
      "source": [
        "<a href=\"https://colab.research.google.com/github/rabinam24/Hands-on-Python-NLP/blob/main/PracticalAssignment01.ipynb\" target=\"_parent\"><img src=\"https://colab.research.google.com/assets/colab-badge.svg\" alt=\"Open In Colab\"/></a>"
      ]
    },
    {
      "cell_type": "markdown",
      "source": [
        "# Understanding Python with NLP"
      ],
      "metadata": {
        "id": "cxKsItHmsqc_"
      }
    },
    {
      "cell_type": "markdown",
      "source": [
        "# Libaries"
      ],
      "metadata": {
        "id": "nU4hKlBGtDu4"
      }
    },
    {
      "cell_type": "code",
      "source": [
        "#!pip install pandas\n",
        "import pandas as pd"
      ],
      "metadata": {
        "id": "HemFf7uxsw0o"
      },
      "execution_count": 4,
      "outputs": []
    },
    {
      "cell_type": "code",
      "source": [
        "df_path=\"/content/drive/MyDrive/flight_data.csv\""
      ],
      "metadata": {
        "id": "ha6S5Ct4s4M_"
      },
      "execution_count": 5,
      "outputs": []
    },
    {
      "cell_type": "code",
      "source": [
        "df=pd.read_csv(df_path)\n",
        "df"
      ],
      "metadata": {
        "colab": {
          "base_uri": "https://localhost:8080/",
          "height": 443
        },
        "id": "beFRsMW1t1Oj",
        "outputId": "b4db4c7d-53b0-4198-f48c-56081c441adb"
      },
      "execution_count": 6,
      "outputs": [
        {
          "output_type": "execute_result",
          "data": {
            "text/plain": [
              "        YEAR  MONTH  DAY CARRIER ORIGIN DEST  SCHED_DEP_TIME  ACT_DEP_TIME  \\\n",
              "0       2019      7   24      G4    PIE  AVL            1511        1533.0   \n",
              "1       2019      7   29      G4    AUS  SFB            2002        2010.0   \n",
              "2       2019      7    7      G4    GRI  LAS            1118        1118.0   \n",
              "3       2019      7    7      G4    AUS  MEM            1643        1726.0   \n",
              "4       2019      7    8      G4    IND  PIE             858         905.0   \n",
              "...      ...    ...  ...     ...    ...  ...             ...           ...   \n",
              "659024  2019      7   30      AA    BNA  DFW             715         709.0   \n",
              "659025  2019      7   31      AA    BNA  DFW             715         709.0   \n",
              "659026  2019      7    1      AA    MIA  TPA            1054        1048.0   \n",
              "659027  2019      7    2      AA    MIA  TPA            1054        1059.0   \n",
              "659028  2019      7    3      AA    MIA  TPA            1054        1128.0   \n",
              "\n",
              "        DEP_DELAY  SCHED_ARR_TIME  ACT_ARR_TIME  ARR_DELAY  \n",
              "0            22.0            1644        1659.0       15.0  \n",
              "1             8.0            2335        2344.0        9.0  \n",
              "2             0.0            1144        1139.0       -5.0  \n",
              "3            43.0            1827        1922.0       55.0  \n",
              "4             7.0            1107        1119.0       12.0  \n",
              "...           ...             ...           ...        ...  \n",
              "659024       -6.0             928         908.0      -20.0  \n",
              "659025       -6.0             928         858.0      -30.0  \n",
              "659026       -6.0            1207        1147.0      -20.0  \n",
              "659027        5.0            1207        1155.0      -12.0  \n",
              "659028       34.0            1207        1303.0       56.0  \n",
              "\n",
              "[659029 rows x 12 columns]"
            ],
            "text/html": [
              "\n",
              "  <div id=\"df-e0573eb9-c980-480a-8b6b-856554fb72c6\" class=\"colab-df-container\">\n",
              "    <div>\n",
              "<style scoped>\n",
              "    .dataframe tbody tr th:only-of-type {\n",
              "        vertical-align: middle;\n",
              "    }\n",
              "\n",
              "    .dataframe tbody tr th {\n",
              "        vertical-align: top;\n",
              "    }\n",
              "\n",
              "    .dataframe thead th {\n",
              "        text-align: right;\n",
              "    }\n",
              "</style>\n",
              "<table border=\"1\" class=\"dataframe\">\n",
              "  <thead>\n",
              "    <tr style=\"text-align: right;\">\n",
              "      <th></th>\n",
              "      <th>YEAR</th>\n",
              "      <th>MONTH</th>\n",
              "      <th>DAY</th>\n",
              "      <th>CARRIER</th>\n",
              "      <th>ORIGIN</th>\n",
              "      <th>DEST</th>\n",
              "      <th>SCHED_DEP_TIME</th>\n",
              "      <th>ACT_DEP_TIME</th>\n",
              "      <th>DEP_DELAY</th>\n",
              "      <th>SCHED_ARR_TIME</th>\n",
              "      <th>ACT_ARR_TIME</th>\n",
              "      <th>ARR_DELAY</th>\n",
              "    </tr>\n",
              "  </thead>\n",
              "  <tbody>\n",
              "    <tr>\n",
              "      <th>0</th>\n",
              "      <td>2019</td>\n",
              "      <td>7</td>\n",
              "      <td>24</td>\n",
              "      <td>G4</td>\n",
              "      <td>PIE</td>\n",
              "      <td>AVL</td>\n",
              "      <td>1511</td>\n",
              "      <td>1533.0</td>\n",
              "      <td>22.0</td>\n",
              "      <td>1644</td>\n",
              "      <td>1659.0</td>\n",
              "      <td>15.0</td>\n",
              "    </tr>\n",
              "    <tr>\n",
              "      <th>1</th>\n",
              "      <td>2019</td>\n",
              "      <td>7</td>\n",
              "      <td>29</td>\n",
              "      <td>G4</td>\n",
              "      <td>AUS</td>\n",
              "      <td>SFB</td>\n",
              "      <td>2002</td>\n",
              "      <td>2010.0</td>\n",
              "      <td>8.0</td>\n",
              "      <td>2335</td>\n",
              "      <td>2344.0</td>\n",
              "      <td>9.0</td>\n",
              "    </tr>\n",
              "    <tr>\n",
              "      <th>2</th>\n",
              "      <td>2019</td>\n",
              "      <td>7</td>\n",
              "      <td>7</td>\n",
              "      <td>G4</td>\n",
              "      <td>GRI</td>\n",
              "      <td>LAS</td>\n",
              "      <td>1118</td>\n",
              "      <td>1118.0</td>\n",
              "      <td>0.0</td>\n",
              "      <td>1144</td>\n",
              "      <td>1139.0</td>\n",
              "      <td>-5.0</td>\n",
              "    </tr>\n",
              "    <tr>\n",
              "      <th>3</th>\n",
              "      <td>2019</td>\n",
              "      <td>7</td>\n",
              "      <td>7</td>\n",
              "      <td>G4</td>\n",
              "      <td>AUS</td>\n",
              "      <td>MEM</td>\n",
              "      <td>1643</td>\n",
              "      <td>1726.0</td>\n",
              "      <td>43.0</td>\n",
              "      <td>1827</td>\n",
              "      <td>1922.0</td>\n",
              "      <td>55.0</td>\n",
              "    </tr>\n",
              "    <tr>\n",
              "      <th>4</th>\n",
              "      <td>2019</td>\n",
              "      <td>7</td>\n",
              "      <td>8</td>\n",
              "      <td>G4</td>\n",
              "      <td>IND</td>\n",
              "      <td>PIE</td>\n",
              "      <td>858</td>\n",
              "      <td>905.0</td>\n",
              "      <td>7.0</td>\n",
              "      <td>1107</td>\n",
              "      <td>1119.0</td>\n",
              "      <td>12.0</td>\n",
              "    </tr>\n",
              "    <tr>\n",
              "      <th>...</th>\n",
              "      <td>...</td>\n",
              "      <td>...</td>\n",
              "      <td>...</td>\n",
              "      <td>...</td>\n",
              "      <td>...</td>\n",
              "      <td>...</td>\n",
              "      <td>...</td>\n",
              "      <td>...</td>\n",
              "      <td>...</td>\n",
              "      <td>...</td>\n",
              "      <td>...</td>\n",
              "      <td>...</td>\n",
              "    </tr>\n",
              "    <tr>\n",
              "      <th>659024</th>\n",
              "      <td>2019</td>\n",
              "      <td>7</td>\n",
              "      <td>30</td>\n",
              "      <td>AA</td>\n",
              "      <td>BNA</td>\n",
              "      <td>DFW</td>\n",
              "      <td>715</td>\n",
              "      <td>709.0</td>\n",
              "      <td>-6.0</td>\n",
              "      <td>928</td>\n",
              "      <td>908.0</td>\n",
              "      <td>-20.0</td>\n",
              "    </tr>\n",
              "    <tr>\n",
              "      <th>659025</th>\n",
              "      <td>2019</td>\n",
              "      <td>7</td>\n",
              "      <td>31</td>\n",
              "      <td>AA</td>\n",
              "      <td>BNA</td>\n",
              "      <td>DFW</td>\n",
              "      <td>715</td>\n",
              "      <td>709.0</td>\n",
              "      <td>-6.0</td>\n",
              "      <td>928</td>\n",
              "      <td>858.0</td>\n",
              "      <td>-30.0</td>\n",
              "    </tr>\n",
              "    <tr>\n",
              "      <th>659026</th>\n",
              "      <td>2019</td>\n",
              "      <td>7</td>\n",
              "      <td>1</td>\n",
              "      <td>AA</td>\n",
              "      <td>MIA</td>\n",
              "      <td>TPA</td>\n",
              "      <td>1054</td>\n",
              "      <td>1048.0</td>\n",
              "      <td>-6.0</td>\n",
              "      <td>1207</td>\n",
              "      <td>1147.0</td>\n",
              "      <td>-20.0</td>\n",
              "    </tr>\n",
              "    <tr>\n",
              "      <th>659027</th>\n",
              "      <td>2019</td>\n",
              "      <td>7</td>\n",
              "      <td>2</td>\n",
              "      <td>AA</td>\n",
              "      <td>MIA</td>\n",
              "      <td>TPA</td>\n",
              "      <td>1054</td>\n",
              "      <td>1059.0</td>\n",
              "      <td>5.0</td>\n",
              "      <td>1207</td>\n",
              "      <td>1155.0</td>\n",
              "      <td>-12.0</td>\n",
              "    </tr>\n",
              "    <tr>\n",
              "      <th>659028</th>\n",
              "      <td>2019</td>\n",
              "      <td>7</td>\n",
              "      <td>3</td>\n",
              "      <td>AA</td>\n",
              "      <td>MIA</td>\n",
              "      <td>TPA</td>\n",
              "      <td>1054</td>\n",
              "      <td>1128.0</td>\n",
              "      <td>34.0</td>\n",
              "      <td>1207</td>\n",
              "      <td>1303.0</td>\n",
              "      <td>56.0</td>\n",
              "    </tr>\n",
              "  </tbody>\n",
              "</table>\n",
              "<p>659029 rows × 12 columns</p>\n",
              "</div>\n",
              "    <div class=\"colab-df-buttons\">\n",
              "\n",
              "  <div class=\"colab-df-container\">\n",
              "    <button class=\"colab-df-convert\" onclick=\"convertToInteractive('df-e0573eb9-c980-480a-8b6b-856554fb72c6')\"\n",
              "            title=\"Convert this dataframe to an interactive table.\"\n",
              "            style=\"display:none;\">\n",
              "\n",
              "  <svg xmlns=\"http://www.w3.org/2000/svg\" height=\"24px\" viewBox=\"0 -960 960 960\">\n",
              "    <path d=\"M120-120v-720h720v720H120Zm60-500h600v-160H180v160Zm220 220h160v-160H400v160Zm0 220h160v-160H400v160ZM180-400h160v-160H180v160Zm440 0h160v-160H620v160ZM180-180h160v-160H180v160Zm440 0h160v-160H620v160Z\"/>\n",
              "  </svg>\n",
              "    </button>\n",
              "\n",
              "  <style>\n",
              "    .colab-df-container {\n",
              "      display:flex;\n",
              "      gap: 12px;\n",
              "    }\n",
              "\n",
              "    .colab-df-convert {\n",
              "      background-color: #E8F0FE;\n",
              "      border: none;\n",
              "      border-radius: 50%;\n",
              "      cursor: pointer;\n",
              "      display: none;\n",
              "      fill: #1967D2;\n",
              "      height: 32px;\n",
              "      padding: 0 0 0 0;\n",
              "      width: 32px;\n",
              "    }\n",
              "\n",
              "    .colab-df-convert:hover {\n",
              "      background-color: #E2EBFA;\n",
              "      box-shadow: 0px 1px 2px rgba(60, 64, 67, 0.3), 0px 1px 3px 1px rgba(60, 64, 67, 0.15);\n",
              "      fill: #174EA6;\n",
              "    }\n",
              "\n",
              "    .colab-df-buttons div {\n",
              "      margin-bottom: 4px;\n",
              "    }\n",
              "\n",
              "    [theme=dark] .colab-df-convert {\n",
              "      background-color: #3B4455;\n",
              "      fill: #D2E3FC;\n",
              "    }\n",
              "\n",
              "    [theme=dark] .colab-df-convert:hover {\n",
              "      background-color: #434B5C;\n",
              "      box-shadow: 0px 1px 3px 1px rgba(0, 0, 0, 0.15);\n",
              "      filter: drop-shadow(0px 1px 2px rgba(0, 0, 0, 0.3));\n",
              "      fill: #FFFFFF;\n",
              "    }\n",
              "  </style>\n",
              "\n",
              "    <script>\n",
              "      const buttonEl =\n",
              "        document.querySelector('#df-e0573eb9-c980-480a-8b6b-856554fb72c6 button.colab-df-convert');\n",
              "      buttonEl.style.display =\n",
              "        google.colab.kernel.accessAllowed ? 'block' : 'none';\n",
              "\n",
              "      async function convertToInteractive(key) {\n",
              "        const element = document.querySelector('#df-e0573eb9-c980-480a-8b6b-856554fb72c6');\n",
              "        const dataTable =\n",
              "          await google.colab.kernel.invokeFunction('convertToInteractive',\n",
              "                                                    [key], {});\n",
              "        if (!dataTable) return;\n",
              "\n",
              "        const docLinkHtml = 'Like what you see? Visit the ' +\n",
              "          '<a target=\"_blank\" href=https://colab.research.google.com/notebooks/data_table.ipynb>data table notebook</a>'\n",
              "          + ' to learn more about interactive tables.';\n",
              "        element.innerHTML = '';\n",
              "        dataTable['output_type'] = 'display_data';\n",
              "        await google.colab.output.renderOutput(dataTable, element);\n",
              "        const docLink = document.createElement('div');\n",
              "        docLink.innerHTML = docLinkHtml;\n",
              "        element.appendChild(docLink);\n",
              "      }\n",
              "    </script>\n",
              "  </div>\n",
              "\n",
              "\n",
              "<div id=\"df-aa1203c5-61c3-4806-9cbc-bb7727f03c24\">\n",
              "  <button class=\"colab-df-quickchart\" onclick=\"quickchart('df-aa1203c5-61c3-4806-9cbc-bb7727f03c24')\"\n",
              "            title=\"Suggest charts\"\n",
              "            style=\"display:none;\">\n",
              "\n",
              "<svg xmlns=\"http://www.w3.org/2000/svg\" height=\"24px\"viewBox=\"0 0 24 24\"\n",
              "     width=\"24px\">\n",
              "    <g>\n",
              "        <path d=\"M19 3H5c-1.1 0-2 .9-2 2v14c0 1.1.9 2 2 2h14c1.1 0 2-.9 2-2V5c0-1.1-.9-2-2-2zM9 17H7v-7h2v7zm4 0h-2V7h2v10zm4 0h-2v-4h2v4z\"/>\n",
              "    </g>\n",
              "</svg>\n",
              "  </button>\n",
              "\n",
              "<style>\n",
              "  .colab-df-quickchart {\n",
              "      --bg-color: #E8F0FE;\n",
              "      --fill-color: #1967D2;\n",
              "      --hover-bg-color: #E2EBFA;\n",
              "      --hover-fill-color: #174EA6;\n",
              "      --disabled-fill-color: #AAA;\n",
              "      --disabled-bg-color: #DDD;\n",
              "  }\n",
              "\n",
              "  [theme=dark] .colab-df-quickchart {\n",
              "      --bg-color: #3B4455;\n",
              "      --fill-color: #D2E3FC;\n",
              "      --hover-bg-color: #434B5C;\n",
              "      --hover-fill-color: #FFFFFF;\n",
              "      --disabled-bg-color: #3B4455;\n",
              "      --disabled-fill-color: #666;\n",
              "  }\n",
              "\n",
              "  .colab-df-quickchart {\n",
              "    background-color: var(--bg-color);\n",
              "    border: none;\n",
              "    border-radius: 50%;\n",
              "    cursor: pointer;\n",
              "    display: none;\n",
              "    fill: var(--fill-color);\n",
              "    height: 32px;\n",
              "    padding: 0;\n",
              "    width: 32px;\n",
              "  }\n",
              "\n",
              "  .colab-df-quickchart:hover {\n",
              "    background-color: var(--hover-bg-color);\n",
              "    box-shadow: 0 1px 2px rgba(60, 64, 67, 0.3), 0 1px 3px 1px rgba(60, 64, 67, 0.15);\n",
              "    fill: var(--button-hover-fill-color);\n",
              "  }\n",
              "\n",
              "  .colab-df-quickchart-complete:disabled,\n",
              "  .colab-df-quickchart-complete:disabled:hover {\n",
              "    background-color: var(--disabled-bg-color);\n",
              "    fill: var(--disabled-fill-color);\n",
              "    box-shadow: none;\n",
              "  }\n",
              "\n",
              "  .colab-df-spinner {\n",
              "    border: 2px solid var(--fill-color);\n",
              "    border-color: transparent;\n",
              "    border-bottom-color: var(--fill-color);\n",
              "    animation:\n",
              "      spin 1s steps(1) infinite;\n",
              "  }\n",
              "\n",
              "  @keyframes spin {\n",
              "    0% {\n",
              "      border-color: transparent;\n",
              "      border-bottom-color: var(--fill-color);\n",
              "      border-left-color: var(--fill-color);\n",
              "    }\n",
              "    20% {\n",
              "      border-color: transparent;\n",
              "      border-left-color: var(--fill-color);\n",
              "      border-top-color: var(--fill-color);\n",
              "    }\n",
              "    30% {\n",
              "      border-color: transparent;\n",
              "      border-left-color: var(--fill-color);\n",
              "      border-top-color: var(--fill-color);\n",
              "      border-right-color: var(--fill-color);\n",
              "    }\n",
              "    40% {\n",
              "      border-color: transparent;\n",
              "      border-right-color: var(--fill-color);\n",
              "      border-top-color: var(--fill-color);\n",
              "    }\n",
              "    60% {\n",
              "      border-color: transparent;\n",
              "      border-right-color: var(--fill-color);\n",
              "    }\n",
              "    80% {\n",
              "      border-color: transparent;\n",
              "      border-right-color: var(--fill-color);\n",
              "      border-bottom-color: var(--fill-color);\n",
              "    }\n",
              "    90% {\n",
              "      border-color: transparent;\n",
              "      border-bottom-color: var(--fill-color);\n",
              "    }\n",
              "  }\n",
              "</style>\n",
              "\n",
              "  <script>\n",
              "    async function quickchart(key) {\n",
              "      const quickchartButtonEl =\n",
              "        document.querySelector('#' + key + ' button');\n",
              "      quickchartButtonEl.disabled = true;  // To prevent multiple clicks.\n",
              "      quickchartButtonEl.classList.add('colab-df-spinner');\n",
              "      try {\n",
              "        const charts = await google.colab.kernel.invokeFunction(\n",
              "            'suggestCharts', [key], {});\n",
              "      } catch (error) {\n",
              "        console.error('Error during call to suggestCharts:', error);\n",
              "      }\n",
              "      quickchartButtonEl.classList.remove('colab-df-spinner');\n",
              "      quickchartButtonEl.classList.add('colab-df-quickchart-complete');\n",
              "    }\n",
              "    (() => {\n",
              "      let quickchartButtonEl =\n",
              "        document.querySelector('#df-aa1203c5-61c3-4806-9cbc-bb7727f03c24 button');\n",
              "      quickchartButtonEl.style.display =\n",
              "        google.colab.kernel.accessAllowed ? 'block' : 'none';\n",
              "    })();\n",
              "  </script>\n",
              "</div>\n",
              "\n",
              "  <div id=\"id_f7fd4b06-a0a6-4bcc-ae55-2e471092a48a\">\n",
              "    <style>\n",
              "      .colab-df-generate {\n",
              "        background-color: #E8F0FE;\n",
              "        border: none;\n",
              "        border-radius: 50%;\n",
              "        cursor: pointer;\n",
              "        display: none;\n",
              "        fill: #1967D2;\n",
              "        height: 32px;\n",
              "        padding: 0 0 0 0;\n",
              "        width: 32px;\n",
              "      }\n",
              "\n",
              "      .colab-df-generate:hover {\n",
              "        background-color: #E2EBFA;\n",
              "        box-shadow: 0px 1px 2px rgba(60, 64, 67, 0.3), 0px 1px 3px 1px rgba(60, 64, 67, 0.15);\n",
              "        fill: #174EA6;\n",
              "      }\n",
              "\n",
              "      [theme=dark] .colab-df-generate {\n",
              "        background-color: #3B4455;\n",
              "        fill: #D2E3FC;\n",
              "      }\n",
              "\n",
              "      [theme=dark] .colab-df-generate:hover {\n",
              "        background-color: #434B5C;\n",
              "        box-shadow: 0px 1px 3px 1px rgba(0, 0, 0, 0.15);\n",
              "        filter: drop-shadow(0px 1px 2px rgba(0, 0, 0, 0.3));\n",
              "        fill: #FFFFFF;\n",
              "      }\n",
              "    </style>\n",
              "    <button class=\"colab-df-generate\" onclick=\"generateWithVariable('df')\"\n",
              "            title=\"Generate code using this dataframe.\"\n",
              "            style=\"display:none;\">\n",
              "\n",
              "  <svg xmlns=\"http://www.w3.org/2000/svg\" height=\"24px\"viewBox=\"0 0 24 24\"\n",
              "       width=\"24px\">\n",
              "    <path d=\"M7,19H8.4L18.45,9,17,7.55,7,17.6ZM5,21V16.75L18.45,3.32a2,2,0,0,1,2.83,0l1.4,1.43a1.91,1.91,0,0,1,.58,1.4,1.91,1.91,0,0,1-.58,1.4L9.25,21ZM18.45,9,17,7.55Zm-12,3A5.31,5.31,0,0,0,4.9,8.1,5.31,5.31,0,0,0,1,6.5,5.31,5.31,0,0,0,4.9,4.9,5.31,5.31,0,0,0,6.5,1,5.31,5.31,0,0,0,8.1,4.9,5.31,5.31,0,0,0,12,6.5,5.46,5.46,0,0,0,6.5,12Z\"/>\n",
              "  </svg>\n",
              "    </button>\n",
              "    <script>\n",
              "      (() => {\n",
              "      const buttonEl =\n",
              "        document.querySelector('#id_f7fd4b06-a0a6-4bcc-ae55-2e471092a48a button.colab-df-generate');\n",
              "      buttonEl.style.display =\n",
              "        google.colab.kernel.accessAllowed ? 'block' : 'none';\n",
              "\n",
              "      buttonEl.onclick = () => {\n",
              "        google.colab.notebook.generateWithVariable('df');\n",
              "      }\n",
              "      })();\n",
              "    </script>\n",
              "  </div>\n",
              "\n",
              "    </div>\n",
              "  </div>\n"
            ],
            "application/vnd.google.colaboratory.intrinsic+json": {
              "type": "dataframe",
              "variable_name": "df"
            }
          },
          "metadata": {},
          "execution_count": 6
        }
      ]
    },
    {
      "cell_type": "code",
      "source": [
        "#Calculating the Airport which has the longest average delay\n",
        "\n",
        "df.groupby('ORIGIN').mean()[\"DEP_DELAY\"].idxmax()"
      ],
      "metadata": {
        "colab": {
          "base_uri": "https://localhost:8080/",
          "height": 92
        },
        "id": "rK1NfJUqt7FM",
        "outputId": "d8c4a752-c481-4cb9-cf21-8c0e60eba944"
      },
      "execution_count": 7,
      "outputs": [
        {
          "output_type": "stream",
          "name": "stderr",
          "text": [
            "<ipython-input-7-af60618be1fa>:3: FutureWarning: The default value of numeric_only in DataFrameGroupBy.mean is deprecated. In a future version, numeric_only will default to False. Either specify numeric_only or select only columns which should be valid for the function.\n",
            "  df.groupby('ORIGIN').mean()[\"DEP_DELAY\"].idxmax()\n"
          ]
        },
        {
          "output_type": "execute_result",
          "data": {
            "text/plain": [
              "'PPG'"
            ],
            "application/vnd.google.colaboratory.intrinsic+json": {
              "type": "string"
            }
          },
          "metadata": {},
          "execution_count": 7
        }
      ]
    },
    {
      "cell_type": "markdown",
      "source": [
        "# Importing the scikit-learn"
      ],
      "metadata": {
        "id": "yraQAwhVvX04"
      }
    },
    {
      "cell_type": "code",
      "source": [
        "#pip install scikit-learn"
      ],
      "metadata": {
        "id": "bXt3Od01vaIj"
      },
      "execution_count": 8,
      "outputs": []
    },
    {
      "cell_type": "markdown",
      "source": [
        "# CountVectorization module"
      ],
      "metadata": {
        "id": "Zp34aNlgxQq-"
      }
    },
    {
      "cell_type": "code",
      "source": [
        "# Using the CountVectorization module\n",
        "\n",
        "from sklearn.feature_extraction.text import CountVectorizer\n",
        "sentence=[\"I think with the bat we progressed Nepal head coach Monty Desai hails the team's performance and highlights the key takeaways from asiacup\"]\n",
        "vectorizer= CountVectorizer(stop_words='english')\n",
        "vectorizer.fit_transform(sentence).todense()\n"
      ],
      "metadata": {
        "colab": {
          "base_uri": "https://localhost:8080/"
        },
        "id": "fFfYyBpZvkty",
        "outputId": "c9bba808-606e-4845-b6be-0389e8ae8d32"
      },
      "execution_count": 9,
      "outputs": [
        {
          "output_type": "execute_result",
          "data": {
            "text/plain": [
              "matrix([[1, 1, 1, 1, 1, 1, 1, 1, 1, 1, 1, 1, 1, 1, 1]])"
            ]
          },
          "metadata": {},
          "execution_count": 9
        }
      ]
    },
    {
      "cell_type": "markdown",
      "source": [
        "# NLTK"
      ],
      "metadata": {
        "id": "0CdNEbfSxUto"
      }
    },
    {
      "cell_type": "code",
      "source": [
        "#pip install nltk\n",
        "import nltk\n",
        "nltk.download('punkt')\n"
      ],
      "metadata": {
        "colab": {
          "base_uri": "https://localhost:8080/"
        },
        "id": "L_gFAxbaxW2A",
        "outputId": "3ea61152-50d4-431b-e217-5d392091da41"
      },
      "execution_count": 10,
      "outputs": [
        {
          "output_type": "stream",
          "name": "stderr",
          "text": [
            "[nltk_data] Downloading package punkt to /root/nltk_data...\n",
            "[nltk_data]   Package punkt is already up-to-date!\n"
          ]
        },
        {
          "output_type": "execute_result",
          "data": {
            "text/plain": [
              "True"
            ]
          },
          "metadata": {},
          "execution_count": 10
        }
      ]
    },
    {
      "cell_type": "code",
      "source": [
        "text= \"I think I have a positive mindset as a cricketer and I really enjoy accepting challenges and performing beyond my comfort zone, especially in overseas conditions.\"\n"
      ],
      "metadata": {
        "id": "dcS9VHlDxZLd"
      },
      "execution_count": 11,
      "outputs": []
    },
    {
      "cell_type": "markdown",
      "source": [
        "# Tokenization"
      ],
      "metadata": {
        "id": "wZmzWnHVZsmk"
      }
    },
    {
      "cell_type": "code",
      "source": [
        "from nltk.tokenize import word_tokenize\n",
        "\n",
        "tokens= word_tokenize(text)\n",
        "print(tokens)"
      ],
      "metadata": {
        "colab": {
          "base_uri": "https://localhost:8080/"
        },
        "id": "snnlFWLmx6VY",
        "outputId": "66abe228-b8c1-421b-b774-d99bbdfabc5b"
      },
      "execution_count": 12,
      "outputs": [
        {
          "output_type": "stream",
          "name": "stdout",
          "text": [
            "['I', 'think', 'I', 'have', 'a', 'positive', 'mindset', 'as', 'a', 'cricketer', 'and', 'I', 'really', 'enjoy', 'accepting', 'challenges', 'and', 'performing', 'beyond', 'my', 'comfort', 'zone', ',', 'especially', 'in', 'overseas', 'conditions', '.']\n"
          ]
        }
      ]
    },
    {
      "cell_type": "markdown",
      "source": [
        "# Stopwords"
      ],
      "metadata": {
        "id": "Ht8gWxX3Zx5p"
      }
    },
    {
      "cell_type": "code",
      "source": [
        "nltk.download('stopwords')\n",
        "stopwords= nltk.corpus.stopwords.words('english')\n",
        "print(stopwords)"
      ],
      "metadata": {
        "colab": {
          "base_uri": "https://localhost:8080/"
        },
        "id": "FjdMB5R_yIll",
        "outputId": "77e59262-1d8c-4d81-dd44-5bf946d88951"
      },
      "execution_count": 13,
      "outputs": [
        {
          "output_type": "stream",
          "name": "stdout",
          "text": [
            "['i', 'me', 'my', 'myself', 'we', 'our', 'ours', 'ourselves', 'you', \"you're\", \"you've\", \"you'll\", \"you'd\", 'your', 'yours', 'yourself', 'yourselves', 'he', 'him', 'his', 'himself', 'she', \"she's\", 'her', 'hers', 'herself', 'it', \"it's\", 'its', 'itself', 'they', 'them', 'their', 'theirs', 'themselves', 'what', 'which', 'who', 'whom', 'this', 'that', \"that'll\", 'these', 'those', 'am', 'is', 'are', 'was', 'were', 'be', 'been', 'being', 'have', 'has', 'had', 'having', 'do', 'does', 'did', 'doing', 'a', 'an', 'the', 'and', 'but', 'if', 'or', 'because', 'as', 'until', 'while', 'of', 'at', 'by', 'for', 'with', 'about', 'against', 'between', 'into', 'through', 'during', 'before', 'after', 'above', 'below', 'to', 'from', 'up', 'down', 'in', 'out', 'on', 'off', 'over', 'under', 'again', 'further', 'then', 'once', 'here', 'there', 'when', 'where', 'why', 'how', 'all', 'any', 'both', 'each', 'few', 'more', 'most', 'other', 'some', 'such', 'no', 'nor', 'not', 'only', 'own', 'same', 'so', 'than', 'too', 'very', 's', 't', 'can', 'will', 'just', 'don', \"don't\", 'should', \"should've\", 'now', 'd', 'll', 'm', 'o', 're', 've', 'y', 'ain', 'aren', \"aren't\", 'couldn', \"couldn't\", 'didn', \"didn't\", 'doesn', \"doesn't\", 'hadn', \"hadn't\", 'hasn', \"hasn't\", 'haven', \"haven't\", 'isn', \"isn't\", 'ma', 'mightn', \"mightn't\", 'mustn', \"mustn't\", 'needn', \"needn't\", 'shan', \"shan't\", 'shouldn', \"shouldn't\", 'wasn', \"wasn't\", 'weren', \"weren't\", 'won', \"won't\", 'wouldn', \"wouldn't\"]\n"
          ]
        },
        {
          "output_type": "stream",
          "name": "stderr",
          "text": [
            "[nltk_data] Downloading package stopwords to /root/nltk_data...\n",
            "[nltk_data]   Package stopwords is already up-to-date!\n"
          ]
        }
      ]
    },
    {
      "cell_type": "code",
      "source": [
        "newtokens=[word for word in tokens if word not in stopwords]"
      ],
      "metadata": {
        "id": "7Lh0ovulyev7"
      },
      "execution_count": 14,
      "outputs": []
    },
    {
      "cell_type": "code",
      "source": [
        "newtokens"
      ],
      "metadata": {
        "id": "p15aTiGay0kS",
        "outputId": "ee410629-9b3b-45c4-caeb-0aea78b65140",
        "colab": {
          "base_uri": "https://localhost:8080/"
        }
      },
      "execution_count": 15,
      "outputs": [
        {
          "output_type": "execute_result",
          "data": {
            "text/plain": [
              "['I',\n",
              " 'think',\n",
              " 'I',\n",
              " 'positive',\n",
              " 'mindset',\n",
              " 'cricketer',\n",
              " 'I',\n",
              " 'really',\n",
              " 'enjoy',\n",
              " 'accepting',\n",
              " 'challenges',\n",
              " 'performing',\n",
              " 'beyond',\n",
              " 'comfort',\n",
              " 'zone',\n",
              " ',',\n",
              " 'especially',\n",
              " 'overseas',\n",
              " 'conditions',\n",
              " '.']"
            ]
          },
          "metadata": {},
          "execution_count": 15
        }
      ]
    },
    {
      "cell_type": "markdown",
      "source": [
        "# Lemmatization"
      ],
      "metadata": {
        "id": "qnkcglZdZkPC"
      }
    },
    {
      "cell_type": "code",
      "source": [
        "from nltk.stem import WordNetLemmatizer\n",
        "nltk.download('wordnet')"
      ],
      "metadata": {
        "id": "vXv-VUQqy4Ar",
        "colab": {
          "base_uri": "https://localhost:8080/"
        },
        "outputId": "4ba2bd80-b3c3-4663-a39b-5a1da42c85e4"
      },
      "execution_count": 16,
      "outputs": [
        {
          "output_type": "stream",
          "name": "stderr",
          "text": [
            "[nltk_data] Downloading package wordnet to /root/nltk_data...\n",
            "[nltk_data]   Package wordnet is already up-to-date!\n"
          ]
        },
        {
          "output_type": "execute_result",
          "data": {
            "text/plain": [
              "True"
            ]
          },
          "metadata": {},
          "execution_count": 16
        }
      ]
    },
    {
      "cell_type": "code",
      "source": [
        "text= \"I think I have a positive mindset as a cricketer and I really enjoy accepting challenges and performing beyond my comfort zone, especially in overseas conditions.\"\n"
      ],
      "metadata": {
        "id": "euOCIupXUzFC"
      },
      "execution_count": 17,
      "outputs": []
    },
    {
      "cell_type": "code",
      "source": [
        "tokens= word_tokenize(text)\n",
        "lemmatizer= WordNetLemmatizer()\n",
        "tokens=[lemmatizer.lemmatize(word) for word in tokens]\n",
        "print(tokens)"
      ],
      "metadata": {
        "colab": {
          "base_uri": "https://localhost:8080/"
        },
        "id": "QaRcOyLcZ50y",
        "outputId": "b71db8cc-4de6-4845-cdd4-93930eb3afbb"
      },
      "execution_count": 18,
      "outputs": [
        {
          "output_type": "stream",
          "name": "stdout",
          "text": [
            "['I', 'think', 'I', 'have', 'a', 'positive', 'mindset', 'a', 'a', 'cricketer', 'and', 'I', 'really', 'enjoy', 'accepting', 'challenge', 'and', 'performing', 'beyond', 'my', 'comfort', 'zone', ',', 'especially', 'in', 'overseas', 'condition', '.']\n"
          ]
        }
      ]
    },
    {
      "cell_type": "markdown",
      "source": [
        "# PorterStemmer"
      ],
      "metadata": {
        "id": "mB_ktAkhcoxR"
      }
    },
    {
      "cell_type": "code",
      "source": [
        "from nltk.stem import PorterStemmer\n",
        "from nltk.tokenize import word_tokenize"
      ],
      "metadata": {
        "id": "TURfk2DWaEFv"
      },
      "execution_count": 19,
      "outputs": []
    },
    {
      "cell_type": "code",
      "source": [
        "text= \"I think I have a positive mindset as a cricketer and I really enjoy accepting challenges and performing beyond my comfort zone, especially in overseas conditions.\"\n"
      ],
      "metadata": {
        "id": "c8PtZIkkcNTP"
      },
      "execution_count": 20,
      "outputs": []
    },
    {
      "cell_type": "code",
      "source": [
        "tokens= word_tokenize(text.lower())\n",
        "ps=PorterStemmer()\n",
        "tokens=[ps.stem(word) for word in tokens]\n",
        "print(tokens)"
      ],
      "metadata": {
        "colab": {
          "base_uri": "https://localhost:8080/"
        },
        "id": "ULXbZV2tcT61",
        "outputId": "377e569c-bfa6-49fa-9f6e-05ce9c658032"
      },
      "execution_count": 21,
      "outputs": [
        {
          "output_type": "stream",
          "name": "stdout",
          "text": [
            "['i', 'think', 'i', 'have', 'a', 'posit', 'mindset', 'as', 'a', 'cricket', 'and', 'i', 'realli', 'enjoy', 'accept', 'challeng', 'and', 'perform', 'beyond', 'my', 'comfort', 'zone', ',', 'especi', 'in', 'oversea', 'condit', '.']\n"
          ]
        }
      ]
    },
    {
      "cell_type": "markdown",
      "source": [
        "# Part of speech tagging"
      ],
      "metadata": {
        "id": "KKeVGeKlc1g_"
      }
    },
    {
      "cell_type": "code",
      "source": [
        "nltk.download('averaged_perceptron_tagger')"
      ],
      "metadata": {
        "colab": {
          "base_uri": "https://localhost:8080/"
        },
        "id": "xqz0CmFecj62",
        "outputId": "b1247701-6c70-4772-bc4f-98f0bd5559d6"
      },
      "execution_count": 22,
      "outputs": [
        {
          "output_type": "stream",
          "name": "stderr",
          "text": [
            "[nltk_data] Downloading package averaged_perceptron_tagger to\n",
            "[nltk_data]     /root/nltk_data...\n",
            "[nltk_data]   Package averaged_perceptron_tagger is already up-to-\n",
            "[nltk_data]       date!\n"
          ]
        },
        {
          "output_type": "execute_result",
          "data": {
            "text/plain": [
              "True"
            ]
          },
          "metadata": {},
          "execution_count": 22
        }
      ]
    },
    {
      "cell_type": "code",
      "source": [
        "nltk.pos_tag(['your'])"
      ],
      "metadata": {
        "colab": {
          "base_uri": "https://localhost:8080/"
        },
        "id": "4rB8-EYZc_TK",
        "outputId": "c885bc46-83b5-4add-8a10-239f872b588a"
      },
      "execution_count": 23,
      "outputs": [
        {
          "output_type": "execute_result",
          "data": {
            "text/plain": [
              "[('your', 'PRP$')]"
            ]
          },
          "metadata": {},
          "execution_count": 23
        }
      ]
    },
    {
      "cell_type": "code",
      "source": [
        "nltk.pos_tag(['beautiful'])"
      ],
      "metadata": {
        "colab": {
          "base_uri": "https://localhost:8080/"
        },
        "id": "nYW5_C4jdOyc",
        "outputId": "96ef608c-59c0-4055-94c9-9b16b81c8507"
      },
      "execution_count": 24,
      "outputs": [
        {
          "output_type": "execute_result",
          "data": {
            "text/plain": [
              "[('beautiful', 'NN')]"
            ]
          },
          "metadata": {},
          "execution_count": 24
        }
      ]
    },
    {
      "cell_type": "code",
      "source": [
        "from nltk.tokenize import word_tokenize\n",
        "text=\" Nepal Police has promoted record-breaking cricketer Dipendra Singh Airee, recognising his outstanding performance in the Asian Games.\"\n",
        "tokens= word_tokenize(text)\n",
        "[nltk.pos_tag([word]) for word in tokens]"
      ],
      "metadata": {
        "colab": {
          "base_uri": "https://localhost:8080/"
        },
        "id": "Xp6b4fgmdY40",
        "outputId": "921b8d93-194c-4a15-bef8-058924fd99c4"
      },
      "execution_count": 25,
      "outputs": [
        {
          "output_type": "execute_result",
          "data": {
            "text/plain": [
              "[[('Nepal', 'NN')],\n",
              " [('Police', 'NNS')],\n",
              " [('has', 'VBZ')],\n",
              " [('promoted', 'VBN')],\n",
              " [('record-breaking', 'NN')],\n",
              " [('cricketer', 'NN')],\n",
              " [('Dipendra', 'NN')],\n",
              " [('Singh', 'NN')],\n",
              " [('Airee', 'NN')],\n",
              " [(',', ',')],\n",
              " [('recognising', 'VBG')],\n",
              " [('his', 'PRP$')],\n",
              " [('outstanding', 'JJ')],\n",
              " [('performance', 'NN')],\n",
              " [('in', 'IN')],\n",
              " [('the', 'DT')],\n",
              " [('Asian', 'JJ')],\n",
              " [('Games', 'NNS')],\n",
              " [('.', '.')]]"
            ]
          },
          "metadata": {},
          "execution_count": 25
        }
      ]
    },
    {
      "cell_type": "code",
      "source": [
        "import nltk\n",
        "nltk.download('tagsets')\n",
        "nltk.help.upenn_tagset()"
      ],
      "metadata": {
        "colab": {
          "base_uri": "https://localhost:8080/"
        },
        "id": "z8Ql_6TzdxkS",
        "outputId": "1266a4f4-dec7-4e39-957c-0200b1df3c9e"
      },
      "execution_count": 26,
      "outputs": [
        {
          "output_type": "stream",
          "name": "stdout",
          "text": [
            "$: dollar\n",
            "    $ -$ --$ A$ C$ HK$ M$ NZ$ S$ U.S.$ US$\n",
            "'': closing quotation mark\n",
            "    ' ''\n",
            "(: opening parenthesis\n",
            "    ( [ {\n",
            "): closing parenthesis\n",
            "    ) ] }\n",
            ",: comma\n",
            "    ,\n",
            "--: dash\n",
            "    --\n",
            ".: sentence terminator\n",
            "    . ! ?\n",
            ":: colon or ellipsis\n",
            "    : ; ...\n",
            "CC: conjunction, coordinating\n",
            "    & 'n and both but either et for less minus neither nor or plus so\n",
            "    therefore times v. versus vs. whether yet\n",
            "CD: numeral, cardinal\n",
            "    mid-1890 nine-thirty forty-two one-tenth ten million 0.5 one forty-\n",
            "    seven 1987 twenty '79 zero two 78-degrees eighty-four IX '60s .025\n",
            "    fifteen 271,124 dozen quintillion DM2,000 ...\n",
            "DT: determiner\n",
            "    all an another any both del each either every half la many much nary\n",
            "    neither no some such that the them these this those\n",
            "EX: existential there\n",
            "    there\n",
            "FW: foreign word\n",
            "    gemeinschaft hund ich jeux habeas Haementeria Herr K'ang-si vous\n",
            "    lutihaw alai je jour objets salutaris fille quibusdam pas trop Monte\n",
            "    terram fiche oui corporis ...\n",
            "IN: preposition or conjunction, subordinating\n",
            "    astride among uppon whether out inside pro despite on by throughout\n",
            "    below within for towards near behind atop around if like until below\n",
            "    next into if beside ...\n",
            "JJ: adjective or numeral, ordinal\n",
            "    third ill-mannered pre-war regrettable oiled calamitous first separable\n",
            "    ectoplasmic battery-powered participatory fourth still-to-be-named\n",
            "    multilingual multi-disciplinary ...\n",
            "JJR: adjective, comparative\n",
            "    bleaker braver breezier briefer brighter brisker broader bumper busier\n",
            "    calmer cheaper choosier cleaner clearer closer colder commoner costlier\n",
            "    cozier creamier crunchier cuter ...\n",
            "JJS: adjective, superlative\n",
            "    calmest cheapest choicest classiest cleanest clearest closest commonest\n",
            "    corniest costliest crassest creepiest crudest cutest darkest deadliest\n",
            "    dearest deepest densest dinkiest ...\n",
            "LS: list item marker\n",
            "    A A. B B. C C. D E F First G H I J K One SP-44001 SP-44002 SP-44005\n",
            "    SP-44007 Second Third Three Two * a b c d first five four one six three\n",
            "    two\n",
            "MD: modal auxiliary\n",
            "    can cannot could couldn't dare may might must need ought shall should\n",
            "    shouldn't will would\n",
            "NN: noun, common, singular or mass\n",
            "    common-carrier cabbage knuckle-duster Casino afghan shed thermostat\n",
            "    investment slide humour falloff slick wind hyena override subhumanity\n",
            "    machinist ...\n",
            "NNP: noun, proper, singular\n",
            "    Motown Venneboerger Czestochwa Ranzer Conchita Trumplane Christos\n",
            "    Oceanside Escobar Kreisler Sawyer Cougar Yvette Ervin ODI Darryl CTCA\n",
            "    Shannon A.K.C. Meltex Liverpool ...\n",
            "NNPS: noun, proper, plural\n",
            "    Americans Americas Amharas Amityvilles Amusements Anarcho-Syndicalists\n",
            "    Andalusians Andes Andruses Angels Animals Anthony Antilles Antiques\n",
            "    Apache Apaches Apocrypha ...\n",
            "NNS: noun, common, plural\n",
            "    undergraduates scotches bric-a-brac products bodyguards facets coasts\n",
            "    divestitures storehouses designs clubs fragrances averages\n",
            "    subjectivists apprehensions muses factory-jobs ...\n",
            "PDT: pre-determiner\n",
            "    all both half many quite such sure this\n",
            "POS: genitive marker\n",
            "    ' 's\n",
            "PRP: pronoun, personal\n",
            "    hers herself him himself hisself it itself me myself one oneself ours\n",
            "    ourselves ownself self she thee theirs them themselves they thou thy us\n",
            "PRP$: pronoun, possessive\n",
            "    her his mine my our ours their thy your\n",
            "RB: adverb\n",
            "    occasionally unabatingly maddeningly adventurously professedly\n",
            "    stirringly prominently technologically magisterially predominately\n",
            "    swiftly fiscally pitilessly ...\n",
            "RBR: adverb, comparative\n",
            "    further gloomier grander graver greater grimmer harder harsher\n",
            "    healthier heavier higher however larger later leaner lengthier less-\n",
            "    perfectly lesser lonelier longer louder lower more ...\n",
            "RBS: adverb, superlative\n",
            "    best biggest bluntest earliest farthest first furthest hardest\n",
            "    heartiest highest largest least less most nearest second tightest worst\n",
            "RP: particle\n",
            "    aboard about across along apart around aside at away back before behind\n",
            "    by crop down ever fast for forth from go high i.e. in into just later\n",
            "    low more off on open out over per pie raising start teeth that through\n",
            "    under unto up up-pp upon whole with you\n",
            "SYM: symbol\n",
            "    % & ' '' ''. ) ). * + ,. < = > @ A[fj] U.S U.S.S.R * ** ***\n",
            "TO: \"to\" as preposition or infinitive marker\n",
            "    to\n",
            "UH: interjection\n",
            "    Goodbye Goody Gosh Wow Jeepers Jee-sus Hubba Hey Kee-reist Oops amen\n",
            "    huh howdy uh dammit whammo shucks heck anyways whodunnit honey golly\n",
            "    man baby diddle hush sonuvabitch ...\n",
            "VB: verb, base form\n",
            "    ask assemble assess assign assume atone attention avoid bake balkanize\n",
            "    bank begin behold believe bend benefit bevel beware bless boil bomb\n",
            "    boost brace break bring broil brush build ...\n",
            "VBD: verb, past tense\n",
            "    dipped pleaded swiped regummed soaked tidied convened halted registered\n",
            "    cushioned exacted snubbed strode aimed adopted belied figgered\n",
            "    speculated wore appreciated contemplated ...\n",
            "VBG: verb, present participle or gerund\n",
            "    telegraphing stirring focusing angering judging stalling lactating\n",
            "    hankerin' alleging veering capping approaching traveling besieging\n",
            "    encrypting interrupting erasing wincing ...\n",
            "VBN: verb, past participle\n",
            "    multihulled dilapidated aerosolized chaired languished panelized used\n",
            "    experimented flourished imitated reunifed factored condensed sheared\n",
            "    unsettled primed dubbed desired ...\n",
            "VBP: verb, present tense, not 3rd person singular\n",
            "    predominate wrap resort sue twist spill cure lengthen brush terminate\n",
            "    appear tend stray glisten obtain comprise detest tease attract\n",
            "    emphasize mold postpone sever return wag ...\n",
            "VBZ: verb, present tense, 3rd person singular\n",
            "    bases reconstructs marks mixes displeases seals carps weaves snatches\n",
            "    slumps stretches authorizes smolders pictures emerges stockpiles\n",
            "    seduces fizzes uses bolsters slaps speaks pleads ...\n",
            "WDT: WH-determiner\n",
            "    that what whatever which whichever\n",
            "WP: WH-pronoun\n",
            "    that what whatever whatsoever which who whom whosoever\n",
            "WP$: WH-pronoun, possessive\n",
            "    whose\n",
            "WRB: Wh-adverb\n",
            "    how however whence whenever where whereby whereever wherein whereof why\n",
            "``: opening quotation mark\n",
            "    ` ``\n"
          ]
        },
        {
          "output_type": "stream",
          "name": "stderr",
          "text": [
            "[nltk_data] Downloading package tagsets to /root/nltk_data...\n",
            "[nltk_data]   Package tagsets is already up-to-date!\n"
          ]
        }
      ]
    },
    {
      "cell_type": "markdown",
      "source": [
        "# textblob\n"
      ],
      "metadata": {
        "id": "uk709BC0ghzs"
      }
    },
    {
      "cell_type": "code",
      "source": [
        "pip install -U textblob"
      ],
      "metadata": {
        "colab": {
          "base_uri": "https://localhost:8080/"
        },
        "id": "soH_inpegkpx",
        "outputId": "b2e40041-f984-4df1-8d27-569a72f053be"
      },
      "execution_count": 27,
      "outputs": [
        {
          "output_type": "stream",
          "name": "stdout",
          "text": [
            "Requirement already satisfied: textblob in /usr/local/lib/python3.10/dist-packages (0.18.0.post0)\n",
            "Requirement already satisfied: nltk>=3.8 in /usr/local/lib/python3.10/dist-packages (from textblob) (3.8.1)\n",
            "Requirement already satisfied: click in /usr/local/lib/python3.10/dist-packages (from nltk>=3.8->textblob) (8.1.7)\n",
            "Requirement already satisfied: joblib in /usr/local/lib/python3.10/dist-packages (from nltk>=3.8->textblob) (1.3.2)\n",
            "Requirement already satisfied: regex>=2021.8.3 in /usr/local/lib/python3.10/dist-packages (from nltk>=3.8->textblob) (2023.12.25)\n",
            "Requirement already satisfied: tqdm in /usr/local/lib/python3.10/dist-packages (from nltk>=3.8->textblob) (4.66.2)\n"
          ]
        }
      ]
    },
    {
      "cell_type": "code",
      "source": [
        "from textblob import TextBlob"
      ],
      "metadata": {
        "id": "zxMmOBeAgppX"
      },
      "execution_count": 28,
      "outputs": []
    },
    {
      "cell_type": "code",
      "source": [
        "TextBlob(\"I love cricket\").sentiment"
      ],
      "metadata": {
        "colab": {
          "base_uri": "https://localhost:8080/"
        },
        "id": "yaT-uZWTgxLJ",
        "outputId": "97ef5c63-677d-4c51-cfc4-6a04eeffbcf3"
      },
      "execution_count": 29,
      "outputs": [
        {
          "output_type": "execute_result",
          "data": {
            "text/plain": [
              "Sentiment(polarity=0.5, subjectivity=0.6)"
            ]
          },
          "metadata": {},
          "execution_count": 29
        }
      ]
    },
    {
      "cell_type": "code",
      "source": [
        "TextBlob(\"The weather is excellent\").sentiment"
      ],
      "metadata": {
        "colab": {
          "base_uri": "https://localhost:8080/"
        },
        "id": "GepcAC1Sg2yr",
        "outputId": "d3db5d32-9a55-48b8-9162-0446683ba997"
      },
      "execution_count": 30,
      "outputs": [
        {
          "output_type": "execute_result",
          "data": {
            "text/plain": [
              "Sentiment(polarity=1.0, subjectivity=1.0)"
            ]
          },
          "metadata": {},
          "execution_count": 30
        }
      ]
    },
    {
      "cell_type": "code",
      "source": [
        "TextBlob(\"What a terrible thing to say\").sentiment"
      ],
      "metadata": {
        "colab": {
          "base_uri": "https://localhost:8080/"
        },
        "id": "EGwexdaahBXP",
        "outputId": "d98ba27f-a76c-48a4-badd-add9fdca62fe"
      },
      "execution_count": 31,
      "outputs": [
        {
          "output_type": "execute_result",
          "data": {
            "text/plain": [
              "Sentiment(polarity=-1.0, subjectivity=1.0)"
            ]
          },
          "metadata": {},
          "execution_count": 31
        }
      ]
    },
    {
      "cell_type": "code",
      "source": [
        "pip install googletrans==4.0.0-rc1\n"
      ],
      "metadata": {
        "colab": {
          "base_uri": "https://localhost:8080/"
        },
        "id": "D7v3DWf_hbs3",
        "outputId": "6fcbf180-9e0a-4926-9b80-3d30769a92b2"
      },
      "execution_count": 32,
      "outputs": [
        {
          "output_type": "stream",
          "name": "stdout",
          "text": [
            "Requirement already satisfied: googletrans==4.0.0-rc1 in /usr/local/lib/python3.10/dist-packages (4.0.0rc1)\n",
            "Requirement already satisfied: httpx==0.13.3 in /usr/local/lib/python3.10/dist-packages (from googletrans==4.0.0-rc1) (0.13.3)\n",
            "Requirement already satisfied: certifi in /usr/local/lib/python3.10/dist-packages (from httpx==0.13.3->googletrans==4.0.0-rc1) (2024.2.2)\n",
            "Requirement already satisfied: hstspreload in /usr/local/lib/python3.10/dist-packages (from httpx==0.13.3->googletrans==4.0.0-rc1) (2024.2.1)\n",
            "Requirement already satisfied: sniffio in /usr/local/lib/python3.10/dist-packages (from httpx==0.13.3->googletrans==4.0.0-rc1) (1.3.0)\n",
            "Requirement already satisfied: chardet==3.* in /usr/local/lib/python3.10/dist-packages (from httpx==0.13.3->googletrans==4.0.0-rc1) (3.0.4)\n",
            "Requirement already satisfied: idna==2.* in /usr/local/lib/python3.10/dist-packages (from httpx==0.13.3->googletrans==4.0.0-rc1) (2.10)\n",
            "Requirement already satisfied: rfc3986<2,>=1.3 in /usr/local/lib/python3.10/dist-packages (from httpx==0.13.3->googletrans==4.0.0-rc1) (1.5.0)\n",
            "Requirement already satisfied: httpcore==0.9.* in /usr/local/lib/python3.10/dist-packages (from httpx==0.13.3->googletrans==4.0.0-rc1) (0.9.1)\n",
            "Requirement already satisfied: h11<0.10,>=0.8 in /usr/local/lib/python3.10/dist-packages (from httpcore==0.9.*->httpx==0.13.3->googletrans==4.0.0-rc1) (0.9.0)\n",
            "Requirement already satisfied: h2==3.* in /usr/local/lib/python3.10/dist-packages (from httpcore==0.9.*->httpx==0.13.3->googletrans==4.0.0-rc1) (3.2.0)\n",
            "Requirement already satisfied: hyperframe<6,>=5.2.0 in /usr/local/lib/python3.10/dist-packages (from h2==3.*->httpcore==0.9.*->httpx==0.13.3->googletrans==4.0.0-rc1) (5.2.0)\n",
            "Requirement already satisfied: hpack<4,>=3.0 in /usr/local/lib/python3.10/dist-packages (from h2==3.*->httpcore==0.9.*->httpx==0.13.3->googletrans==4.0.0-rc1) (3.0.0)\n"
          ]
        }
      ]
    },
    {
      "cell_type": "code",
      "source": [
        "from textblob import TextBlob\n",
        "from googletrans import Translator\n",
        "\n",
        "languages = ['fr', 'zh-CN', 'ne']\n",
        "\n",
        "translator = Translator()\n",
        "\n",
        "for language in languages:\n",
        "    translated_text = translator.translate(\"who knew translation could be fun\", dest=language).text\n",
        "    print(f\"{language}: {translated_text}\")\n"
      ],
      "metadata": {
        "colab": {
          "base_uri": "https://localhost:8080/"
        },
        "id": "huM8d49LhwLr",
        "outputId": "61ef139a-d825-481d-f0b7-3f486e119e49"
      },
      "execution_count": 33,
      "outputs": [
        {
          "output_type": "stream",
          "name": "stdout",
          "text": [
            "fr: qui savait que la traduction pouvait être amusante\n",
            "zh-CN: 谁知道翻译可能很有趣\n",
            "ne: कसलाई अनुवाद थाहा थियो\n"
          ]
        }
      ]
    },
    {
      "cell_type": "code",
      "source": [
        "TextBlob(\"The global economy is expected to grow this year\").tags"
      ],
      "metadata": {
        "colab": {
          "base_uri": "https://localhost:8080/"
        },
        "id": "9BF4__iCjYiQ",
        "outputId": "ce2eca14-8972-4559-e1ec-65c11c4af0fa"
      },
      "execution_count": 34,
      "outputs": [
        {
          "output_type": "execute_result",
          "data": {
            "text/plain": [
              "[('The', 'DT'),\n",
              " ('global', 'JJ'),\n",
              " ('economy', 'NN'),\n",
              " ('is', 'VBZ'),\n",
              " ('expected', 'VBN'),\n",
              " ('to', 'TO'),\n",
              " ('grow', 'VB'),\n",
              " ('this', 'DT'),\n",
              " ('year', 'NN')]"
            ]
          },
          "metadata": {},
          "execution_count": 34
        }
      ]
    },
    {
      "cell_type": "code",
      "source": [
        "pip install vaderSentiment"
      ],
      "metadata": {
        "colab": {
          "base_uri": "https://localhost:8080/"
        },
        "id": "MxT6rKzDk6rh",
        "outputId": "2b3cda10-baf6-47dc-cf4f-43a65aa299a8"
      },
      "execution_count": 35,
      "outputs": [
        {
          "output_type": "stream",
          "name": "stdout",
          "text": [
            "Collecting vaderSentiment\n",
            "  Downloading vaderSentiment-3.3.2-py2.py3-none-any.whl (125 kB)\n",
            "\u001b[2K     \u001b[90m━━━━━━━━━━━━━━━━━━━━━━━━━━━━━━━━━━━━━━━━\u001b[0m \u001b[32m126.0/126.0 kB\u001b[0m \u001b[31m2.2 MB/s\u001b[0m eta \u001b[36m0:00:00\u001b[0m\n",
            "\u001b[?25hRequirement already satisfied: requests in /usr/local/lib/python3.10/dist-packages (from vaderSentiment) (2.31.0)\n",
            "Requirement already satisfied: charset-normalizer<4,>=2 in /usr/local/lib/python3.10/dist-packages (from requests->vaderSentiment) (3.3.2)\n",
            "Requirement already satisfied: idna<4,>=2.5 in /usr/local/lib/python3.10/dist-packages (from requests->vaderSentiment) (2.10)\n",
            "Requirement already satisfied: urllib3<3,>=1.21.1 in /usr/local/lib/python3.10/dist-packages (from requests->vaderSentiment) (2.0.7)\n",
            "Requirement already satisfied: certifi>=2017.4.17 in /usr/local/lib/python3.10/dist-packages (from requests->vaderSentiment) (2024.2.2)\n",
            "Installing collected packages: vaderSentiment\n",
            "Successfully installed vaderSentiment-3.3.2\n"
          ]
        }
      ]
    },
    {
      "cell_type": "code",
      "source": [
        "from vaderSentiment.vaderSentiment import SentimentIntensityAnalyzer\n",
        "analyser= SentimentIntensityAnalyzer()"
      ],
      "metadata": {
        "id": "nY-Ljqpulx36"
      },
      "execution_count": 36,
      "outputs": []
    },
    {
      "cell_type": "code",
      "source": [
        "analyser.polarity_scores(\"This book is very good\")"
      ],
      "metadata": {
        "colab": {
          "base_uri": "https://localhost:8080/"
        },
        "id": "0o4KlrL9mAZX",
        "outputId": "97ca0b83-0b52-4020-b3ae-8eb2b1f68048"
      },
      "execution_count": 37,
      "outputs": [
        {
          "output_type": "execute_result",
          "data": {
            "text/plain": [
              "{'neg': 0.0, 'neu': 0.556, 'pos': 0.444, 'compound': 0.4927}"
            ]
          },
          "metadata": {},
          "execution_count": 37
        }
      ]
    },
    {
      "cell_type": "code",
      "source": [
        "analyser.polarity_scores(\"OMG! The book is so cool\")"
      ],
      "metadata": {
        "colab": {
          "base_uri": "https://localhost:8080/"
        },
        "id": "WzJK4UQNmKDF",
        "outputId": "2e49bce2-e149-4998-fa83-bf976d1dc252"
      },
      "execution_count": 39,
      "outputs": [
        {
          "output_type": "execute_result",
          "data": {
            "text/plain": [
              "{'neg': 0.0, 'neu': 0.604, 'pos': 0.396, 'compound': 0.5079}"
            ]
          },
          "metadata": {},
          "execution_count": 39
        }
      ]
    },
    {
      "cell_type": "markdown",
      "source": [
        "# Web Scraping"
      ],
      "metadata": {
        "id": "epBMpRKYnd2R"
      }
    },
    {
      "cell_type": "code",
      "source": [
        "!pip install requests\n",
        "!pip instal beautifulSoup4"
      ],
      "metadata": {
        "colab": {
          "base_uri": "https://localhost:8080/"
        },
        "id": "6clDfw4hnh1L",
        "outputId": "34b916b0-5d44-4e65-fcb6-d4f157b1f972"
      },
      "execution_count": 42,
      "outputs": [
        {
          "output_type": "stream",
          "name": "stdout",
          "text": [
            "Requirement already satisfied: requests in /usr/local/lib/python3.10/dist-packages (2.31.0)\n",
            "Requirement already satisfied: charset-normalizer<4,>=2 in /usr/local/lib/python3.10/dist-packages (from requests) (3.3.2)\n",
            "Requirement already satisfied: idna<4,>=2.5 in /usr/local/lib/python3.10/dist-packages (from requests) (2.10)\n",
            "Requirement already satisfied: urllib3<3,>=1.21.1 in /usr/local/lib/python3.10/dist-packages (from requests) (2.0.7)\n",
            "Requirement already satisfied: certifi>=2017.4.17 in /usr/local/lib/python3.10/dist-packages (from requests) (2024.2.2)\n",
            "ERROR: unknown command \"instal\" - maybe you meant \"install\"\n"
          ]
        }
      ]
    },
    {
      "cell_type": "code",
      "source": [
        "import requests\n",
        "from bs4 import BeautifulSoup\n",
        "import pandas as pd"
      ],
      "metadata": {
        "id": "gkoLl_7onq99"
      },
      "execution_count": 43,
      "outputs": []
    },
    {
      "cell_type": "code",
      "source": [
        "url = 'https://webscraper.io/test-sites/e-commerce/allinone/computers/laptops'\n",
        "request = requests.get(url)\n"
      ],
      "metadata": {
        "id": "rm8CxZXLn4Tc"
      },
      "execution_count": 44,
      "outputs": []
    },
    {
      "cell_type": "code",
      "source": [
        "request.text"
      ],
      "metadata": {
        "colab": {
          "base_uri": "https://localhost:8080/",
          "height": 218
        },
        "id": "lNpLM_Ran8EI",
        "outputId": "05bd472f-6649-438e-bf2e-f8ea08d389cc"
      },
      "execution_count": 45,
      "outputs": [
        {
          "output_type": "execute_result",
          "data": {
            "text/plain": [
              "'<!DOCTYPE html>\\n<html lang=\"en\">\\n<head>\\n\\t<!-- Google Tag Manager -->\\n<script>(function (w, d, s, l, i) {\\n\\t\\tw[l] = w[l] || [];\\n\\t\\tw[l].push({\\n\\t\\t\\t\\'gtm.start\\':\\n\\t\\t\\t\\tnew Date().getTime(), event: \\'gtm.js\\'\\n\\t\\t});\\n\\t\\tvar f = d.getElementsByTagName(s)[0],\\n\\t\\t\\tj = d.createElement(s), dl = l != \\'dataLayer\\' ? \\'&l=\\' + l : \\'\\';\\n\\t\\tj.async = true;\\n\\t\\tj.src =\\n\\t\\t\\t\\'https://www.googletagmanager.com/gtm.js?id=\\' + i + dl;\\n\\t\\tf.parentNode.insertBefore(j, f);\\n\\t})(window, document, \\'script\\', \\'dataLayer\\', \\'GTM-NVFPDWB\\');</script>\\n<!-- End Google Tag Manager -->\\n\\t<title>Allinone | Web Scraper Test Sites</title>\\n\\t<meta charset=\"utf-8\">\\n\\t<meta http-equiv=\"X-UA-Compatible\" content=\"IE=edge,chrome=1\">\\n\\n\\t<meta name=\"keywords\"\\n\\t\\t  content=\"web scraping,Web Scraper,Chrome extension,Crawling,Cross platform scraper\"/>\\n\\t<meta name=\"description\"\\n\\t\\t  content=\"The most popular web scraping extension. Start scraping in minutes. Automate your tasks with our Cloud Scraper. No software to download, no coding needed.\"/>\\n\\t<link rel=\"icon\" sizes=\"128x128\" href=\"/favicon.png\">\\n\\n\\t<meta name=\"viewport\" content=\"width=device-width, initial-scale=1.0\">\\n\\t\\n\\t<link rel=\"preconnect\" href=\"https://fonts.googleapis.com\">\\n\\t<link rel=\"preconnect\" href=\"https://fonts.gstatic.com\" crossorigin>\\n\\t<link href=\"https://fonts.googleapis.com/css2?family=Roboto:wght@400;500;600&display=swap\" rel=\"stylesheet\">\\n\\t<link href=\"https://fonts.googleapis.com/css2?family=Montserrat:wght@300;400;500;600;700;900&display=swap\" rel=\"stylesheet\">\\n\\n\\t<link rel=\"stylesheet\" href=\"/css/app.css?id=06223d32356bb9de144c6b2196deeb03\">\\n\\t<link rel=\"stylesheet\" href=\"/css/ws-icons.css?id=425669580a5e2af2a7133aa31b1b21d3\">\\n\\n\\t<link rel=\"canonical\" href=\"https://webscraper.io/test-sites/e-commerce/allinone/computers/laptops\">\\n\\t<link rel=\"apple-touch-icon\" href=\"/img/logo-icon.png\">\\n\\n\\t\\n\\t<script defer src=\"/js/vendor.js?id=9363fc11cfc46155b8ff22465a87f071\"></script>\\n\\t<script defer src=\"/js/app.js?id=806927385eb5bc635d4e80efd78f7976\"></script>\\n\\n\\t\\n</head>\\n<body>\\n<!-- Google Tag Manager (noscript) -->\\n<noscript>\\n\\t<iframe src=\"https://www.googletagmanager.com/ns.html?id=GTM-NVFPDWB\"\\n\\t        height=\"0\" width=\"0\" style=\"display:none;visibility:hidden\"></iframe>\\n</noscript>\\n<!-- End Google Tag Manager (noscript) -->\\n<header role=\"banner\" class=\"navbar fixed-top navbar-expand-lg navbar-dark navbar-static\">\\n\\t<div class=\"container\">\\n\\n\\t\\t<div class=\"navbar-header\">\\n\\n\\t\\t\\t<a data-bs-toggle=\"collapse-side\" data-bs-target=\".side-collapse\" data-bs-target-2=\".side-collapse-container\">\\n\\t\\t\\t\\t<button type=\"button\" class=\"navbar-toggler float-end collapsed\" data-bs-toggle=\"collapse\"\\n\\t\\t\\t\\t\\t\\tdata-bs-target=\"#navbar\" data-bs-target-2=\".side-collapse-container\" data-bs-target-3=\".side-collapse\"\\n\\t\\t\\t\\t\\t\\taria-expanded=\"false\" aria-controls=\"navbar\">\\n\\n\\t\\t\\t\\t\\t<span class=\"visually-hidden\">Toggle navigation</span>\\n\\t\\t\\t\\t\\t<span class=\"icon-bar top-bar\"></span>\\n\\t\\t\\t\\t\\t<span class=\"icon-bar middle-bar\"></span>\\n\\t\\t\\t\\t\\t<span class=\"icon-bar bottom-bar\"></span>\\n\\t\\t\\t\\t\\t<span class=\"icon-bar extra-bottom-bar\"></span>\\n\\n\\t\\t\\t\\t</button>\\n\\t\\t\\t</a>\\n\\t\\t\\t<div class=\"navbar-brand\">\\n\\t\\t\\t\\t<a href=\"/\"><img src=\"/img/logo_white.svg\" alt=\"Web Scraper\"></a>\\n\\t\\t\\t</div>\\n\\t\\t</div>\\n\\n\\t\\t<div class=\"side-collapse in\">\\n\\t\\t\\t<nav id=\"navbar\" role=\"navigation\" class=\"navbar-collapse collapse\">\\n\\t\\t\\t\\t<ul class=\"nav navbar-nav navbar-right\">\\n\\t\\t\\t\\t\\t<li class=\"nav-item\">\\n\\t\\t\\t\\t\\t\\t<a href=\"/\" class=\"nav-link menuitm\">\\n\\t\\t\\t\\t\\t\\t\\t<p>Web Scraper</p>\\n\\t\\t\\t\\t\\t\\t\\t<div class=\"crta\"></div>\\n\\t\\t\\t\\t\\t\\t</a>\\n\\t\\t\\t\\t\\t</li>\\n\\t\\t\\t\\t\\t<li class=\"nav-item\">\\n\\t\\t\\t\\t\\t\\t<a href=\"/cloud-scraper\" class=\"nav-link menuitm\">\\n\\t\\t\\t\\t\\t\\t\\t<p>Cloud Scraper</p>\\n\\t\\t\\t\\t\\t\\t\\t<div class=\"crta\"></div>\\n\\t\\t\\t\\t\\t\\t</a>\\n\\t\\t\\t\\t\\t</li>\\n\\t\\t\\t\\t\\t<li class=\"nav-item\">\\n\\t\\t\\t\\t\\t\\t<a href=\"/pricing\" class=\"nav-link menuitm\">\\n\\t\\t\\t\\t\\t\\t\\t<p>Pricing</p>\\n\\t\\t\\t\\t\\t\\t\\t<div class=\"crta\"></div>\\n\\t\\t\\t\\t\\t\\t</a>\\n\\t\\t\\t\\t\\t</li>\\n\\t\\t\\t\\t\\t<li class=\"nav-item dropdown\">\\n\\t\\t\\t\\t\\t\\t<a href=\"#\" class=\"menuitm nav-link dropdown-toggle\" id=\"dropdownMenuLink\" role=\"button\" data-bs-toggle=\"dropdown\" aria-haspopup=\"true\" aria-expanded=\"false\">\\n\\t\\t\\t\\t\\t\\t\\t<p>Learn</p>\\n\\t\\t\\t\\t\\t\\t\\t<div class=\"crta\"></div>\\n\\t\\t\\t\\t\\t\\t</a>\\n\\t\\t\\t\\t\\t\\t<ul class=\"dropdown-menu\" aria-labelledby=\"dropdownMenuLink\">\\n\\t\\t\\t\\t\\t\\t\\t<li>\\n\\t\\t\\t\\t\\t\\t\\t\\t<a href=\"/documentation\" class=\"dropdown-item\">Documentation</a>\\n\\t\\t\\t\\t\\t\\t\\t</li>\\n\\t\\t\\t\\t\\t\\t\\t<li>\\n\\t\\t\\t\\t\\t\\t\\t\\t<a href=\"/tutorials\" class=\"dropdown-item\">Video Tutorials</a>\\n\\t\\t\\t\\t\\t\\t\\t</li>\\n\\t\\t\\t\\t\\t\\t\\t<li>\\n\\t\\t\\t\\t\\t\\t\\t\\t<a href=\"/how-to-videos\" class=\"dropdown-item\">How to</a>\\n\\t\\t\\t\\t\\t\\t\\t</li>\\n\\t\\t\\t\\t\\t\\t\\t<li>\\n\\t\\t\\t\\t\\t\\t\\t\\t<a href=\"/test-sites\" class=\"dropdown-item\">Test Sites</a>\\n\\t\\t\\t\\t\\t\\t\\t</li>\\n\\t\\t\\t\\t\\t\\t\\t<li>\\n\\t\\t\\t\\t\\t\\t\\t\\t<a href=\"https://forum.webscraper.io/\" target=\"_blank\" rel=\"noopener\" class=\"dropdown-item\">Forum</a>\\n\\t\\t\\t\\t\\t\\t\\t</li>\\n\\t\\t\\t\\t\\t\\t</ul>\\n\\t\\t\\t\\t\\t</li>\\n\\t\\t\\t\\t\\t<li class=\"nav-item\">\\n\\t\\t\\t\\t\\t\\t<a href=\"https://chromewebstore.google.com/detail/web-scraper-free-web-scra/jnhgnonknehpejjnehehllkliplmbmhn?hl=en\" target=\"_blank\" class=\"nav-link btn-menu1 install-extension\">Install</a>\\n\\t\\t\\t\\t\\t</li>\\n\\t\\t\\t\\t\\t<li class=\"nav-item\">\\n\\t\\t\\t\\t\\t\\t<a href=\"https://cloud.webscraper.io/\" class=\"nav-link btn-menu2\">Cloud Login</a>\\n\\t\\t\\t\\t\\t</li>\\n\\t\\t\\t\\t</ul>\\n\\t\\t\\t</nav>\\n\\t\\t</div>\\n\\t</div>\\n</header>\\n\\n<div class=\"wrapper\">\\n\\t\\t<div class=\"formenu-here container-fluid\">\\n\\n\\t</div>\\n\\t<div class=\"container-fluid blog-hero\">\\n\\t\\t<div class=\"container\">\\n\\t\\t\\t<div class=\"row\">\\n\\t\\t\\t\\t<div class=\"col-lg-12\">\\n\\t\\t\\t\\t\\t<h1>Test Sites</h1>\\n\\t\\t\\t\\t</div>\\n\\t\\t\\t</div>\\n\\t\\t</div>\\n\\t</div>\\n\\n\\t<div class=\"container test-site\">\\n\\t\\t<div class=\"row\">\\n\\t\\t\\t<div class=\"col-lg-3 sidebar\">\\n\\t\\t\\t\\t\\t<div class=\"navbar-light sidebar\" role=\"navigation\">\\n\\t<div class=\"sidebar-nav navbar-collapse\">\\n\\t\\t<ul class=\"nav flex-column\" id=\"side-menu\">\\n\\n\\t\\t\\t<li class=\"nav-item \">\\n\\t\\t\\t\\t<a href=\"/test-sites/e-commerce/allinone\" class=\"nav-link\">Home</a>\\n\\t\\t\\t</li>\\n\\n\\t\\t\\t\\t\\t\\t<li class=\"nav-item  active \">\\n\\t\\t\\t\\t<a href=\"/test-sites/e-commerce/allinone/computers\" class=\"category-link nav-link \">\\n\\t\\t\\t\\t\\tComputers\\n\\t\\t\\t\\t\\t<i class=\"ws-icon  ws-icon-right \"></i>\\n\\t\\t\\t\\t</a>\\n\\n\\t\\t\\t\\t\\t\\t\\t\\t\\t<ul class=\"nav nav-second-level\">\\n\\t\\t\\t\\t\\t\\t\\t\\t\\t\\t\\t<li class=\"nav-item\">\\n\\t\\t\\t\\t\\t\\t<a href=\"/test-sites/e-commerce/allinone/computers/laptops\" class=\"nav-link subcategory-link  active \">\\n\\t\\t\\t\\t\\t\\t\\tLaptops\\n\\t\\t\\t\\t\\t\\t</a>\\n\\t\\t\\t\\t\\t</li>\\n\\t\\t\\t\\t\\t\\t\\t\\t\\t\\t<li class=\"nav-item\">\\n\\t\\t\\t\\t\\t\\t<a href=\"/test-sites/e-commerce/allinone/computers/tablets\" class=\"nav-link subcategory-link \">\\n\\t\\t\\t\\t\\t\\t\\tTablets\\n\\t\\t\\t\\t\\t\\t</a>\\n\\t\\t\\t\\t\\t</li>\\n\\t\\t\\t\\t\\t\\t\\t\\t\\t</ul>\\n\\t\\t\\t\\t\\t\\t\\t</li>\\n\\t\\t\\t\\t\\t\\t<li class=\"nav-item \">\\n\\t\\t\\t\\t<a href=\"/test-sites/e-commerce/allinone/phones\" class=\"category-link nav-link \">\\n\\t\\t\\t\\t\\tPhones\\n\\t\\t\\t\\t\\t<i class=\"ws-icon  ws-icon-right \"></i>\\n\\t\\t\\t\\t</a>\\n\\n\\t\\t\\t\\t\\t\\t\\t\\t</li>\\n\\t\\t\\t\\t\\t</ul>\\n\\t</div>\\n</div>\\n\\n\\t\\t\\t</div>\\n\\t\\t\\t<div class=\"col-lg-9\">\\n\\t\\t\\t\\t\\t<h1 class=\"page-header\">Computers / Laptops</h1>\\n\\n<div class=\"row\">\\n\\t\\t\\t<div class=\"col-md-4 col-xl-4 col-lg-4\">\\n\\t<div class=\"card product-wrapper thumbnail\">\\n\\t\\t<div class=\"card-body\">\\n\\t\\t\\t<img class=\"img-fluid card-img-top image img-responsive\" alt=\"item\" src=\"/images/test-sites/e-commerce/items/cart2.png\">\\n\\t\\t\\t<div class=\"caption\">\\n\\t\\t\\t\\t<h4 class=\"float-end price card-title pull-right\">$295.99</h4>\\n\\t\\t\\t\\t<h4>\\n\\t\\t\\t\\t\\t<a href=\"/test-sites/e-commerce/allinone/product/60\" class=\"title\" title=\"Asus VivoBook X441NA-GA190\">Asus VivoBook...</a>\\n\\t\\t\\t\\t</h4>\\n\\t\\t\\t\\t<p class=\"description card-text\">Asus VivoBook X441NA-GA190 Chocolate Black, 14&quot;, Celeron N3450, 4GB, 128GB SSD, Endless OS, ENG kbd</p>\\n\\n\\t\\t\\t</div>\\n\\t\\t\\t<div class=\"ratings\">\\n\\t\\t\\t\\t<p class=\"float-end review-count\">14 reviews</p>\\n\\t\\t\\t\\t<p data-rating=\"3\">\\n\\t\\t\\t\\t\\t\\t\\t\\t\\t\\t<span class=\"ws-icon ws-icon-star\"></span>\\n\\t\\t\\t\\t\\t\\t\\t\\t\\t\\t<span class=\"ws-icon ws-icon-star\"></span>\\n\\t\\t\\t\\t\\t\\t\\t\\t\\t\\t<span class=\"ws-icon ws-icon-star\"></span>\\n\\t\\t\\t\\t\\t\\t\\t\\t\\t</p>\\n\\t\\t\\t</div>\\n\\t\\t</div>\\n\\t</div>\\n</div>\\n\\t\\t\\t<div class=\"col-md-4 col-xl-4 col-lg-4\">\\n\\t<div class=\"card product-wrapper thumbnail\">\\n\\t\\t<div class=\"card-body\">\\n\\t\\t\\t<img class=\"img-fluid card-img-top image img-responsive\" alt=\"item\" src=\"/images/test-sites/e-commerce/items/cart2.png\">\\n\\t\\t\\t<div class=\"caption\">\\n\\t\\t\\t\\t<h4 class=\"float-end price card-title pull-right\">$299</h4>\\n\\t\\t\\t\\t<h4>\\n\\t\\t\\t\\t\\t<a href=\"/test-sites/e-commerce/allinone/product/61\" class=\"title\" title=\"Prestigio SmartBook 133S Dark Grey\">Prestigio Smar...</a>\\n\\t\\t\\t\\t</h4>\\n\\t\\t\\t\\t<p class=\"description card-text\">Prestigio SmartBook 133S Dark Grey, 13.3&quot; FHD IPS, Celeron N3350 1.1GHz, 4GB, 32GB, Windows 10 Pro + Office 365 1 gadam</p>\\n\\n\\t\\t\\t</div>\\n\\t\\t\\t<div class=\"ratings\">\\n\\t\\t\\t\\t<p class=\"float-end review-count\">8 reviews</p>\\n\\t\\t\\t\\t<p data-rating=\"2\">\\n\\t\\t\\t\\t\\t\\t\\t\\t\\t\\t<span class=\"ws-icon ws-icon-star\"></span>\\n\\t\\t\\t\\t\\t\\t\\t\\t\\t\\t<span class=\"ws-icon ws-icon-star\"></span>\\n\\t\\t\\t\\t\\t\\t\\t\\t\\t</p>\\n\\t\\t\\t</div>\\n\\t\\t</div>\\n\\t</div>\\n</div>\\n\\t\\t\\t<div class=\"col-md-4 col-xl-4 col-lg-4\">\\n\\t<div class=\"card product-wrapper thumbnail\">\\n\\t\\t<div class=\"card-body\">\\n\\t\\t\\t<img class=\"img-fluid card-img-top image img-responsive\" alt=\"item\" src=\"/images/test-sites/e-commerce/items/cart2.png\">\\n\\t\\t\\t<div class=\"caption\">\\n\\t\\t\\t\\t<h4 class=\"float-end price card-title pull-right\">$299</h4>\\n\\t\\t\\t\\t<h4>\\n\\t\\t\\t\\t\\t<a href=\"/test-sites/e-commerce/allinone/product/62\" class=\"title\" title=\"Prestigio SmartBook 133S Gold\">Prestigio Smar...</a>\\n\\t\\t\\t\\t</h4>\\n\\t\\t\\t\\t<p class=\"description card-text\">Prestigio SmartBook 133S Gold, 13.3&quot; FHD IPS, Celeron N3350 1.1GHz, 4GB, 32GB, Windows 10 Pro + Office 365 1 gadam</p>\\n\\n\\t\\t\\t</div>\\n\\t\\t\\t<div class=\"ratings\">\\n\\t\\t\\t\\t<p class=\"float-end review-count\">12 reviews</p>\\n\\t\\t\\t\\t<p data-rating=\"4\">\\n\\t\\t\\t\\t\\t\\t\\t\\t\\t\\t<span class=\"ws-icon ws-icon-star\"></span>\\n\\t\\t\\t\\t\\t\\t\\t\\t\\t\\t<span class=\"ws-icon ws-icon-star\"></span>\\n\\t\\t\\t\\t\\t\\t\\t\\t\\t\\t<span class=\"ws-icon ws-icon-star\"></span>\\n\\t\\t\\t\\t\\t\\t\\t\\t\\t\\t<span class=\"ws-icon ws-icon-star\"></span>\\n\\t\\t\\t\\t\\t\\t\\t\\t\\t</p>\\n\\t\\t\\t</div>\\n\\t\\t</div>\\n\\t</div>\\n</div>\\n\\t\\t\\t<div class=\"col-md-4 col-xl-4 col-lg-4\">\\n\\t<div class=\"card product-wrapper thumbnail\">\\n\\t\\t<div class=\"card-body\">\\n\\t\\t\\t<img class=\"img-fluid card-img-top image img-responsive\" alt=\"item\" src=\"/images/test-sites/e-commerce/items/cart2.png\">\\n\\t\\t\\t<div class=\"caption\">\\n\\t\\t\\t\\t<h4 class=\"float-end price card-title pull-right\">$306.99</h4>\\n\\t\\t\\t\\t<h4>\\n\\t\\t\\t\\t\\t<a href=\"/test-sites/e-commerce/allinone/product/32\" class=\"title\" title=\"Aspire E1-510\">Aspire E1-510</a>\\n\\t\\t\\t\\t</h4>\\n\\t\\t\\t\\t<p class=\"description card-text\">15.6&quot;, Pentium N3520 2.16GHz, 4GB, 500GB, Linux</p>\\n\\n\\t\\t\\t</div>\\n\\t\\t\\t<div class=\"ratings\">\\n\\t\\t\\t\\t<p class=\"float-end review-count\">2 reviews</p>\\n\\t\\t\\t\\t<p data-rating=\"3\">\\n\\t\\t\\t\\t\\t\\t\\t\\t\\t\\t<span class=\"ws-icon ws-icon-star\"></span>\\n\\t\\t\\t\\t\\t\\t\\t\\t\\t\\t<span class=\"ws-icon ws-icon-star\"></span>\\n\\t\\t\\t\\t\\t\\t\\t\\t\\t\\t<span class=\"ws-icon ws-icon-star\"></span>\\n\\t\\t\\t\\t\\t\\t\\t\\t\\t</p>\\n\\t\\t\\t</div>\\n\\t\\t</div>\\n\\t</div>\\n</div>\\n\\t\\t\\t<div class=\"col-md-4 col-xl-4 col-lg-4\">\\n\\t<div class=\"card product-wrapper thumbnail\">\\n\\t\\t<div class=\"card-body\">\\n\\t\\t\\t<img class=\"img-fluid card-img-top image img-responsive\" alt=\"item\" src=\"/images/test-sites/e-commerce/items/cart2.png\">\\n\\t\\t\\t<div class=\"caption\">\\n\\t\\t\\t\\t<h4 class=\"float-end price card-title pull-right\">$321.94</h4>\\n\\t\\t\\t\\t<h4>\\n\\t\\t\\t\\t\\t<a href=\"/test-sites/e-commerce/allinone/product/63\" class=\"title\" title=\"Lenovo V110-15IAP\">Lenovo V110-15...</a>\\n\\t\\t\\t\\t</h4>\\n\\t\\t\\t\\t<p class=\"description card-text\">Lenovo V110-15IAP, 15.6&quot; HD, Celeron N3350 1.1GHz, 4GB, 128GB SSD, Windows 10 Home</p>\\n\\n\\t\\t\\t</div>\\n\\t\\t\\t<div class=\"ratings\">\\n\\t\\t\\t\\t<p class=\"float-end review-count\">5 reviews</p>\\n\\t\\t\\t\\t<p data-rating=\"3\">\\n\\t\\t\\t\\t\\t\\t\\t\\t\\t\\t<span class=\"ws-icon ws-icon-star\"></span>\\n\\t\\t\\t\\t\\t\\t\\t\\t\\t\\t<span class=\"ws-icon ws-icon-star\"></span>\\n\\t\\t\\t\\t\\t\\t\\t\\t\\t\\t<span class=\"ws-icon ws-icon-star\"></span>\\n\\t\\t\\t\\t\\t\\t\\t\\t\\t</p>\\n\\t\\t\\t</div>\\n\\t\\t</div>\\n\\t</div>\\n</div>\\n\\t\\t\\t<div class=\"col-md-4 col-xl-4 col-lg-4\">\\n\\t<div class=\"card product-wrapper thumbnail\">\\n\\t\\t<div class=\"card-body\">\\n\\t\\t\\t<img class=\"img-fluid card-img-top image img-responsive\" alt=\"item\" src=\"/images/test-sites/e-commerce/items/cart2.png\">\\n\\t\\t\\t<div class=\"caption\">\\n\\t\\t\\t\\t<h4 class=\"float-end price card-title pull-right\">$356.49</h4>\\n\\t\\t\\t\\t<h4>\\n\\t\\t\\t\\t\\t<a href=\"/test-sites/e-commerce/allinone/product/64\" class=\"title\" title=\"Lenovo V110-15IAP\">Lenovo V110-15...</a>\\n\\t\\t\\t\\t</h4>\\n\\t\\t\\t\\t<p class=\"description card-text\">Asus VivoBook 15 X540NA-GQ008T Chocolate Black, 15.6&quot; HD, Pentium N4200, 4GB, 500GB, Windows 10 Home, En kbd</p>\\n\\n\\t\\t\\t</div>\\n\\t\\t\\t<div class=\"ratings\">\\n\\t\\t\\t\\t<p class=\"float-end review-count\">6 reviews</p>\\n\\t\\t\\t\\t<p data-rating=\"2\">\\n\\t\\t\\t\\t\\t\\t\\t\\t\\t\\t<span class=\"ws-icon ws-icon-star\"></span>\\n\\t\\t\\t\\t\\t\\t\\t\\t\\t\\t<span class=\"ws-icon ws-icon-star\"></span>\\n\\t\\t\\t\\t\\t\\t\\t\\t\\t</p>\\n\\t\\t\\t</div>\\n\\t\\t</div>\\n\\t</div>\\n</div>\\n\\t\\t\\t<div class=\"col-md-4 col-xl-4 col-lg-4\">\\n\\t<div class=\"card product-wrapper thumbnail\">\\n\\t\\t<div class=\"card-body\">\\n\\t\\t\\t<img class=\"img-fluid card-img-top image img-responsive\" alt=\"item\" src=\"/images/test-sites/e-commerce/items/cart2.png\">\\n\\t\\t\\t<div class=\"caption\">\\n\\t\\t\\t\\t<h4 class=\"float-end price card-title pull-right\">$364.46</h4>\\n\\t\\t\\t\\t<h4>\\n\\t\\t\\t\\t\\t<a href=\"/test-sites/e-commerce/allinone/product/65\" class=\"title\" title=\"Hewlett Packard 250 G6 Dark Ash Silver\">Hewlett Packar...</a>\\n\\t\\t\\t\\t</h4>\\n\\t\\t\\t\\t<p class=\"description card-text\">Hewlett Packard 250 G6 Dark Ash Silver, 15.6&quot; HD, Celeron N3060 1.6GHz, 4GB, 128GB SSD, DOS</p>\\n\\n\\t\\t\\t</div>\\n\\t\\t\\t<div class=\"ratings\">\\n\\t\\t\\t\\t<p class=\"float-end review-count\">12 reviews</p>\\n\\t\\t\\t\\t<p data-rating=\"1\">\\n\\t\\t\\t\\t\\t\\t\\t\\t\\t\\t<span class=\"ws-icon ws-icon-star\"></span>\\n\\t\\t\\t\\t\\t\\t\\t\\t\\t</p>\\n\\t\\t\\t</div>\\n\\t\\t</div>\\n\\t</div>\\n</div>\\n\\t\\t\\t<div class=\"col-md-4 col-xl-4 col-lg-4\">\\n\\t<div class=\"card product-wrapper thumbnail\">\\n\\t\\t<div class=\"card-body\">\\n\\t\\t\\t<img class=\"img-fluid card-img-top image img-responsive\" alt=\"item\" src=\"/images/test-sites/e-commerce/items/cart2.png\">\\n\\t\\t\\t<div class=\"caption\">\\n\\t\\t\\t\\t<h4 class=\"float-end price card-title pull-right\">$372.7</h4>\\n\\t\\t\\t\\t<h4>\\n\\t\\t\\t\\t\\t<a href=\"/test-sites/e-commerce/allinone/product/66\" class=\"title\" title=\"Acer Aspire 3 A315-31 Black\">Acer Aspire 3...</a>\\n\\t\\t\\t\\t</h4>\\n\\t\\t\\t\\t<p class=\"description card-text\">Acer Aspire 3 A315-31 Black, 15.6&quot; HD, Celeron N3350 1.1GHz, 4GB, 128GB SSD, Windows 10 Home</p>\\n\\n\\t\\t\\t</div>\\n\\t\\t\\t<div class=\"ratings\">\\n\\t\\t\\t\\t<p class=\"float-end review-count\">2 reviews</p>\\n\\t\\t\\t\\t<p data-rating=\"2\">\\n\\t\\t\\t\\t\\t\\t\\t\\t\\t\\t<span class=\"ws-icon ws-icon-star\"></span>\\n\\t\\t\\t\\t\\t\\t\\t\\t\\t\\t<span class=\"ws-icon ws-icon-star\"></span>\\n\\t\\t\\t\\t\\t\\t\\t\\t\\t</p>\\n\\t\\t\\t</div>\\n\\t\\t</div>\\n\\t</div>\\n</div>\\n\\t\\t\\t<div class=\"col-md-4 col-xl-4 col-lg-4\">\\n\\t<div class=\"card product-wrapper thumbnail\">\\n\\t\\t<div class=\"card-body\">\\n\\t\\t\\t<img class=\"img-fluid card-img-top image img-responsive\" alt=\"item\" src=\"/images/test-sites/e-commerce/items/cart2.png\">\\n\\t\\t\\t<div class=\"caption\">\\n\\t\\t\\t\\t<h4 class=\"float-end price card-title pull-right\">$379.94</h4>\\n\\t\\t\\t\\t<h4>\\n\\t\\t\\t\\t\\t<a href=\"/test-sites/e-commerce/allinone/product/67\" class=\"title\" title=\"Acer Aspire A315-31-C33J\">Acer Aspire A3...</a>\\n\\t\\t\\t\\t</h4>\\n\\t\\t\\t\\t<p class=\"description card-text\">Acer Aspire A315-31-C33J Black 15.6&quot;, HD, Celeron N3350, 4GB DDR3L, 128GB, Windows 10 Home, ENG</p>\\n\\n\\t\\t\\t</div>\\n\\t\\t\\t<div class=\"ratings\">\\n\\t\\t\\t\\t<p class=\"float-end review-count\">0 reviews</p>\\n\\t\\t\\t\\t<p data-rating=\"2\">\\n\\t\\t\\t\\t\\t\\t\\t\\t\\t\\t<span class=\"ws-icon ws-icon-star\"></span>\\n\\t\\t\\t\\t\\t\\t\\t\\t\\t\\t<span class=\"ws-icon ws-icon-star\"></span>\\n\\t\\t\\t\\t\\t\\t\\t\\t\\t</p>\\n\\t\\t\\t</div>\\n\\t\\t</div>\\n\\t</div>\\n</div>\\n\\t\\t\\t<div class=\"col-md-4 col-xl-4 col-lg-4\">\\n\\t<div class=\"card product-wrapper thumbnail\">\\n\\t\\t<div class=\"card-body\">\\n\\t\\t\\t<img class=\"img-fluid card-img-top image img-responsive\" alt=\"item\" src=\"/images/test-sites/e-commerce/items/cart2.png\">\\n\\t\\t\\t<div class=\"caption\">\\n\\t\\t\\t\\t<h4 class=\"float-end price card-title pull-right\">$379.95</h4>\\n\\t\\t\\t\\t<h4>\\n\\t\\t\\t\\t\\t<a href=\"/test-sites/e-commerce/allinone/product/68\" class=\"title\" title=\"Acer Aspire ES1-572 Black\">Acer Aspire ES...</a>\\n\\t\\t\\t\\t</h4>\\n\\t\\t\\t\\t<p class=\"description card-text\">Acer Aspire ES1-572 Black, 15.6&quot; HD, Core i3-6006U, 4GB, 128GB SSD, Linux</p>\\n\\n\\t\\t\\t</div>\\n\\t\\t\\t<div class=\"ratings\">\\n\\t\\t\\t\\t<p class=\"float-end review-count\">9 reviews</p>\\n\\t\\t\\t\\t<p data-rating=\"4\">\\n\\t\\t\\t\\t\\t\\t\\t\\t\\t\\t<span class=\"ws-icon ws-icon-star\"></span>\\n\\t\\t\\t\\t\\t\\t\\t\\t\\t\\t<span class=\"ws-icon ws-icon-star\"></span>\\n\\t\\t\\t\\t\\t\\t\\t\\t\\t\\t<span class=\"ws-icon ws-icon-star\"></span>\\n\\t\\t\\t\\t\\t\\t\\t\\t\\t\\t<span class=\"ws-icon ws-icon-star\"></span>\\n\\t\\t\\t\\t\\t\\t\\t\\t\\t</p>\\n\\t\\t\\t</div>\\n\\t\\t</div>\\n\\t</div>\\n</div>\\n\\t\\t\\t<div class=\"col-md-4 col-xl-4 col-lg-4\">\\n\\t<div class=\"card product-wrapper thumbnail\">\\n\\t\\t<div class=\"card-body\">\\n\\t\\t\\t<img class=\"img-fluid card-img-top image img-responsive\" alt=\"item\" src=\"/images/test-sites/e-commerce/items/cart2.png\">\\n\\t\\t\\t<div class=\"caption\">\\n\\t\\t\\t\\t<h4 class=\"float-end price card-title pull-right\">$391.48</h4>\\n\\t\\t\\t\\t<h4>\\n\\t\\t\\t\\t\\t<a href=\"/test-sites/e-commerce/allinone/product/69\" class=\"title\" title=\"Acer Aspire 3 A315-31 Black\">Acer Aspire 3...</a>\\n\\t\\t\\t\\t</h4>\\n\\t\\t\\t\\t<p class=\"description card-text\">Acer Aspire 3 A315-31 Black, 15.6&quot; HD, Pentium N4200 1.1GHz, 4GB, 128GB SSD, Windows 10 Home</p>\\n\\n\\t\\t\\t</div>\\n\\t\\t\\t<div class=\"ratings\">\\n\\t\\t\\t\\t<p class=\"float-end review-count\">10 reviews</p>\\n\\t\\t\\t\\t<p data-rating=\"4\">\\n\\t\\t\\t\\t\\t\\t\\t\\t\\t\\t<span class=\"ws-icon ws-icon-star\"></span>\\n\\t\\t\\t\\t\\t\\t\\t\\t\\t\\t<span class=\"ws-icon ws-icon-star\"></span>\\n\\t\\t\\t\\t\\t\\t\\t\\t\\t\\t<span class=\"ws-icon ws-icon-star\"></span>\\n\\t\\t\\t\\t\\t\\t\\t\\t\\t\\t<span class=\"ws-icon ws-icon-star\"></span>\\n\\t\\t\\t\\t\\t\\t\\t\\t\\t</p>\\n\\t\\t\\t</div>\\n\\t\\t</div>\\n\\t</div>\\n</div>\\n\\t\\t\\t<div class=\"col-md-4 col-xl-4 col-lg-4\">\\n\\t<div class=\"card product-wrapper thumbnail\">\\n\\t\\t<div class=\"card-body\">\\n\\t\\t\\t<img class=\"img-fluid card-img-top image img-responsive\" alt=\"item\" src=\"/images/test-sites/e-commerce/items/cart2.png\">\\n\\t\\t\\t<div class=\"caption\">\\n\\t\\t\\t\\t<h4 class=\"float-end price card-title pull-right\">$393.88</h4>\\n\\t\\t\\t\\t<h4>\\n\\t\\t\\t\\t\\t<a href=\"/test-sites/e-commerce/allinone/product/70\" class=\"title\" title=\"Acer Aspire 3 A315-21\">Acer Aspire 3...</a>\\n\\t\\t\\t\\t</h4>\\n\\t\\t\\t\\t<p class=\"description card-text\">Acer Aspire 3 A315-21, 15.6&quot;, AMD A4-9120. 4GB. 128GB SSD, Linux</p>\\n\\n\\t\\t\\t</div>\\n\\t\\t\\t<div class=\"ratings\">\\n\\t\\t\\t\\t<p class=\"float-end review-count\">9 reviews</p>\\n\\t\\t\\t\\t<p data-rating=\"3\">\\n\\t\\t\\t\\t\\t\\t\\t\\t\\t\\t<span class=\"ws-icon ws-icon-star\"></span>\\n\\t\\t\\t\\t\\t\\t\\t\\t\\t\\t<span class=\"ws-icon ws-icon-star\"></span>\\n\\t\\t\\t\\t\\t\\t\\t\\t\\t\\t<span class=\"ws-icon ws-icon-star\"></span>\\n\\t\\t\\t\\t\\t\\t\\t\\t\\t</p>\\n\\t\\t\\t</div>\\n\\t\\t</div>\\n\\t</div>\\n</div>\\n\\t\\t\\t<div class=\"col-md-4 col-xl-4 col-lg-4\">\\n\\t<div class=\"card product-wrapper thumbnail\">\\n\\t\\t<div class=\"card-body\">\\n\\t\\t\\t<img class=\"img-fluid card-img-top image img-responsive\" alt=\"item\" src=\"/images/test-sites/e-commerce/items/cart2.png\">\\n\\t\\t\\t<div class=\"caption\">\\n\\t\\t\\t\\t<h4 class=\"float-end price card-title pull-right\">$399</h4>\\n\\t\\t\\t\\t<h4>\\n\\t\\t\\t\\t\\t<a href=\"/test-sites/e-commerce/allinone/product/45\" class=\"title\" title=\"Asus VivoBook Max\">Asus VivoBook...</a>\\n\\t\\t\\t\\t</h4>\\n\\t\\t\\t\\t<p class=\"description card-text\">Asus VivoBook Max X541NA-GQ041 Black Chocolate, 15.6&quot; HD, Pentium N4200 1.1GHz, 4GB, 500GB, Windows 10 Home</p>\\n\\n\\t\\t\\t</div>\\n\\t\\t\\t<div class=\"ratings\">\\n\\t\\t\\t\\t<p class=\"float-end review-count\">4 reviews</p>\\n\\t\\t\\t\\t<p data-rating=\"1\">\\n\\t\\t\\t\\t\\t\\t\\t\\t\\t\\t<span class=\"ws-icon ws-icon-star\"></span>\\n\\t\\t\\t\\t\\t\\t\\t\\t\\t</p>\\n\\t\\t\\t</div>\\n\\t\\t</div>\\n\\t</div>\\n</div>\\n\\t\\t\\t<div class=\"col-md-4 col-xl-4 col-lg-4\">\\n\\t<div class=\"card product-wrapper thumbnail\">\\n\\t\\t<div class=\"card-body\">\\n\\t\\t\\t<img class=\"img-fluid card-img-top image img-responsive\" alt=\"item\" src=\"/images/test-sites/e-commerce/items/cart2.png\">\\n\\t\\t\\t<div class=\"caption\">\\n\\t\\t\\t\\t<h4 class=\"float-end price card-title pull-right\">$399.99</h4>\\n\\t\\t\\t\\t<h4>\\n\\t\\t\\t\\t\\t<a href=\"/test-sites/e-commerce/allinone/product/71\" class=\"title\" title=\"Asus VivoBook E502NA-GO022T Dark Blue\">Asus VivoBook...</a>\\n\\t\\t\\t\\t</h4>\\n\\t\\t\\t\\t<p class=\"description card-text\">Asus VivoBook E502NA-GO022T Dark Blue, 15.6&quot; HD, Pentium N4200 1.1GHz, 4GB, 128GB SSD, Windows 10 Home, En/Ru kbd</p>\\n\\n\\t\\t\\t</div>\\n\\t\\t\\t<div class=\"ratings\">\\n\\t\\t\\t\\t<p class=\"float-end review-count\">3 reviews</p>\\n\\t\\t\\t\\t<p data-rating=\"4\">\\n\\t\\t\\t\\t\\t\\t\\t\\t\\t\\t<span class=\"ws-icon ws-icon-star\"></span>\\n\\t\\t\\t\\t\\t\\t\\t\\t\\t\\t<span class=\"ws-icon ws-icon-star\"></span>\\n\\t\\t\\t\\t\\t\\t\\t\\t\\t\\t<span class=\"ws-icon ws-icon-star\"></span>\\n\\t\\t\\t\\t\\t\\t\\t\\t\\t\\t<span class=\"ws-icon ws-icon-star\"></span>\\n\\t\\t\\t\\t\\t\\t\\t\\t\\t</p>\\n\\t\\t\\t</div>\\n\\t\\t</div>\\n\\t</div>\\n</div>\\n\\t\\t\\t<div class=\"col-md-4 col-xl-4 col-lg-4\">\\n\\t<div class=\"card product-wrapper thumbnail\">\\n\\t\\t<div class=\"card-body\">\\n\\t\\t\\t<img class=\"img-fluid card-img-top image img-responsive\" alt=\"item\" src=\"/images/test-sites/e-commerce/items/cart2.png\">\\n\\t\\t\\t<div class=\"caption\">\\n\\t\\t\\t\\t<h4 class=\"float-end price card-title pull-right\">$404.23</h4>\\n\\t\\t\\t\\t<h4>\\n\\t\\t\\t\\t\\t<a href=\"/test-sites/e-commerce/allinone/product/72\" class=\"title\" title=\"Lenovo ThinkPad E31-80\">Lenovo ThinkPa...</a>\\n\\t\\t\\t\\t</h4>\\n\\t\\t\\t\\t<p class=\"description card-text\">Lenovo ThinkPad E31-80, 13.3&quot; HD, Celeron 3855U 1.6GHz, 4GB, 128GB SSD, Windows 10 Home</p>\\n\\n\\t\\t\\t</div>\\n\\t\\t\\t<div class=\"ratings\">\\n\\t\\t\\t\\t<p class=\"float-end review-count\">12 reviews</p>\\n\\t\\t\\t\\t<p data-rating=\"1\">\\n\\t\\t\\t\\t\\t\\t\\t\\t\\t\\t<span class=\"ws-icon ws-icon-star\"></span>\\n\\t\\t\\t\\t\\t\\t\\t\\t\\t</p>\\n\\t\\t\\t</div>\\n\\t\\t</div>\\n\\t</div>\\n</div>\\n\\t\\t\\t<div class=\"col-md-4 col-xl-4 col-lg-4\">\\n\\t<div class=\"card product-wrapper thumbnail\">\\n\\t\\t<div class=\"card-body\">\\n\\t\\t\\t<img class=\"img-fluid card-img-top image img-responsive\" alt=\"item\" src=\"/images/test-sites/e-commerce/items/cart2.png\">\\n\\t\\t\\t<div class=\"caption\">\\n\\t\\t\\t\\t<h4 class=\"float-end price card-title pull-right\">$408.98</h4>\\n\\t\\t\\t\\t<h4>\\n\\t\\t\\t\\t\\t<a href=\"/test-sites/e-commerce/allinone/product/73\" class=\"title\" title=\"Acer Aspire 3 A315-31 Black\">Acer Aspire 3...</a>\\n\\t\\t\\t\\t</h4>\\n\\t\\t\\t\\t<p class=\"description card-text\">Acer Aspire 3 A315-31 Black, 15.6&quot; HD, Pentium N4200 1.1GHz, 4GB, 128GB SSD, Windows 10 Home</p>\\n\\n\\t\\t\\t</div>\\n\\t\\t\\t<div class=\"ratings\">\\n\\t\\t\\t\\t<p class=\"float-end review-count\">10 reviews</p>\\n\\t\\t\\t\\t<p data-rating=\"4\">\\n\\t\\t\\t\\t\\t\\t\\t\\t\\t\\t<span class=\"ws-icon ws-icon-star\"></span>\\n\\t\\t\\t\\t\\t\\t\\t\\t\\t\\t<span class=\"ws-icon ws-icon-star\"></span>\\n\\t\\t\\t\\t\\t\\t\\t\\t\\t\\t<span class=\"ws-icon ws-icon-star\"></span>\\n\\t\\t\\t\\t\\t\\t\\t\\t\\t\\t<span class=\"ws-icon ws-icon-star\"></span>\\n\\t\\t\\t\\t\\t\\t\\t\\t\\t</p>\\n\\t\\t\\t</div>\\n\\t\\t</div>\\n\\t</div>\\n</div>\\n\\t\\t\\t<div class=\"col-md-4 col-xl-4 col-lg-4\">\\n\\t<div class=\"card product-wrapper thumbnail\">\\n\\t\\t<div class=\"card-body\">\\n\\t\\t\\t<img class=\"img-fluid card-img-top image img-responsive\" alt=\"item\" src=\"/images/test-sites/e-commerce/items/cart2.png\">\\n\\t\\t\\t<div class=\"caption\">\\n\\t\\t\\t\\t<h4 class=\"float-end price card-title pull-right\">$409.63</h4>\\n\\t\\t\\t\\t<h4>\\n\\t\\t\\t\\t\\t<a href=\"/test-sites/e-commerce/allinone/product/74\" class=\"title\" title=\"Lenovo V110-15ISK\">Lenovo V110-15...</a>\\n\\t\\t\\t\\t</h4>\\n\\t\\t\\t\\t<p class=\"description card-text\">Lenovo V110-15ISK, 15.6&quot; HD, Core i3-6006U, 8GB, 128GB SSD, Windows 10 Home</p>\\n\\n\\t\\t\\t</div>\\n\\t\\t\\t<div class=\"ratings\">\\n\\t\\t\\t\\t<p class=\"float-end review-count\">9 reviews</p>\\n\\t\\t\\t\\t<p data-rating=\"3\">\\n\\t\\t\\t\\t\\t\\t\\t\\t\\t\\t<span class=\"ws-icon ws-icon-star\"></span>\\n\\t\\t\\t\\t\\t\\t\\t\\t\\t\\t<span class=\"ws-icon ws-icon-star\"></span>\\n\\t\\t\\t\\t\\t\\t\\t\\t\\t\\t<span class=\"ws-icon ws-icon-star\"></span>\\n\\t\\t\\t\\t\\t\\t\\t\\t\\t</p>\\n\\t\\t\\t</div>\\n\\t\\t</div>\\n\\t</div>\\n</div>\\n\\t\\t\\t<div class=\"col-md-4 col-xl-4 col-lg-4\">\\n\\t<div class=\"card product-wrapper thumbnail\">\\n\\t\\t<div class=\"card-body\">\\n\\t\\t\\t<img class=\"img-fluid card-img-top image img-responsive\" alt=\"item\" src=\"/images/test-sites/e-commerce/items/cart2.png\">\\n\\t\\t\\t<div class=\"caption\">\\n\\t\\t\\t\\t<h4 class=\"float-end price card-title pull-right\">$410.46</h4>\\n\\t\\t\\t\\t<h4>\\n\\t\\t\\t\\t\\t<a href=\"/test-sites/e-commerce/allinone/product/75\" class=\"title\" title=\"Acer Aspire ES1-732 Black\">Acer Aspire ES...</a>\\n\\t\\t\\t\\t</h4>\\n\\t\\t\\t\\t<p class=\"description card-text\">Acer Aspire ES1-732 Black, 17.3&quot; HD+, Celeron, N3350, 4GB, 1TB, Windows 10 Home</p>\\n\\n\\t\\t\\t</div>\\n\\t\\t\\t<div class=\"ratings\">\\n\\t\\t\\t\\t<p class=\"float-end review-count\">14 reviews</p>\\n\\t\\t\\t\\t<p data-rating=\"4\">\\n\\t\\t\\t\\t\\t\\t\\t\\t\\t\\t<span class=\"ws-icon ws-icon-star\"></span>\\n\\t\\t\\t\\t\\t\\t\\t\\t\\t\\t<span class=\"ws-icon ws-icon-star\"></span>\\n\\t\\t\\t\\t\\t\\t\\t\\t\\t\\t<span class=\"ws-icon ws-icon-star\"></span>\\n\\t\\t\\t\\t\\t\\t\\t\\t\\t\\t<span class=\"ws-icon ws-icon-star\"></span>\\n\\t\\t\\t\\t\\t\\t\\t\\t\\t</p>\\n\\t\\t\\t</div>\\n\\t\\t</div>\\n\\t</div>\\n</div>\\n\\t\\t\\t<div class=\"col-md-4 col-xl-4 col-lg-4\">\\n\\t<div class=\"card product-wrapper thumbnail\">\\n\\t\\t<div class=\"card-body\">\\n\\t\\t\\t<img class=\"img-fluid card-img-top image img-responsive\" alt=\"item\" src=\"/images/test-sites/e-commerce/items/cart2.png\">\\n\\t\\t\\t<div class=\"caption\">\\n\\t\\t\\t\\t<h4 class=\"float-end price card-title pull-right\">$410.66</h4>\\n\\t\\t\\t\\t<h4>\\n\\t\\t\\t\\t\\t<a href=\"/test-sites/e-commerce/allinone/product/76\" class=\"title\" title=\"Asus VivoBook 15 X540NA-GQ026T\">Asus VivoBook...</a>\\n\\t\\t\\t\\t</h4>\\n\\t\\t\\t\\t<p class=\"description card-text\">Asus VivoBook 15 X540NA-GQ026T Chocolate Black, 15.6&quot; HD, Pentium N4200, 4GB, 128GB SSD, Windows 10 Home, En/Ru kbd</p>\\n\\n\\t\\t\\t</div>\\n\\t\\t\\t<div class=\"ratings\">\\n\\t\\t\\t\\t<p class=\"float-end review-count\">4 reviews</p>\\n\\t\\t\\t\\t<p data-rating=\"4\">\\n\\t\\t\\t\\t\\t\\t\\t\\t\\t\\t<span class=\"ws-icon ws-icon-star\"></span>\\n\\t\\t\\t\\t\\t\\t\\t\\t\\t\\t<span class=\"ws-icon ws-icon-star\"></span>\\n\\t\\t\\t\\t\\t\\t\\t\\t\\t\\t<span class=\"ws-icon ws-icon-star\"></span>\\n\\t\\t\\t\\t\\t\\t\\t\\t\\t\\t<span class=\"ws-icon ws-icon-star\"></span>\\n\\t\\t\\t\\t\\t\\t\\t\\t\\t</p>\\n\\t\\t\\t</div>\\n\\t\\t</div>\\n\\t</div>\\n</div>\\n\\t\\t\\t<div class=\"col-md-4 col-xl-4 col-lg-4\">\\n\\t<div class=\"card product-wrapper thumbnail\">\\n\\t\\t<div class=\"card-body\">\\n\\t\\t\\t<img class=\"img-fluid card-img-top image img-responsive\" alt=\"item\" src=\"/images/test-sites/e-commerce/items/cart2.png\">\\n\\t\\t\\t<div class=\"caption\">\\n\\t\\t\\t\\t<h4 class=\"float-end price card-title pull-right\">$416.99</h4>\\n\\t\\t\\t\\t<h4>\\n\\t\\t\\t\\t\\t<a href=\"/test-sites/e-commerce/allinone/product/31\" class=\"title\" title=\"Packard 255 G2\">Packard 255 G2</a>\\n\\t\\t\\t\\t</h4>\\n\\t\\t\\t\\t<p class=\"description card-text\">15.6&quot;, AMD E2-3800 1.3GHz, 4GB, 500GB, Windows 8.1</p>\\n\\n\\t\\t\\t</div>\\n\\t\\t\\t<div class=\"ratings\">\\n\\t\\t\\t\\t<p class=\"float-end review-count\">2 reviews</p>\\n\\t\\t\\t\\t<p data-rating=\"2\">\\n\\t\\t\\t\\t\\t\\t\\t\\t\\t\\t<span class=\"ws-icon ws-icon-star\"></span>\\n\\t\\t\\t\\t\\t\\t\\t\\t\\t\\t<span class=\"ws-icon ws-icon-star\"></span>\\n\\t\\t\\t\\t\\t\\t\\t\\t\\t</p>\\n\\t\\t\\t</div>\\n\\t\\t</div>\\n\\t</div>\\n</div>\\n\\t\\t\\t<div class=\"col-md-4 col-xl-4 col-lg-4\">\\n\\t<div class=\"card product-wrapper thumbnail\">\\n\\t\\t<div class=\"card-body\">\\n\\t\\t\\t<img class=\"img-fluid card-img-top image img-responsive\" alt=\"item\" src=\"/images/test-sites/e-commerce/items/cart2.png\">\\n\\t\\t\\t<div class=\"caption\">\\n\\t\\t\\t\\t<h4 class=\"float-end price card-title pull-right\">$433.3</h4>\\n\\t\\t\\t\\t<h4>\\n\\t\\t\\t\\t\\t<a href=\"/test-sites/e-commerce/allinone/product/77\" class=\"title\" title=\"Asus EeeBook R416NA-FA014T\">Asus EeeBook R...</a>\\n\\t\\t\\t\\t</h4>\\n\\t\\t\\t\\t<p class=\"description card-text\">Asus EeeBook R416NA-FA014T, 14&quot; FHD, Pentium N4200, 4GB, 128GB eMMC, Windows 10 Home, Eng kbd</p>\\n\\n\\t\\t\\t</div>\\n\\t\\t\\t<div class=\"ratings\">\\n\\t\\t\\t\\t<p class=\"float-end review-count\">1 reviews</p>\\n\\t\\t\\t\\t<p data-rating=\"1\">\\n\\t\\t\\t\\t\\t\\t\\t\\t\\t\\t<span class=\"ws-icon ws-icon-star\"></span>\\n\\t\\t\\t\\t\\t\\t\\t\\t\\t</p>\\n\\t\\t\\t</div>\\n\\t\\t</div>\\n\\t</div>\\n</div>\\n\\t\\t\\t<div class=\"col-md-4 col-xl-4 col-lg-4\">\\n\\t<div class=\"card product-wrapper thumbnail\">\\n\\t\\t<div class=\"card-body\">\\n\\t\\t\\t<img class=\"img-fluid card-img-top image img-responsive\" alt=\"item\" src=\"/images/test-sites/e-commerce/items/cart2.png\">\\n\\t\\t\\t<div class=\"caption\">\\n\\t\\t\\t\\t<h4 class=\"float-end price card-title pull-right\">$436.29</h4>\\n\\t\\t\\t\\t<h4>\\n\\t\\t\\t\\t\\t<a href=\"/test-sites/e-commerce/allinone/product/78\" class=\"title\" title=\"Acer Aspire 3 A315-51\">Acer Aspire 3...</a>\\n\\t\\t\\t\\t</h4>\\n\\t\\t\\t\\t<p class=\"description card-text\">Acer Aspire 3 A315-51, 15.6&quot; HD, Core i3-6006U, 4GB, 1TB, Windows 10 Home</p>\\n\\n\\t\\t\\t</div>\\n\\t\\t\\t<div class=\"ratings\">\\n\\t\\t\\t\\t<p class=\"float-end review-count\">1 reviews</p>\\n\\t\\t\\t\\t<p data-rating=\"1\">\\n\\t\\t\\t\\t\\t\\t\\t\\t\\t\\t<span class=\"ws-icon ws-icon-star\"></span>\\n\\t\\t\\t\\t\\t\\t\\t\\t\\t</p>\\n\\t\\t\\t</div>\\n\\t\\t</div>\\n\\t</div>\\n</div>\\n\\t\\t\\t<div class=\"col-md-4 col-xl-4 col-lg-4\">\\n\\t<div class=\"card product-wrapper thumbnail\">\\n\\t\\t<div class=\"card-body\">\\n\\t\\t\\t<img class=\"img-fluid card-img-top image img-responsive\" alt=\"item\" src=\"/images/test-sites/e-commerce/items/cart2.png\">\\n\\t\\t\\t<div class=\"caption\">\\n\\t\\t\\t\\t<h4 class=\"float-end price card-title pull-right\">$436.29</h4>\\n\\t\\t\\t\\t<h4>\\n\\t\\t\\t\\t\\t<a href=\"/test-sites/e-commerce/allinone/product/79\" class=\"title\" title=\"Acer Aspire ES1-572 Black\">Acer Aspire ES...</a>\\n\\t\\t\\t\\t</h4>\\n\\t\\t\\t\\t<p class=\"description card-text\">Acer Aspire ES1-572 Black, 15.6&quot; HD, Core i3-6006U, 4GB, 500GB, Windows 10 Home</p>\\n\\n\\t\\t\\t</div>\\n\\t\\t\\t<div class=\"ratings\">\\n\\t\\t\\t\\t<p class=\"float-end review-count\">2 reviews</p>\\n\\t\\t\\t\\t<p data-rating=\"1\">\\n\\t\\t\\t\\t\\t\\t\\t\\t\\t\\t<span class=\"ws-icon ws-icon-star\"></span>\\n\\t\\t\\t\\t\\t\\t\\t\\t\\t</p>\\n\\t\\t\\t</div>\\n\\t\\t</div>\\n\\t</div>\\n</div>\\n\\t\\t\\t<div class=\"col-md-4 col-xl-4 col-lg-4\">\\n\\t<div class=\"card product-wrapper thumbnail\">\\n\\t\\t<div class=\"card-body\">\\n\\t\\t\\t<img class=\"img-fluid card-img-top image img-responsive\" alt=\"item\" src=\"/images/test-sites/e-commerce/items/cart2.png\">\\n\\t\\t\\t<div class=\"caption\">\\n\\t\\t\\t\\t<h4 class=\"float-end price card-title pull-right\">$439.73</h4>\\n\\t\\t\\t\\t<h4>\\n\\t\\t\\t\\t\\t<a href=\"/test-sites/e-commerce/allinone/product/80\" class=\"title\" title=\"Acer Extensa 15 (2540) Black\">Acer Extensa 1...</a>\\n\\t\\t\\t\\t</h4>\\n\\t\\t\\t\\t<p class=\"description card-text\">Acer Extensa 15 (2540) Black, 15.6&quot; HD, Core i5-7200U, 4GB, 500GB, Linux</p>\\n\\n\\t\\t\\t</div>\\n\\t\\t\\t<div class=\"ratings\">\\n\\t\\t\\t\\t<p class=\"float-end review-count\">6 reviews</p>\\n\\t\\t\\t\\t<p data-rating=\"4\">\\n\\t\\t\\t\\t\\t\\t\\t\\t\\t\\t<span class=\"ws-icon ws-icon-star\"></span>\\n\\t\\t\\t\\t\\t\\t\\t\\t\\t\\t<span class=\"ws-icon ws-icon-star\"></span>\\n\\t\\t\\t\\t\\t\\t\\t\\t\\t\\t<span class=\"ws-icon ws-icon-star\"></span>\\n\\t\\t\\t\\t\\t\\t\\t\\t\\t\\t<span class=\"ws-icon ws-icon-star\"></span>\\n\\t\\t\\t\\t\\t\\t\\t\\t\\t</p>\\n\\t\\t\\t</div>\\n\\t\\t</div>\\n\\t</div>\\n</div>\\n\\t\\t\\t<div class=\"col-md-4 col-xl-4 col-lg-4\">\\n\\t<div class=\"card product-wrapper thumbnail\">\\n\\t\\t<div class=\"card-body\">\\n\\t\\t\\t<img class=\"img-fluid card-img-top image img-responsive\" alt=\"item\" src=\"/images/test-sites/e-commerce/items/cart2.png\">\\n\\t\\t\\t<div class=\"caption\">\\n\\t\\t\\t\\t<h4 class=\"float-end price card-title pull-right\">$454.62</h4>\\n\\t\\t\\t\\t<h4>\\n\\t\\t\\t\\t\\t<a href=\"/test-sites/e-commerce/allinone/product/81\" class=\"title\" title=\"Acer Aspire ES1-572 Black\">Acer Aspire ES...</a>\\n\\t\\t\\t\\t</h4>\\n\\t\\t\\t\\t<p class=\"description card-text\">Acer Aspire ES1-572 Black, 15.6&quot; HD, Core i5-7200U, 4GB, 500GB, Linux</p>\\n\\n\\t\\t\\t</div>\\n\\t\\t\\t<div class=\"ratings\">\\n\\t\\t\\t\\t<p class=\"float-end review-count\">9 reviews</p>\\n\\t\\t\\t\\t<p data-rating=\"1\">\\n\\t\\t\\t\\t\\t\\t\\t\\t\\t\\t<span class=\"ws-icon ws-icon-star\"></span>\\n\\t\\t\\t\\t\\t\\t\\t\\t\\t</p>\\n\\t\\t\\t</div>\\n\\t\\t</div>\\n\\t</div>\\n</div>\\n\\t\\t\\t<div class=\"col-md-4 col-xl-4 col-lg-4\">\\n\\t<div class=\"card product-wrapper thumbnail\">\\n\\t\\t<div class=\"card-body\">\\n\\t\\t\\t<img class=\"img-fluid card-img-top image img-responsive\" alt=\"item\" src=\"/images/test-sites/e-commerce/items/cart2.png\">\\n\\t\\t\\t<div class=\"caption\">\\n\\t\\t\\t\\t<h4 class=\"float-end price card-title pull-right\">$454.73</h4>\\n\\t\\t\\t\\t<h4>\\n\\t\\t\\t\\t\\t<a href=\"/test-sites/e-commerce/allinone/product/82\" class=\"title\" title=\"Lenovo V110-15ISK\">Lenovo V110-15...</a>\\n\\t\\t\\t\\t</h4>\\n\\t\\t\\t\\t<p class=\"description card-text\">Lenovo V110-15ISK, 15.6&quot; HD, Core i3-6006U, 4GB, 128GB SSD, Windows 10 Pro</p>\\n\\n\\t\\t\\t</div>\\n\\t\\t\\t<div class=\"ratings\">\\n\\t\\t\\t\\t<p class=\"float-end review-count\">2 reviews</p>\\n\\t\\t\\t\\t<p data-rating=\"2\">\\n\\t\\t\\t\\t\\t\\t\\t\\t\\t\\t<span class=\"ws-icon ws-icon-star\"></span>\\n\\t\\t\\t\\t\\t\\t\\t\\t\\t\\t<span class=\"ws-icon ws-icon-star\"></span>\\n\\t\\t\\t\\t\\t\\t\\t\\t\\t</p>\\n\\t\\t\\t</div>\\n\\t\\t</div>\\n\\t</div>\\n</div>\\n\\t\\t\\t<div class=\"col-md-4 col-xl-4 col-lg-4\">\\n\\t<div class=\"card product-wrapper thumbnail\">\\n\\t\\t<div class=\"card-body\">\\n\\t\\t\\t<img class=\"img-fluid card-img-top image img-responsive\" alt=\"item\" src=\"/images/test-sites/e-commerce/items/cart2.png\">\\n\\t\\t\\t<div class=\"caption\">\\n\\t\\t\\t\\t<h4 class=\"float-end price card-title pull-right\">$457.38</h4>\\n\\t\\t\\t\\t<h4>\\n\\t\\t\\t\\t\\t<a href=\"/test-sites/e-commerce/allinone/product/83\" class=\"title\" title=\"Acer Aspire A315-51-33TG\">Acer Aspire A3...</a>\\n\\t\\t\\t\\t</h4>\\n\\t\\t\\t\\t<p class=\"description card-text\">Acer Aspire A315-51-33TG, Black 15.6&quot; HD, Core i3-7100U, 4GB DDR4, 128GB SSD, Windows 10 Home, ENG</p>\\n\\n\\t\\t\\t</div>\\n\\t\\t\\t<div class=\"ratings\">\\n\\t\\t\\t\\t<p class=\"float-end review-count\">9 reviews</p>\\n\\t\\t\\t\\t<p data-rating=\"3\">\\n\\t\\t\\t\\t\\t\\t\\t\\t\\t\\t<span class=\"ws-icon ws-icon-star\"></span>\\n\\t\\t\\t\\t\\t\\t\\t\\t\\t\\t<span class=\"ws-icon ws-icon-star\"></span>\\n\\t\\t\\t\\t\\t\\t\\t\\t\\t\\t<span class=\"ws-icon ws-icon-star\"></span>\\n\\t\\t\\t\\t\\t\\t\\t\\t\\t</p>\\n\\t\\t\\t</div>\\n\\t\\t</div>\\n\\t</div>\\n</div>\\n\\t\\t\\t<div class=\"col-md-4 col-xl-4 col-lg-4\">\\n\\t<div class=\"card product-wrapper thumbnail\">\\n\\t\\t<div class=\"card-body\">\\n\\t\\t\\t<img class=\"img-fluid card-img-top image img-responsive\" alt=\"item\" src=\"/images/test-sites/e-commerce/items/cart2.png\">\\n\\t\\t\\t<div class=\"caption\">\\n\\t\\t\\t\\t<h4 class=\"float-end price card-title pull-right\">$465.95</h4>\\n\\t\\t\\t\\t<h4>\\n\\t\\t\\t\\t\\t<a href=\"/test-sites/e-commerce/allinone/product/84\" class=\"title\" title=\"Lenovo V110-15IKB\">Lenovo V110-15...</a>\\n\\t\\t\\t\\t</h4>\\n\\t\\t\\t\\t<p class=\"description card-text\">Lenovo V110-15IKB, 15.6&quot; HD, Core i5-7200U, 4GB, 500GB, DOS</p>\\n\\n\\t\\t\\t</div>\\n\\t\\t\\t<div class=\"ratings\">\\n\\t\\t\\t\\t<p class=\"float-end review-count\">7 reviews</p>\\n\\t\\t\\t\\t<p data-rating=\"1\">\\n\\t\\t\\t\\t\\t\\t\\t\\t\\t\\t<span class=\"ws-icon ws-icon-star\"></span>\\n\\t\\t\\t\\t\\t\\t\\t\\t\\t</p>\\n\\t\\t\\t</div>\\n\\t\\t</div>\\n\\t</div>\\n</div>\\n\\t\\t\\t<div class=\"col-md-4 col-xl-4 col-lg-4\">\\n\\t<div class=\"card product-wrapper thumbnail\">\\n\\t\\t<div class=\"card-body\">\\n\\t\\t\\t<img class=\"img-fluid card-img-top image img-responsive\" alt=\"item\" src=\"/images/test-sites/e-commerce/items/cart2.png\">\\n\\t\\t\\t<div class=\"caption\">\\n\\t\\t\\t\\t<h4 class=\"float-end price card-title pull-right\">$468.56</h4>\\n\\t\\t\\t\\t<h4>\\n\\t\\t\\t\\t\\t<a href=\"/test-sites/e-commerce/allinone/product/85\" class=\"title\" title=\"Asus VivoBook 15 X540UA-DM260 Chocolate Black\">Asus VivoBook...</a>\\n\\t\\t\\t\\t</h4>\\n\\t\\t\\t\\t<p class=\"description card-text\">Asus VivoBook 15 X540UA-DM260 Chocolate Black, 15.6&quot; FHD, Core i3-6006U, 4GB, 256GB SSD, Endless OS, En kbd</p>\\n\\n\\t\\t\\t</div>\\n\\t\\t\\t<div class=\"ratings\">\\n\\t\\t\\t\\t<p class=\"float-end review-count\">1 reviews</p>\\n\\t\\t\\t\\t<p data-rating=\"3\">\\n\\t\\t\\t\\t\\t\\t\\t\\t\\t\\t<span class=\"ws-icon ws-icon-star\"></span>\\n\\t\\t\\t\\t\\t\\t\\t\\t\\t\\t<span class=\"ws-icon ws-icon-star\"></span>\\n\\t\\t\\t\\t\\t\\t\\t\\t\\t\\t<span class=\"ws-icon ws-icon-star\"></span>\\n\\t\\t\\t\\t\\t\\t\\t\\t\\t</p>\\n\\t\\t\\t</div>\\n\\t\\t</div>\\n\\t</div>\\n</div>\\n\\t\\t\\t<div class=\"col-md-4 col-xl-4 col-lg-4\">\\n\\t<div class=\"card product-wrapper thumbnail\">\\n\\t\\t<div class=\"card-body\">\\n\\t\\t\\t<img class=\"img-fluid card-img-top image img-responsive\" alt=\"item\" src=\"/images/test-sites/e-commerce/items/cart2.png\">\\n\\t\\t\\t<div class=\"caption\">\\n\\t\\t\\t\\t<h4 class=\"float-end price card-title pull-right\">$469.1</h4>\\n\\t\\t\\t\\t<h4>\\n\\t\\t\\t\\t\\t<a href=\"/test-sites/e-commerce/allinone/product/86\" class=\"title\" title=\"Acer Aspire ES1-572 Black\">Acer Aspire ES...</a>\\n\\t\\t\\t\\t</h4>\\n\\t\\t\\t\\t<p class=\"description card-text\">Acer Aspire ES1-572 Black, 15.6&quot; HD, Core i3-6006U, 4GB, 128GB SSD, Windows 10 Home</p>\\n\\n\\t\\t\\t</div>\\n\\t\\t\\t<div class=\"ratings\">\\n\\t\\t\\t\\t<p class=\"float-end review-count\">5 reviews</p>\\n\\t\\t\\t\\t<p data-rating=\"3\">\\n\\t\\t\\t\\t\\t\\t\\t\\t\\t\\t<span class=\"ws-icon ws-icon-star\"></span>\\n\\t\\t\\t\\t\\t\\t\\t\\t\\t\\t<span class=\"ws-icon ws-icon-star\"></span>\\n\\t\\t\\t\\t\\t\\t\\t\\t\\t\\t<span class=\"ws-icon ws-icon-star\"></span>\\n\\t\\t\\t\\t\\t\\t\\t\\t\\t</p>\\n\\t\\t\\t</div>\\n\\t\\t</div>\\n\\t</div>\\n</div>\\n\\t\\t\\t<div class=\"col-md-4 col-xl-4 col-lg-4\">\\n\\t<div class=\"card product-wrapper thumbnail\">\\n\\t\\t<div class=\"card-body\">\\n\\t\\t\\t<img class=\"img-fluid card-img-top image img-responsive\" alt=\"item\" src=\"/images/test-sites/e-commerce/items/cart2.png\">\\n\\t\\t\\t<div class=\"caption\">\\n\\t\\t\\t\\t<h4 class=\"float-end price card-title pull-right\">$484.23</h4>\\n\\t\\t\\t\\t<h4>\\n\\t\\t\\t\\t\\t<a href=\"/test-sites/e-commerce/allinone/product/87\" class=\"title\" title=\"Lenovo V510 Black\">Lenovo V510 Bl...</a>\\n\\t\\t\\t\\t</h4>\\n\\t\\t\\t\\t<p class=\"description card-text\">Lenovo V510 Black, 14&quot; HD, Core i3-6006U, 4GB, 128GB SSD, Windows 10 Home</p>\\n\\n\\t\\t\\t</div>\\n\\t\\t\\t<div class=\"ratings\">\\n\\t\\t\\t\\t<p class=\"float-end review-count\">8 reviews</p>\\n\\t\\t\\t\\t<p data-rating=\"3\">\\n\\t\\t\\t\\t\\t\\t\\t\\t\\t\\t<span class=\"ws-icon ws-icon-star\"></span>\\n\\t\\t\\t\\t\\t\\t\\t\\t\\t\\t<span class=\"ws-icon ws-icon-star\"></span>\\n\\t\\t\\t\\t\\t\\t\\t\\t\\t\\t<span class=\"ws-icon ws-icon-star\"></span>\\n\\t\\t\\t\\t\\t\\t\\t\\t\\t</p>\\n\\t\\t\\t</div>\\n\\t\\t</div>\\n\\t</div>\\n</div>\\n\\t\\t\\t<div class=\"col-md-4 col-xl-4 col-lg-4\">\\n\\t<div class=\"card product-wrapper thumbnail\">\\n\\t\\t<div class=\"card-body\">\\n\\t\\t\\t<img class=\"img-fluid card-img-top image img-responsive\" alt=\"item\" src=\"/images/test-sites/e-commerce/items/cart2.png\">\\n\\t\\t\\t<div class=\"caption\">\\n\\t\\t\\t\\t<h4 class=\"float-end price card-title pull-right\">$485.9</h4>\\n\\t\\t\\t\\t<h4>\\n\\t\\t\\t\\t\\t<a href=\"/test-sites/e-commerce/allinone/product/88\" class=\"title\" title=\"Acer Aspire ES1-572 Black\">Acer Aspire ES...</a>\\n\\t\\t\\t\\t</h4>\\n\\t\\t\\t\\t<p class=\"description card-text\">Acer Aspire ES1-572 Black, 15.6&quot; HD, Core i5-7200U, 4GB, 128GB SSD, Linux</p>\\n\\n\\t\\t\\t</div>\\n\\t\\t\\t<div class=\"ratings\">\\n\\t\\t\\t\\t<p class=\"float-end review-count\">6 reviews</p>\\n\\t\\t\\t\\t<p data-rating=\"3\">\\n\\t\\t\\t\\t\\t\\t\\t\\t\\t\\t<span class=\"ws-icon ws-icon-star\"></span>\\n\\t\\t\\t\\t\\t\\t\\t\\t\\t\\t<span class=\"ws-icon ws-icon-star\"></span>\\n\\t\\t\\t\\t\\t\\t\\t\\t\\t\\t<span class=\"ws-icon ws-icon-star\"></span>\\n\\t\\t\\t\\t\\t\\t\\t\\t\\t</p>\\n\\t\\t\\t</div>\\n\\t\\t</div>\\n\\t</div>\\n</div>\\n\\t\\t\\t<div class=\"col-md-4 col-xl-4 col-lg-4\">\\n\\t<div class=\"card product-wrapper thumbnail\">\\n\\t\\t<div class=\"card-body\">\\n\\t\\t\\t<img class=\"img-fluid card-img-top image img-responsive\" alt=\"item\" src=\"/images/test-sites/e-commerce/items/cart2.png\">\\n\\t\\t\\t<div class=\"caption\">\\n\\t\\t\\t\\t<h4 class=\"float-end price card-title pull-right\">$487.8</h4>\\n\\t\\t\\t\\t<h4>\\n\\t\\t\\t\\t\\t<a href=\"/test-sites/e-commerce/allinone/product/89\" class=\"title\" title=\"Lenovo V510 Black\">Lenovo V510 Bl...</a>\\n\\t\\t\\t\\t</h4>\\n\\t\\t\\t\\t<p class=\"description card-text\">Lenovo V510 Black, 15.6&quot; HD, Core i3-6006U, 4GB, 128GB SSD, Windows 10 Home</p>\\n\\n\\t\\t\\t</div>\\n\\t\\t\\t<div class=\"ratings\">\\n\\t\\t\\t\\t<p class=\"float-end review-count\">9 reviews</p>\\n\\t\\t\\t\\t<p data-rating=\"2\">\\n\\t\\t\\t\\t\\t\\t\\t\\t\\t\\t<span class=\"ws-icon ws-icon-star\"></span>\\n\\t\\t\\t\\t\\t\\t\\t\\t\\t\\t<span class=\"ws-icon ws-icon-star\"></span>\\n\\t\\t\\t\\t\\t\\t\\t\\t\\t</p>\\n\\t\\t\\t</div>\\n\\t\\t</div>\\n\\t</div>\\n</div>\\n\\t\\t\\t<div class=\"col-md-4 col-xl-4 col-lg-4\">\\n\\t<div class=\"card product-wrapper thumbnail\">\\n\\t\\t<div class=\"card-body\">\\n\\t\\t\\t<img class=\"img-fluid card-img-top image img-responsive\" alt=\"item\" src=\"/images/test-sites/e-commerce/items/cart2.png\">\\n\\t\\t\\t<div class=\"caption\">\\n\\t\\t\\t\\t<h4 class=\"float-end price card-title pull-right\">$488.64</h4>\\n\\t\\t\\t\\t<h4>\\n\\t\\t\\t\\t\\t<a href=\"/test-sites/e-commerce/allinone/product/90\" class=\"title\" title=\"Acer Swift 1 SF113-31 Silver\">Acer Swift 1 S...</a>\\n\\t\\t\\t\\t</h4>\\n\\t\\t\\t\\t<p class=\"description card-text\">Acer Swift 1 SF113-31 Silver, 13.3&quot; FHD, Pentium N4200, 4GB, 128GB SSD, Windows 10 Home</p>\\n\\n\\t\\t\\t</div>\\n\\t\\t\\t<div class=\"ratings\">\\n\\t\\t\\t\\t<p class=\"float-end review-count\">4 reviews</p>\\n\\t\\t\\t\\t<p data-rating=\"3\">\\n\\t\\t\\t\\t\\t\\t\\t\\t\\t\\t<span class=\"ws-icon ws-icon-star\"></span>\\n\\t\\t\\t\\t\\t\\t\\t\\t\\t\\t<span class=\"ws-icon ws-icon-star\"></span>\\n\\t\\t\\t\\t\\t\\t\\t\\t\\t\\t<span class=\"ws-icon ws-icon-star\"></span>\\n\\t\\t\\t\\t\\t\\t\\t\\t\\t</p>\\n\\t\\t\\t</div>\\n\\t\\t</div>\\n\\t</div>\\n</div>\\n\\t\\t\\t<div class=\"col-md-4 col-xl-4 col-lg-4\">\\n\\t<div class=\"card product-wrapper thumbnail\">\\n\\t\\t<div class=\"card-body\">\\n\\t\\t\\t<img class=\"img-fluid card-img-top image img-responsive\" alt=\"item\" src=\"/images/test-sites/e-commerce/items/cart2.png\">\\n\\t\\t\\t<div class=\"caption\">\\n\\t\\t\\t\\t<h4 class=\"float-end price card-title pull-right\">$488.78</h4>\\n\\t\\t\\t\\t<h4>\\n\\t\\t\\t\\t\\t<a href=\"/test-sites/e-commerce/allinone/product/46\" class=\"title\" title=\"Dell Vostro 15\">Dell Vostro 15</a>\\n\\t\\t\\t\\t</h4>\\n\\t\\t\\t\\t<p class=\"description card-text\">Dell Vostro 15 (3568) Black, 15.6&quot; FHD, Core i5-7200U, 4GB, 128GB SSD, Radeon R5 M420 2GB, Linux</p>\\n\\n\\t\\t\\t</div>\\n\\t\\t\\t<div class=\"ratings\">\\n\\t\\t\\t\\t<p class=\"float-end review-count\">14 reviews</p>\\n\\t\\t\\t\\t<p data-rating=\"4\">\\n\\t\\t\\t\\t\\t\\t\\t\\t\\t\\t<span class=\"ws-icon ws-icon-star\"></span>\\n\\t\\t\\t\\t\\t\\t\\t\\t\\t\\t<span class=\"ws-icon ws-icon-star\"></span>\\n\\t\\t\\t\\t\\t\\t\\t\\t\\t\\t<span class=\"ws-icon ws-icon-star\"></span>\\n\\t\\t\\t\\t\\t\\t\\t\\t\\t\\t<span class=\"ws-icon ws-icon-star\"></span>\\n\\t\\t\\t\\t\\t\\t\\t\\t\\t</p>\\n\\t\\t\\t</div>\\n\\t\\t</div>\\n\\t</div>\\n</div>\\n\\t\\t\\t<div class=\"col-md-4 col-xl-4 col-lg-4\">\\n\\t<div class=\"card product-wrapper thumbnail\">\\n\\t\\t<div class=\"card-body\">\\n\\t\\t\\t<img class=\"img-fluid card-img-top image img-responsive\" alt=\"item\" src=\"/images/test-sites/e-commerce/items/cart2.png\">\\n\\t\\t\\t<div class=\"caption\">\\n\\t\\t\\t\\t<h4 class=\"float-end price card-title pull-right\">$494.71</h4>\\n\\t\\t\\t\\t<h4>\\n\\t\\t\\t\\t\\t<a href=\"/test-sites/e-commerce/allinone/product/91\" class=\"title\" title=\"Acer Aspire 3 A315-51 Black\">Acer Aspire 3...</a>\\n\\t\\t\\t\\t</h4>\\n\\t\\t\\t\\t<p class=\"description card-text\">Acer Aspire 3 A315-51 Black, 15.6&quot; FHD, Core i3-7100U, 4GB, 500GB + 128GB SSD, Windows 10 Home</p>\\n\\n\\t\\t\\t</div>\\n\\t\\t\\t<div class=\"ratings\">\\n\\t\\t\\t\\t<p class=\"float-end review-count\">2 reviews</p>\\n\\t\\t\\t\\t<p data-rating=\"4\">\\n\\t\\t\\t\\t\\t\\t\\t\\t\\t\\t<span class=\"ws-icon ws-icon-star\"></span>\\n\\t\\t\\t\\t\\t\\t\\t\\t\\t\\t<span class=\"ws-icon ws-icon-star\"></span>\\n\\t\\t\\t\\t\\t\\t\\t\\t\\t\\t<span class=\"ws-icon ws-icon-star\"></span>\\n\\t\\t\\t\\t\\t\\t\\t\\t\\t\\t<span class=\"ws-icon ws-icon-star\"></span>\\n\\t\\t\\t\\t\\t\\t\\t\\t\\t</p>\\n\\t\\t\\t</div>\\n\\t\\t</div>\\n\\t</div>\\n</div>\\n\\t\\t\\t<div class=\"col-md-4 col-xl-4 col-lg-4\">\\n\\t<div class=\"card product-wrapper thumbnail\">\\n\\t\\t<div class=\"card-body\">\\n\\t\\t\\t<img class=\"img-fluid card-img-top image img-responsive\" alt=\"item\" src=\"/images/test-sites/e-commerce/items/cart2.png\">\\n\\t\\t\\t<div class=\"caption\">\\n\\t\\t\\t\\t<h4 class=\"float-end price card-title pull-right\">$497.17</h4>\\n\\t\\t\\t\\t<h4>\\n\\t\\t\\t\\t\\t<a href=\"/test-sites/e-commerce/allinone/product/92\" class=\"title\" title=\"Dell Vostro 15 (3568) Red\">Dell Vostro 15...</a>\\n\\t\\t\\t\\t</h4>\\n\\t\\t\\t\\t<p class=\"description card-text\">Dell Vostro 15 (3568) Red, 15.6&quot; HD, Core i5-7200U, 4GB, 1TB, Radeon R5 M420 2GB, Linux</p>\\n\\n\\t\\t\\t</div>\\n\\t\\t\\t<div class=\"ratings\">\\n\\t\\t\\t\\t<p class=\"float-end review-count\">9 reviews</p>\\n\\t\\t\\t\\t<p data-rating=\"1\">\\n\\t\\t\\t\\t\\t\\t\\t\\t\\t\\t<span class=\"ws-icon ws-icon-star\"></span>\\n\\t\\t\\t\\t\\t\\t\\t\\t\\t</p>\\n\\t\\t\\t</div>\\n\\t\\t</div>\\n\\t</div>\\n</div>\\n\\t\\t\\t<div class=\"col-md-4 col-xl-4 col-lg-4\">\\n\\t<div class=\"card product-wrapper thumbnail\">\\n\\t\\t<div class=\"card-body\">\\n\\t\\t\\t<img class=\"img-fluid card-img-top image img-responsive\" alt=\"item\" src=\"/images/test-sites/e-commerce/items/cart2.png\">\\n\\t\\t\\t<div class=\"caption\">\\n\\t\\t\\t\\t<h4 class=\"float-end price card-title pull-right\">$498.23</h4>\\n\\t\\t\\t\\t<h4>\\n\\t\\t\\t\\t\\t<a href=\"/test-sites/e-commerce/allinone/product/93\" class=\"title\" title=\"Lenovo V510 Black\">Lenovo V510 Bl...</a>\\n\\t\\t\\t\\t</h4>\\n\\t\\t\\t\\t<p class=\"description card-text\">Lenovo V510 Black, 15.6&quot; FHD, Core i3-7100U, 4GB, 128GB SSD, Windows 10 Pro</p>\\n\\n\\t\\t\\t</div>\\n\\t\\t\\t<div class=\"ratings\">\\n\\t\\t\\t\\t<p class=\"float-end review-count\">5 reviews</p>\\n\\t\\t\\t\\t<p data-rating=\"3\">\\n\\t\\t\\t\\t\\t\\t\\t\\t\\t\\t<span class=\"ws-icon ws-icon-star\"></span>\\n\\t\\t\\t\\t\\t\\t\\t\\t\\t\\t<span class=\"ws-icon ws-icon-star\"></span>\\n\\t\\t\\t\\t\\t\\t\\t\\t\\t\\t<span class=\"ws-icon ws-icon-star\"></span>\\n\\t\\t\\t\\t\\t\\t\\t\\t\\t</p>\\n\\t\\t\\t</div>\\n\\t\\t</div>\\n\\t</div>\\n</div>\\n\\t\\t\\t<div class=\"col-md-4 col-xl-4 col-lg-4\">\\n\\t<div class=\"card product-wrapper thumbnail\">\\n\\t\\t<div class=\"card-body\">\\n\\t\\t\\t<img class=\"img-fluid card-img-top image img-responsive\" alt=\"item\" src=\"/images/test-sites/e-commerce/items/cart2.png\">\\n\\t\\t\\t<div class=\"caption\">\\n\\t\\t\\t\\t<h4 class=\"float-end price card-title pull-right\">$520.99</h4>\\n\\t\\t\\t\\t<h4>\\n\\t\\t\\t\\t\\t<a href=\"/test-sites/e-commerce/allinone/product/42\" class=\"title\" title=\"HP 250 G3\">HP 250 G3</a>\\n\\t\\t\\t\\t</h4>\\n\\t\\t\\t\\t<p class=\"description card-text\">15.6&quot;, Core\\xa0i5-4210U, 4GB, 500GB, Windows 8.1</p>\\n\\n\\t\\t\\t</div>\\n\\t\\t\\t<div class=\"ratings\">\\n\\t\\t\\t\\t<p class=\"float-end review-count\">13 reviews</p>\\n\\t\\t\\t\\t<p data-rating=\"2\">\\n\\t\\t\\t\\t\\t\\t\\t\\t\\t\\t<span class=\"ws-icon ws-icon-star\"></span>\\n\\t\\t\\t\\t\\t\\t\\t\\t\\t\\t<span class=\"ws-icon ws-icon-star\"></span>\\n\\t\\t\\t\\t\\t\\t\\t\\t\\t</p>\\n\\t\\t\\t</div>\\n\\t\\t</div>\\n\\t</div>\\n</div>\\n\\t\\t\\t<div class=\"col-md-4 col-xl-4 col-lg-4\">\\n\\t<div class=\"card product-wrapper thumbnail\">\\n\\t\\t<div class=\"card-body\">\\n\\t\\t\\t<img class=\"img-fluid card-img-top image img-responsive\" alt=\"item\" src=\"/images/test-sites/e-commerce/items/cart2.png\">\\n\\t\\t\\t<div class=\"caption\">\\n\\t\\t\\t\\t<h4 class=\"float-end price card-title pull-right\">$564.98</h4>\\n\\t\\t\\t\\t<h4>\\n\\t\\t\\t\\t\\t<a href=\"/test-sites/e-commerce/allinone/product/47\" class=\"title\" title=\"Acer Spin 5\">Acer Spin 5</a>\\n\\t\\t\\t\\t</h4>\\n\\t\\t\\t\\t<p class=\"description card-text\">Acer Spin 5 SP513-51 Black, 13.3&quot; FHD Touch, Core i3-7100U, 4GB, 128GB SSD, Windows 10 Home</p>\\n\\n\\t\\t\\t</div>\\n\\t\\t\\t<div class=\"ratings\">\\n\\t\\t\\t\\t<p class=\"float-end review-count\">0 reviews</p>\\n\\t\\t\\t\\t<p data-rating=\"2\">\\n\\t\\t\\t\\t\\t\\t\\t\\t\\t\\t<span class=\"ws-icon ws-icon-star\"></span>\\n\\t\\t\\t\\t\\t\\t\\t\\t\\t\\t<span class=\"ws-icon ws-icon-star\"></span>\\n\\t\\t\\t\\t\\t\\t\\t\\t\\t</p>\\n\\t\\t\\t</div>\\n\\t\\t</div>\\n\\t</div>\\n</div>\\n\\t\\t\\t<div class=\"col-md-4 col-xl-4 col-lg-4\">\\n\\t<div class=\"card product-wrapper thumbnail\">\\n\\t\\t<div class=\"card-body\">\\n\\t\\t\\t<img class=\"img-fluid card-img-top image img-responsive\" alt=\"item\" src=\"/images/test-sites/e-commerce/items/cart2.png\">\\n\\t\\t\\t<div class=\"caption\">\\n\\t\\t\\t\\t<h4 class=\"float-end price card-title pull-right\">$577.99</h4>\\n\\t\\t\\t\\t<h4>\\n\\t\\t\\t\\t\\t<a href=\"/test-sites/e-commerce/allinone/product/44\" class=\"title\" title=\"HP 350 G1\">HP 350 G1</a>\\n\\t\\t\\t\\t</h4>\\n\\t\\t\\t\\t<p class=\"description card-text\">15.6&quot;, Core i5-4200U, 4GB, 750GB, Radeon HD8670M 2GB, Windows</p>\\n\\n\\t\\t\\t</div>\\n\\t\\t\\t<div class=\"ratings\">\\n\\t\\t\\t\\t<p class=\"float-end review-count\">10 reviews</p>\\n\\t\\t\\t\\t<p data-rating=\"2\">\\n\\t\\t\\t\\t\\t\\t\\t\\t\\t\\t<span class=\"ws-icon ws-icon-star\"></span>\\n\\t\\t\\t\\t\\t\\t\\t\\t\\t\\t<span class=\"ws-icon ws-icon-star\"></span>\\n\\t\\t\\t\\t\\t\\t\\t\\t\\t</p>\\n\\t\\t\\t</div>\\n\\t\\t</div>\\n\\t</div>\\n</div>\\n\\t\\t\\t<div class=\"col-md-4 col-xl-4 col-lg-4\">\\n\\t<div class=\"card product-wrapper thumbnail\">\\n\\t\\t<div class=\"card-body\">\\n\\t\\t\\t<img class=\"img-fluid card-img-top image img-responsive\" alt=\"item\" src=\"/images/test-sites/e-commerce/items/cart2.png\">\\n\\t\\t\\t<div class=\"caption\">\\n\\t\\t\\t\\t<h4 class=\"float-end price card-title pull-right\">$581.99</h4>\\n\\t\\t\\t\\t<h4>\\n\\t\\t\\t\\t\\t<a href=\"/test-sites/e-commerce/allinone/product/36\" class=\"title\" title=\"Aspire E1-572G\">Aspire E1-572G</a>\\n\\t\\t\\t\\t</h4>\\n\\t\\t\\t\\t<p class=\"description card-text\">15.6&quot;, Core i5-4200U, 8GB, 1TB, Radeon R7 M265, Windows 8.1</p>\\n\\n\\t\\t\\t</div>\\n\\t\\t\\t<div class=\"ratings\">\\n\\t\\t\\t\\t<p class=\"float-end review-count\">2 reviews</p>\\n\\t\\t\\t\\t<p data-rating=\"1\">\\n\\t\\t\\t\\t\\t\\t\\t\\t\\t\\t<span class=\"ws-icon ws-icon-star\"></span>\\n\\t\\t\\t\\t\\t\\t\\t\\t\\t</p>\\n\\t\\t\\t</div>\\n\\t\\t</div>\\n\\t</div>\\n</div>\\n\\t\\t\\t<div class=\"col-md-4 col-xl-4 col-lg-4\">\\n\\t<div class=\"card product-wrapper thumbnail\">\\n\\t\\t<div class=\"card-body\">\\n\\t\\t\\t<img class=\"img-fluid card-img-top image img-responsive\" alt=\"item\" src=\"/images/test-sites/e-commerce/items/cart2.png\">\\n\\t\\t\\t<div class=\"caption\">\\n\\t\\t\\t\\t<h4 class=\"float-end price card-title pull-right\">$609.99</h4>\\n\\t\\t\\t\\t<h4>\\n\\t\\t\\t\\t\\t<a href=\"/test-sites/e-commerce/allinone/product/38\" class=\"title\" title=\"Pavilion\">Pavilion</a>\\n\\t\\t\\t\\t</h4>\\n\\t\\t\\t\\t<p class=\"description card-text\">15.6&quot;, Core i5-4200U, 6GB, 750GB, Windows 8.1</p>\\n\\n\\t\\t\\t</div>\\n\\t\\t\\t<div class=\"ratings\">\\n\\t\\t\\t\\t<p class=\"float-end review-count\">4 reviews</p>\\n\\t\\t\\t\\t<p data-rating=\"1\">\\n\\t\\t\\t\\t\\t\\t\\t\\t\\t\\t<span class=\"ws-icon ws-icon-star\"></span>\\n\\t\\t\\t\\t\\t\\t\\t\\t\\t</p>\\n\\t\\t\\t</div>\\n\\t\\t</div>\\n\\t</div>\\n</div>\\n\\t\\t\\t<div class=\"col-md-4 col-xl-4 col-lg-4\">\\n\\t<div class=\"card product-wrapper thumbnail\">\\n\\t\\t<div class=\"card-body\">\\n\\t\\t\\t<img class=\"img-fluid card-img-top image img-responsive\" alt=\"item\" src=\"/images/test-sites/e-commerce/items/cart2.png\">\\n\\t\\t\\t<div class=\"caption\">\\n\\t\\t\\t\\t<h4 class=\"float-end price card-title pull-right\">$679</h4>\\n\\t\\t\\t\\t<h4>\\n\\t\\t\\t\\t\\t<a href=\"/test-sites/e-commerce/allinone/product/48\" class=\"title\" title=\"Acer Aspire A515-51-5654\">Acer Aspire A5...</a>\\n\\t\\t\\t\\t</h4>\\n\\t\\t\\t\\t<p class=\"description card-text\">Acer Aspire A515-51-5654, Black, 15.6&quot;, FHD, Core i5-8250U, 8GB DDR4, 256GB SSD, Windows 10 Home, ENG</p>\\n\\n\\t\\t\\t</div>\\n\\t\\t\\t<div class=\"ratings\">\\n\\t\\t\\t\\t<p class=\"float-end review-count\">9 reviews</p>\\n\\t\\t\\t\\t<p data-rating=\"2\">\\n\\t\\t\\t\\t\\t\\t\\t\\t\\t\\t<span class=\"ws-icon ws-icon-star\"></span>\\n\\t\\t\\t\\t\\t\\t\\t\\t\\t\\t<span class=\"ws-icon ws-icon-star\"></span>\\n\\t\\t\\t\\t\\t\\t\\t\\t\\t</p>\\n\\t\\t\\t</div>\\n\\t\\t</div>\\n\\t</div>\\n</div>\\n\\t\\t\\t<div class=\"col-md-4 col-xl-4 col-lg-4\">\\n\\t<div class=\"card product-wrapper thumbnail\">\\n\\t\\t<div class=\"card-body\">\\n\\t\\t\\t<img class=\"img-fluid card-img-top image img-responsive\" alt=\"item\" src=\"/images/test-sites/e-commerce/items/cart2.png\">\\n\\t\\t\\t<div class=\"caption\">\\n\\t\\t\\t\\t<h4 class=\"float-end price card-title pull-right\">$679</h4>\\n\\t\\t\\t\\t<h4>\\n\\t\\t\\t\\t\\t<a href=\"/test-sites/e-commerce/allinone/product/49\" class=\"title\" title=\"Dell Inspiron 15\">Dell Inspiron...</a>\\n\\t\\t\\t\\t</h4>\\n\\t\\t\\t\\t<p class=\"description card-text\">Dell Inspiron 15 (5567) Fog Gray, 15.6&quot; FHD, Core i5-7200U, 8GB, 1TB, Radeon R7 M445 4GB, Linux</p>\\n\\n\\t\\t\\t</div>\\n\\t\\t\\t<div class=\"ratings\">\\n\\t\\t\\t\\t<p class=\"float-end review-count\">7 reviews</p>\\n\\t\\t\\t\\t<p data-rating=\"2\">\\n\\t\\t\\t\\t\\t\\t\\t\\t\\t\\t<span class=\"ws-icon ws-icon-star\"></span>\\n\\t\\t\\t\\t\\t\\t\\t\\t\\t\\t<span class=\"ws-icon ws-icon-star\"></span>\\n\\t\\t\\t\\t\\t\\t\\t\\t\\t</p>\\n\\t\\t\\t</div>\\n\\t\\t</div>\\n\\t</div>\\n</div>\\n\\t\\t\\t<div class=\"col-md-4 col-xl-4 col-lg-4\">\\n\\t<div class=\"card product-wrapper thumbnail\">\\n\\t\\t<div class=\"card-body\">\\n\\t\\t\\t<img class=\"img-fluid card-img-top image img-responsive\" alt=\"item\" src=\"/images/test-sites/e-commerce/items/cart2.png\">\\n\\t\\t\\t<div class=\"caption\">\\n\\t\\t\\t\\t<h4 class=\"float-end price card-title pull-right\">$729</h4>\\n\\t\\t\\t\\t<h4>\\n\\t\\t\\t\\t\\t<a href=\"/test-sites/e-commerce/allinone/product/50\" class=\"title\" title=\"Asus VivoBook S14\">Asus VivoBook...</a>\\n\\t\\t\\t\\t</h4>\\n\\t\\t\\t\\t<p class=\"description card-text\">Asus VivoBook S14 (S406UA-BV041T) Starry Grey, 14&quot;, Core i5-8250U, 8GB, 256GB SSD, Windows 10 Home, Eng kbd</p>\\n\\n\\t\\t\\t</div>\\n\\t\\t\\t<div class=\"ratings\">\\n\\t\\t\\t\\t<p class=\"float-end review-count\">2 reviews</p>\\n\\t\\t\\t\\t<p data-rating=\"1\">\\n\\t\\t\\t\\t\\t\\t\\t\\t\\t\\t<span class=\"ws-icon ws-icon-star\"></span>\\n\\t\\t\\t\\t\\t\\t\\t\\t\\t</p>\\n\\t\\t\\t</div>\\n\\t\\t</div>\\n\\t</div>\\n</div>\\n\\t\\t\\t<div class=\"col-md-4 col-xl-4 col-lg-4\">\\n\\t<div class=\"card product-wrapper thumbnail\">\\n\\t\\t<div class=\"card-body\">\\n\\t\\t\\t<img class=\"img-fluid card-img-top image img-responsive\" alt=\"item\" src=\"/images/test-sites/e-commerce/items/cart2.png\">\\n\\t\\t\\t<div class=\"caption\">\\n\\t\\t\\t\\t<h4 class=\"float-end price card-title pull-right\">$739.99</h4>\\n\\t\\t\\t\\t<h4>\\n\\t\\t\\t\\t\\t<a href=\"/test-sites/e-commerce/allinone/product/34\" class=\"title\" title=\"ProBook\">ProBook</a>\\n\\t\\t\\t\\t</h4>\\n\\t\\t\\t\\t<p class=\"description card-text\">14&quot;, Core i5 2.6GHz, 4GB, 500GB, Win7 Pro 64bit</p>\\n\\n\\t\\t\\t</div>\\n\\t\\t\\t<div class=\"ratings\">\\n\\t\\t\\t\\t<p class=\"float-end review-count\">8 reviews</p>\\n\\t\\t\\t\\t<p data-rating=\"4\">\\n\\t\\t\\t\\t\\t\\t\\t\\t\\t\\t<span class=\"ws-icon ws-icon-star\"></span>\\n\\t\\t\\t\\t\\t\\t\\t\\t\\t\\t<span class=\"ws-icon ws-icon-star\"></span>\\n\\t\\t\\t\\t\\t\\t\\t\\t\\t\\t<span class=\"ws-icon ws-icon-star\"></span>\\n\\t\\t\\t\\t\\t\\t\\t\\t\\t\\t<span class=\"ws-icon ws-icon-star\"></span>\\n\\t\\t\\t\\t\\t\\t\\t\\t\\t</p>\\n\\t\\t\\t</div>\\n\\t\\t</div>\\n\\t</div>\\n</div>\\n\\t\\t\\t<div class=\"col-md-4 col-xl-4 col-lg-4\">\\n\\t<div class=\"card product-wrapper thumbnail\">\\n\\t\\t<div class=\"card-body\">\\n\\t\\t\\t<img class=\"img-fluid card-img-top image img-responsive\" alt=\"item\" src=\"/images/test-sites/e-commerce/items/cart2.png\">\\n\\t\\t\\t<div class=\"caption\">\\n\\t\\t\\t\\t<h4 class=\"float-end price card-title pull-right\">$745.99</h4>\\n\\t\\t\\t\\t<h4>\\n\\t\\t\\t\\t\\t<a href=\"/test-sites/e-commerce/allinone/product/39\" class=\"title\" title=\"Inspiron 15\">Inspiron 15</a>\\n\\t\\t\\t\\t</h4>\\n\\t\\t\\t\\t<p class=\"description card-text\">Moon Silver, 15.6&quot;, Core i7-4510U, 8GB, 1TB, Radeon HD R7 M265 2GB,</p>\\n\\n\\t\\t\\t</div>\\n\\t\\t\\t<div class=\"ratings\">\\n\\t\\t\\t\\t<p class=\"float-end review-count\">12 reviews</p>\\n\\t\\t\\t\\t<p data-rating=\"3\">\\n\\t\\t\\t\\t\\t\\t\\t\\t\\t\\t<span class=\"ws-icon ws-icon-star\"></span>\\n\\t\\t\\t\\t\\t\\t\\t\\t\\t\\t<span class=\"ws-icon ws-icon-star\"></span>\\n\\t\\t\\t\\t\\t\\t\\t\\t\\t\\t<span class=\"ws-icon ws-icon-star\"></span>\\n\\t\\t\\t\\t\\t\\t\\t\\t\\t</p>\\n\\t\\t\\t</div>\\n\\t\\t</div>\\n\\t</div>\\n</div>\\n\\t\\t\\t<div class=\"col-md-4 col-xl-4 col-lg-4\">\\n\\t<div class=\"card product-wrapper thumbnail\">\\n\\t\\t<div class=\"card-body\">\\n\\t\\t\\t<img class=\"img-fluid card-img-top image img-responsive\" alt=\"item\" src=\"/images/test-sites/e-commerce/items/cart2.png\">\\n\\t\\t\\t<div class=\"caption\">\\n\\t\\t\\t\\t<h4 class=\"float-end price card-title pull-right\">$799</h4>\\n\\t\\t\\t\\t<h4>\\n\\t\\t\\t\\t\\t<a href=\"/test-sites/e-commerce/allinone/product/51\" class=\"title\" title=\"Asus ROG STRIX GL553VD-DM256\">Asus ROG STRIX...</a>\\n\\t\\t\\t\\t</h4>\\n\\t\\t\\t\\t<p class=\"description card-text\">Asus ROG STRIX GL553VD-DM256, 15.6&quot; FHD, Core i5-7300HQ, 8GB, 1TB, GeForce GTX 1050 2GB, No OS</p>\\n\\n\\t\\t\\t</div>\\n\\t\\t\\t<div class=\"ratings\">\\n\\t\\t\\t\\t<p class=\"float-end review-count\">7 reviews</p>\\n\\t\\t\\t\\t<p data-rating=\"2\">\\n\\t\\t\\t\\t\\t\\t\\t\\t\\t\\t<span class=\"ws-icon ws-icon-star\"></span>\\n\\t\\t\\t\\t\\t\\t\\t\\t\\t\\t<span class=\"ws-icon ws-icon-star\"></span>\\n\\t\\t\\t\\t\\t\\t\\t\\t\\t</p>\\n\\t\\t\\t</div>\\n\\t\\t</div>\\n\\t</div>\\n</div>\\n\\t\\t\\t<div class=\"col-md-4 col-xl-4 col-lg-4\">\\n\\t<div class=\"card product-wrapper thumbnail\">\\n\\t\\t<div class=\"card-body\">\\n\\t\\t\\t<img class=\"img-fluid card-img-top image img-responsive\" alt=\"item\" src=\"/images/test-sites/e-commerce/items/cart2.png\">\\n\\t\\t\\t<div class=\"caption\">\\n\\t\\t\\t\\t<h4 class=\"float-end price card-title pull-right\">$809</h4>\\n\\t\\t\\t\\t<h4>\\n\\t\\t\\t\\t\\t<a href=\"/test-sites/e-commerce/allinone/product/52\" class=\"title\" title=\"Acer Nitro 5 AN515-51\">Acer Nitro 5 A...</a>\\n\\t\\t\\t\\t</h4>\\n\\t\\t\\t\\t<p class=\"description card-text\">Acer Nitro 5 AN515-51, 15.6&quot; FHD IPS, Core i5-7300HQ, 8GB, 1TB, GeForce GTX 1050 2GB, Windows 10 Home</p>\\n\\n\\t\\t\\t</div>\\n\\t\\t\\t<div class=\"ratings\">\\n\\t\\t\\t\\t<p class=\"float-end review-count\">0 reviews</p>\\n\\t\\t\\t\\t<p data-rating=\"1\">\\n\\t\\t\\t\\t\\t\\t\\t\\t\\t\\t<span class=\"ws-icon ws-icon-star\"></span>\\n\\t\\t\\t\\t\\t\\t\\t\\t\\t</p>\\n\\t\\t\\t</div>\\n\\t\\t</div>\\n\\t</div>\\n</div>\\n\\t\\t\\t<div class=\"col-md-4 col-xl-4 col-lg-4\">\\n\\t<div class=\"card product-wrapper thumbnail\">\\n\\t\\t<div class=\"card-body\">\\n\\t\\t\\t<img class=\"img-fluid card-img-top image img-responsive\" alt=\"item\" src=\"/images/test-sites/e-commerce/items/cart2.png\">\\n\\t\\t\\t<div class=\"caption\">\\n\\t\\t\\t\\t<h4 class=\"float-end price card-title pull-right\">$899</h4>\\n\\t\\t\\t\\t<h4>\\n\\t\\t\\t\\t\\t<a href=\"/test-sites/e-commerce/allinone/product/53\" class=\"title\" title=\"Asus ROG STRIX GL553VD-DM256\">Asus ROG STRIX...</a>\\n\\t\\t\\t\\t</h4>\\n\\t\\t\\t\\t<p class=\"description card-text\">Asus ROG STRIX GL553VD-DM256, 15.6&quot; FHD, Core i5-7300HQ, 8GB, 1TB, GeForce GTX 1050 2GB, No OS + Windows 10 Home</p>\\n\\n\\t\\t\\t</div>\\n\\t\\t\\t<div class=\"ratings\">\\n\\t\\t\\t\\t<p class=\"float-end review-count\">7 reviews</p>\\n\\t\\t\\t\\t<p data-rating=\"1\">\\n\\t\\t\\t\\t\\t\\t\\t\\t\\t\\t<span class=\"ws-icon ws-icon-star\"></span>\\n\\t\\t\\t\\t\\t\\t\\t\\t\\t</p>\\n\\t\\t\\t</div>\\n\\t\\t</div>\\n\\t</div>\\n</div>\\n\\t\\t\\t<div class=\"col-md-4 col-xl-4 col-lg-4\">\\n\\t<div class=\"card product-wrapper thumbnail\">\\n\\t\\t<div class=\"card-body\">\\n\\t\\t\\t<img class=\"img-fluid card-img-top image img-responsive\" alt=\"item\" src=\"/images/test-sites/e-commerce/items/cart2.png\">\\n\\t\\t\\t<div class=\"caption\">\\n\\t\\t\\t\\t<h4 class=\"float-end price card-title pull-right\">$999</h4>\\n\\t\\t\\t\\t<h4>\\n\\t\\t\\t\\t\\t<a href=\"/test-sites/e-commerce/allinone/product/54\" class=\"title\" title=\"Lenovo ThinkPad L570\">Lenovo ThinkPa...</a>\\n\\t\\t\\t\\t</h4>\\n\\t\\t\\t\\t<p class=\"description card-text\">Lenovo ThinkPad L570, 15.6&quot; FHD, Core i7-7500U, 8GB, 256GB SSD, Windows 10 Pro</p>\\n\\n\\t\\t\\t</div>\\n\\t\\t\\t<div class=\"ratings\">\\n\\t\\t\\t\\t<p class=\"float-end review-count\">11 reviews</p>\\n\\t\\t\\t\\t<p data-rating=\"3\">\\n\\t\\t\\t\\t\\t\\t\\t\\t\\t\\t<span class=\"ws-icon ws-icon-star\"></span>\\n\\t\\t\\t\\t\\t\\t\\t\\t\\t\\t<span class=\"ws-icon ws-icon-star\"></span>\\n\\t\\t\\t\\t\\t\\t\\t\\t\\t\\t<span class=\"ws-icon ws-icon-star\"></span>\\n\\t\\t\\t\\t\\t\\t\\t\\t\\t</p>\\n\\t\\t\\t</div>\\n\\t\\t</div>\\n\\t</div>\\n</div>\\n\\t\\t\\t<div class=\"col-md-4 col-xl-4 col-lg-4\">\\n\\t<div class=\"card product-wrapper thumbnail\">\\n\\t\\t<div class=\"card-body\">\\n\\t\\t\\t<img class=\"img-fluid card-img-top image img-responsive\" alt=\"item\" src=\"/images/test-sites/e-commerce/items/cart2.png\">\\n\\t\\t\\t<div class=\"caption\">\\n\\t\\t\\t\\t<h4 class=\"float-end price card-title pull-right\">$1033.99</h4>\\n\\t\\t\\t\\t<h4>\\n\\t\\t\\t\\t\\t<a href=\"/test-sites/e-commerce/allinone/product/37\" class=\"title\" title=\"ThinkPad Yoga\">ThinkPad Yoga</a>\\n\\t\\t\\t\\t</h4>\\n\\t\\t\\t\\t<p class=\"description card-text\">12.5&quot; Touch, Core i3-4010U, 4GB, 500GB + 16GB SSD Cache,</p>\\n\\n\\t\\t\\t</div>\\n\\t\\t\\t<div class=\"ratings\">\\n\\t\\t\\t\\t<p class=\"float-end review-count\">13 reviews</p>\\n\\t\\t\\t\\t<p data-rating=\"2\">\\n\\t\\t\\t\\t\\t\\t\\t\\t\\t\\t<span class=\"ws-icon ws-icon-star\"></span>\\n\\t\\t\\t\\t\\t\\t\\t\\t\\t\\t<span class=\"ws-icon ws-icon-star\"></span>\\n\\t\\t\\t\\t\\t\\t\\t\\t\\t</p>\\n\\t\\t\\t</div>\\n\\t\\t</div>\\n\\t</div>\\n</div>\\n\\t\\t\\t<div class=\"col-md-4 col-xl-4 col-lg-4\">\\n\\t<div class=\"card product-wrapper thumbnail\">\\n\\t\\t<div class=\"card-body\">\\n\\t\\t\\t<img class=\"img-fluid card-img-top image img-responsive\" alt=\"item\" src=\"/images/test-sites/e-commerce/items/cart2.png\">\\n\\t\\t\\t<div class=\"caption\">\\n\\t\\t\\t\\t<h4 class=\"float-end price card-title pull-right\">$1096.02</h4>\\n\\t\\t\\t\\t<h4>\\n\\t\\t\\t\\t\\t<a href=\"/test-sites/e-commerce/allinone/product/94\" class=\"title\" title=\"Lenovo ThinkPad L460\">Lenovo ThinkPa...</a>\\n\\t\\t\\t\\t</h4>\\n\\t\\t\\t\\t<p class=\"description card-text\">Lenovo ThinkPad L460, 14&quot; FHD IPS, Core i7-6600U, 8GB, 256GB SSD, Windows 10 Pro</p>\\n\\n\\t\\t\\t</div>\\n\\t\\t\\t<div class=\"ratings\">\\n\\t\\t\\t\\t<p class=\"float-end review-count\">14 reviews</p>\\n\\t\\t\\t\\t<p data-rating=\"4\">\\n\\t\\t\\t\\t\\t\\t\\t\\t\\t\\t<span class=\"ws-icon ws-icon-star\"></span>\\n\\t\\t\\t\\t\\t\\t\\t\\t\\t\\t<span class=\"ws-icon ws-icon-star\"></span>\\n\\t\\t\\t\\t\\t\\t\\t\\t\\t\\t<span class=\"ws-icon ws-icon-star\"></span>\\n\\t\\t\\t\\t\\t\\t\\t\\t\\t\\t<span class=\"ws-icon ws-icon-star\"></span>\\n\\t\\t\\t\\t\\t\\t\\t\\t\\t</p>\\n\\t\\t\\t</div>\\n\\t\\t</div>\\n\\t</div>\\n</div>\\n\\t\\t\\t<div class=\"col-md-4 col-xl-4 col-lg-4\">\\n\\t<div class=\"card product-wrapper thumbnail\">\\n\\t\\t<div class=\"card-body\">\\n\\t\\t\\t<img class=\"img-fluid card-img-top image img-responsive\" alt=\"item\" src=\"/images/test-sites/e-commerce/items/cart2.png\">\\n\\t\\t\\t<div class=\"caption\">\\n\\t\\t\\t\\t<h4 class=\"float-end price card-title pull-right\">$1098.42</h4>\\n\\t\\t\\t\\t<h4>\\n\\t\\t\\t\\t\\t<a href=\"/test-sites/e-commerce/allinone/product/95\" class=\"title\" title=\"Dell Inspiron 15 (7567) Black\">Dell Inspiron...</a>\\n\\t\\t\\t\\t</h4>\\n\\t\\t\\t\\t<p class=\"description card-text\">Dell Inspiron 15 (7567) Black, 15.6&quot; FHD, Core i5-7300HQ, 8GB, 256GB SSD, GeForce GTX 1050 4GB, Windows 10 Home</p>\\n\\n\\t\\t\\t</div>\\n\\t\\t\\t<div class=\"ratings\">\\n\\t\\t\\t\\t<p class=\"float-end review-count\">7 reviews</p>\\n\\t\\t\\t\\t<p data-rating=\"1\">\\n\\t\\t\\t\\t\\t\\t\\t\\t\\t\\t<span class=\"ws-icon ws-icon-star\"></span>\\n\\t\\t\\t\\t\\t\\t\\t\\t\\t</p>\\n\\t\\t\\t</div>\\n\\t\\t</div>\\n\\t</div>\\n</div>\\n\\t\\t\\t<div class=\"col-md-4 col-xl-4 col-lg-4\">\\n\\t<div class=\"card product-wrapper thumbnail\">\\n\\t\\t<div class=\"card-body\">\\n\\t\\t\\t<img class=\"img-fluid card-img-top image img-responsive\" alt=\"item\" src=\"/images/test-sites/e-commerce/items/cart2.png\">\\n\\t\\t\\t<div class=\"caption\">\\n\\t\\t\\t\\t<h4 class=\"float-end price card-title pull-right\">$1099</h4>\\n\\t\\t\\t\\t<h4>\\n\\t\\t\\t\\t\\t<a href=\"/test-sites/e-commerce/allinone/product/96\" class=\"title\" title=\"MSI GL72M 7RDX\">MSI GL72M 7RDX</a>\\n\\t\\t\\t\\t</h4>\\n\\t\\t\\t\\t<p class=\"description card-text\">MSI GL72M 7RDX, 17.3&quot; FHD, Core i5-7300HQ, 8GB, 1TB + 128GB SSD, GeForce GTX 1050 2GB, Windows 10 Home</p>\\n\\n\\t\\t\\t</div>\\n\\t\\t\\t<div class=\"ratings\">\\n\\t\\t\\t\\t<p class=\"float-end review-count\">1 reviews</p>\\n\\t\\t\\t\\t<p data-rating=\"4\">\\n\\t\\t\\t\\t\\t\\t\\t\\t\\t\\t<span class=\"ws-icon ws-icon-star\"></span>\\n\\t\\t\\t\\t\\t\\t\\t\\t\\t\\t<span class=\"ws-icon ws-icon-star\"></span>\\n\\t\\t\\t\\t\\t\\t\\t\\t\\t\\t<span class=\"ws-icon ws-icon-star\"></span>\\n\\t\\t\\t\\t\\t\\t\\t\\t\\t\\t<span class=\"ws-icon ws-icon-star\"></span>\\n\\t\\t\\t\\t\\t\\t\\t\\t\\t</p>\\n\\t\\t\\t</div>\\n\\t\\t</div>\\n\\t</div>\\n</div>\\n\\t\\t\\t<div class=\"col-md-4 col-xl-4 col-lg-4\">\\n\\t<div class=\"card product-wrapper thumbnail\">\\n\\t\\t<div class=\"card-body\">\\n\\t\\t\\t<img class=\"img-fluid card-img-top image img-responsive\" alt=\"item\" src=\"/images/test-sites/e-commerce/items/cart2.png\">\\n\\t\\t\\t<div class=\"caption\">\\n\\t\\t\\t\\t<h4 class=\"float-end price card-title pull-right\">$1099</h4>\\n\\t\\t\\t\\t<h4>\\n\\t\\t\\t\\t\\t<a href=\"/test-sites/e-commerce/allinone/product/97\" class=\"title\" title=\"MSI GL72M 7RDX\">MSI GL72M 7RDX</a>\\n\\t\\t\\t\\t</h4>\\n\\t\\t\\t\\t<p class=\"description card-text\">Asus ROG Strix GL553VD-DM535T, 15.6&quot; FHD, Core i7-7700HQ, 8GB, 1TB + 128GB SSD, GeForce GTX 1050 2GB, Windows 10 Home, Eng kbd</p>\\n\\n\\t\\t\\t</div>\\n\\t\\t\\t<div class=\"ratings\">\\n\\t\\t\\t\\t<p class=\"float-end review-count\">9 reviews</p>\\n\\t\\t\\t\\t<p data-rating=\"1\">\\n\\t\\t\\t\\t\\t\\t\\t\\t\\t\\t<span class=\"ws-icon ws-icon-star\"></span>\\n\\t\\t\\t\\t\\t\\t\\t\\t\\t</p>\\n\\t\\t\\t</div>\\n\\t\\t</div>\\n\\t</div>\\n</div>\\n\\t\\t\\t<div class=\"col-md-4 col-xl-4 col-lg-4\">\\n\\t<div class=\"card product-wrapper thumbnail\">\\n\\t\\t<div class=\"card-body\">\\n\\t\\t\\t<img class=\"img-fluid card-img-top image img-responsive\" alt=\"item\" src=\"/images/test-sites/e-commerce/items/cart2.png\">\\n\\t\\t\\t<div class=\"caption\">\\n\\t\\t\\t\\t<h4 class=\"float-end price card-title pull-right\">$1101.83</h4>\\n\\t\\t\\t\\t<h4>\\n\\t\\t\\t\\t\\t<a href=\"/test-sites/e-commerce/allinone/product/98\" class=\"title\" title=\"Asus ROG Strix GL553VD-DM535T\">Asus ROG Strix...</a>\\n\\t\\t\\t\\t</h4>\\n\\t\\t\\t\\t<p class=\"description card-text\">Apple MacBook Air 13.3&quot;, Core i5 1.8GHz, 8GB, 128GB SSD, Intel HD 4000, RUS</p>\\n\\n\\t\\t\\t</div>\\n\\t\\t\\t<div class=\"ratings\">\\n\\t\\t\\t\\t<p class=\"float-end review-count\">4 reviews</p>\\n\\t\\t\\t\\t<p data-rating=\"2\">\\n\\t\\t\\t\\t\\t\\t\\t\\t\\t\\t<span class=\"ws-icon ws-icon-star\"></span>\\n\\t\\t\\t\\t\\t\\t\\t\\t\\t\\t<span class=\"ws-icon ws-icon-star\"></span>\\n\\t\\t\\t\\t\\t\\t\\t\\t\\t</p>\\n\\t\\t\\t</div>\\n\\t\\t</div>\\n\\t</div>\\n</div>\\n\\t\\t\\t<div class=\"col-md-4 col-xl-4 col-lg-4\">\\n\\t<div class=\"card product-wrapper thumbnail\">\\n\\t\\t<div class=\"card-body\">\\n\\t\\t\\t<img class=\"img-fluid card-img-top image img-responsive\" alt=\"item\" src=\"/images/test-sites/e-commerce/items/cart2.png\">\\n\\t\\t\\t<div class=\"caption\">\\n\\t\\t\\t\\t<h4 class=\"float-end price card-title pull-right\">$1102.66</h4>\\n\\t\\t\\t\\t<h4>\\n\\t\\t\\t\\t\\t<a href=\"/test-sites/e-commerce/allinone/product/99\" class=\"title\" title=\"Dell Latitude 5280\">Dell Latitude...</a>\\n\\t\\t\\t\\t</h4>\\n\\t\\t\\t\\t<p class=\"description card-text\">Dell Latitude 5280, 12.5&quot; HD, Core i5-7300U, 8GB, 256GB SSD, Windows 10 Pro</p>\\n\\n\\t\\t\\t</div>\\n\\t\\t\\t<div class=\"ratings\">\\n\\t\\t\\t\\t<p class=\"float-end review-count\">8 reviews</p>\\n\\t\\t\\t\\t<p data-rating=\"1\">\\n\\t\\t\\t\\t\\t\\t\\t\\t\\t\\t<span class=\"ws-icon ws-icon-star\"></span>\\n\\t\\t\\t\\t\\t\\t\\t\\t\\t</p>\\n\\t\\t\\t</div>\\n\\t\\t</div>\\n\\t</div>\\n</div>\\n\\t\\t\\t<div class=\"col-md-4 col-xl-4 col-lg-4\">\\n\\t<div class=\"card product-wrapper thumbnail\">\\n\\t\\t<div class=\"card-body\">\\n\\t\\t\\t<img class=\"img-fluid card-img-top image img-responsive\" alt=\"item\" src=\"/images/test-sites/e-commerce/items/cart2.png\">\\n\\t\\t\\t<div class=\"caption\">\\n\\t\\t\\t\\t<h4 class=\"float-end price card-title pull-right\">$1110.14</h4>\\n\\t\\t\\t\\t<h4>\\n\\t\\t\\t\\t\\t<a href=\"/test-sites/e-commerce/allinone/product/100\" class=\"title\" title=\"Dell Latitude 5480\">Dell Latitude...</a>\\n\\t\\t\\t\\t</h4>\\n\\t\\t\\t\\t<p class=\"description card-text\">Dell Latitude 5480, 14&quot; FHD, Core i5-7300U, 8GB, 500GB, Linux + Windows 10 Home</p>\\n\\n\\t\\t\\t</div>\\n\\t\\t\\t<div class=\"ratings\">\\n\\t\\t\\t\\t<p class=\"float-end review-count\">4 reviews</p>\\n\\t\\t\\t\\t<p data-rating=\"3\">\\n\\t\\t\\t\\t\\t\\t\\t\\t\\t\\t<span class=\"ws-icon ws-icon-star\"></span>\\n\\t\\t\\t\\t\\t\\t\\t\\t\\t\\t<span class=\"ws-icon ws-icon-star\"></span>\\n\\t\\t\\t\\t\\t\\t\\t\\t\\t\\t<span class=\"ws-icon ws-icon-star\"></span>\\n\\t\\t\\t\\t\\t\\t\\t\\t\\t</p>\\n\\t\\t\\t</div>\\n\\t\\t</div>\\n\\t</div>\\n</div>\\n\\t\\t\\t<div class=\"col-md-4 col-xl-4 col-lg-4\">\\n\\t<div class=\"card product-wrapper thumbnail\">\\n\\t\\t<div class=\"card-body\">\\n\\t\\t\\t<img class=\"img-fluid card-img-top image img-responsive\" alt=\"item\" src=\"/images/test-sites/e-commerce/items/cart2.png\">\\n\\t\\t\\t<div class=\"caption\">\\n\\t\\t\\t\\t<h4 class=\"float-end price card-title pull-right\">$1112.91</h4>\\n\\t\\t\\t\\t<h4>\\n\\t\\t\\t\\t\\t<a href=\"/test-sites/e-commerce/allinone/product/101\" class=\"title\" title=\"Lenovo Legion Y520-15IKBM\">Lenovo Legion...</a>\\n\\t\\t\\t\\t</h4>\\n\\t\\t\\t\\t<p class=\"description card-text\">Lenovo Legion Y520-15IKBM, Black, 15.6&quot; FHD IPS, Core i5-7300HQ, 8 GB, 128GB SSD + 2 TB HDD, NVIDIA GeForce GTX 1060 6 GB, FreeDOS + Windows 10 Home</p>\\n\\n\\t\\t\\t</div>\\n\\t\\t\\t<div class=\"ratings\">\\n\\t\\t\\t\\t<p class=\"float-end review-count\">1 reviews</p>\\n\\t\\t\\t\\t<p data-rating=\"4\">\\n\\t\\t\\t\\t\\t\\t\\t\\t\\t\\t<span class=\"ws-icon ws-icon-star\"></span>\\n\\t\\t\\t\\t\\t\\t\\t\\t\\t\\t<span class=\"ws-icon ws-icon-star\"></span>\\n\\t\\t\\t\\t\\t\\t\\t\\t\\t\\t<span class=\"ws-icon ws-icon-star\"></span>\\n\\t\\t\\t\\t\\t\\t\\t\\t\\t\\t<span class=\"ws-icon ws-icon-star\"></span>\\n\\t\\t\\t\\t\\t\\t\\t\\t\\t</p>\\n\\t\\t\\t</div>\\n\\t\\t</div>\\n\\t</div>\\n</div>\\n\\t\\t\\t<div class=\"col-md-4 col-xl-4 col-lg-4\">\\n\\t<div class=\"card product-wrapper thumbnail\">\\n\\t\\t<div class=\"card-body\">\\n\\t\\t\\t<img class=\"img-fluid card-img-top image img-responsive\" alt=\"item\" src=\"/images/test-sites/e-commerce/items/cart2.png\">\\n\\t\\t\\t<div class=\"caption\">\\n\\t\\t\\t\\t<h4 class=\"float-end price card-title pull-right\">$1114.55</h4>\\n\\t\\t\\t\\t<h4>\\n\\t\\t\\t\\t\\t<a href=\"/test-sites/e-commerce/allinone/product/102\" class=\"title\" title=\"Toshiba Portege Z30-C-16J Grey\">Toshiba Porteg...</a>\\n\\t\\t\\t\\t</h4>\\n\\t\\t\\t\\t<p class=\"description card-text\">Toshiba Portege Z30-C-16J Grey, 13.3&quot; FHD, Core i5-6200U, 8GB, 256GB SSD, Windows 10 Pro</p>\\n\\n\\t\\t\\t</div>\\n\\t\\t\\t<div class=\"ratings\">\\n\\t\\t\\t\\t<p class=\"float-end review-count\">0 reviews</p>\\n\\t\\t\\t\\t<p data-rating=\"1\">\\n\\t\\t\\t\\t\\t\\t\\t\\t\\t\\t<span class=\"ws-icon ws-icon-star\"></span>\\n\\t\\t\\t\\t\\t\\t\\t\\t\\t</p>\\n\\t\\t\\t</div>\\n\\t\\t</div>\\n\\t</div>\\n</div>\\n\\t\\t\\t<div class=\"col-md-4 col-xl-4 col-lg-4\">\\n\\t<div class=\"card product-wrapper thumbnail\">\\n\\t\\t<div class=\"card-body\">\\n\\t\\t\\t<img class=\"img-fluid card-img-top image img-responsive\" alt=\"item\" src=\"/images/test-sites/e-commerce/items/cart2.png\">\\n\\t\\t\\t<div class=\"caption\">\\n\\t\\t\\t\\t<h4 class=\"float-end price card-title pull-right\">$1123.87</h4>\\n\\t\\t\\t\\t<h4>\\n\\t\\t\\t\\t\\t<a href=\"/test-sites/e-commerce/allinone/product/103\" class=\"title\" title=\"Acer Predator Helios 300 (PH317-51)\">Acer Predator...</a>\\n\\t\\t\\t\\t</h4>\\n\\t\\t\\t\\t<p class=\"description card-text\">Acer Predator Helios 300 (PH317-51), 17.3&quot; FHD IPS, Core i5-7300HQ, 8GB, 1TB + 128GB SSD, GeForce GTX 1050Ti 4GB, Windows 10 Home</p>\\n\\n\\t\\t\\t</div>\\n\\t\\t\\t<div class=\"ratings\">\\n\\t\\t\\t\\t<p class=\"float-end review-count\">1 reviews</p>\\n\\t\\t\\t\\t<p data-rating=\"2\">\\n\\t\\t\\t\\t\\t\\t\\t\\t\\t\\t<span class=\"ws-icon ws-icon-star\"></span>\\n\\t\\t\\t\\t\\t\\t\\t\\t\\t\\t<span class=\"ws-icon ws-icon-star\"></span>\\n\\t\\t\\t\\t\\t\\t\\t\\t\\t</p>\\n\\t\\t\\t</div>\\n\\t\\t</div>\\n\\t</div>\\n</div>\\n\\t\\t\\t<div class=\"col-md-4 col-xl-4 col-lg-4\">\\n\\t<div class=\"card product-wrapper thumbnail\">\\n\\t\\t<div class=\"card-body\">\\n\\t\\t\\t<img class=\"img-fluid card-img-top image img-responsive\" alt=\"item\" src=\"/images/test-sites/e-commerce/items/cart2.png\">\\n\\t\\t\\t<div class=\"caption\">\\n\\t\\t\\t\\t<h4 class=\"float-end price card-title pull-right\">$1123.87</h4>\\n\\t\\t\\t\\t<h4>\\n\\t\\t\\t\\t\\t<a href=\"/test-sites/e-commerce/allinone/product/104\" class=\"title\" title=\"Acer Aspire 7 A715-71G\">Acer Aspire 7...</a>\\n\\t\\t\\t\\t</h4>\\n\\t\\t\\t\\t<p class=\"description card-text\">Acer Aspire 7 A715-71G, 15.6&quot; FHD IPS, Core i7-7700HQ, 8GB, 128GB SSD + 1TB HDD, GTX 1050 Ti 4GB, Windows 10 Home</p>\\n\\n\\t\\t\\t</div>\\n\\t\\t\\t<div class=\"ratings\">\\n\\t\\t\\t\\t<p class=\"float-end review-count\">4 reviews</p>\\n\\t\\t\\t\\t<p data-rating=\"2\">\\n\\t\\t\\t\\t\\t\\t\\t\\t\\t\\t<span class=\"ws-icon ws-icon-star\"></span>\\n\\t\\t\\t\\t\\t\\t\\t\\t\\t\\t<span class=\"ws-icon ws-icon-star\"></span>\\n\\t\\t\\t\\t\\t\\t\\t\\t\\t</p>\\n\\t\\t\\t</div>\\n\\t\\t</div>\\n\\t</div>\\n</div>\\n\\t\\t\\t<div class=\"col-md-4 col-xl-4 col-lg-4\">\\n\\t<div class=\"card product-wrapper thumbnail\">\\n\\t\\t<div class=\"card-body\">\\n\\t\\t\\t<img class=\"img-fluid card-img-top image img-responsive\" alt=\"item\" src=\"/images/test-sites/e-commerce/items/cart2.png\">\\n\\t\\t\\t<div class=\"caption\">\\n\\t\\t\\t\\t<h4 class=\"float-end price card-title pull-right\">$1124.2</h4>\\n\\t\\t\\t\\t<h4>\\n\\t\\t\\t\\t\\t<a href=\"/test-sites/e-commerce/allinone/product/105\" class=\"title\" title=\"Dell Inspiron 17 2in1 (7779) Silver\">Dell Inspiron...</a>\\n\\t\\t\\t\\t</h4>\\n\\t\\t\\t\\t<p class=\"description card-text\">Dell Inspiron 17 2in1 (7779) Silver, 17.3&quot; FHD Touch, Core i5-7200U, 12GB, 1TB, GeForce GT940MX 2GB, Windows 10 Home</p>\\n\\n\\t\\t\\t</div>\\n\\t\\t\\t<div class=\"ratings\">\\n\\t\\t\\t\\t<p class=\"float-end review-count\">10 reviews</p>\\n\\t\\t\\t\\t<p data-rating=\"3\">\\n\\t\\t\\t\\t\\t\\t\\t\\t\\t\\t<span class=\"ws-icon ws-icon-star\"></span>\\n\\t\\t\\t\\t\\t\\t\\t\\t\\t\\t<span class=\"ws-icon ws-icon-star\"></span>\\n\\t\\t\\t\\t\\t\\t\\t\\t\\t\\t<span class=\"ws-icon ws-icon-star\"></span>\\n\\t\\t\\t\\t\\t\\t\\t\\t\\t</p>\\n\\t\\t\\t</div>\\n\\t\\t</div>\\n\\t</div>\\n</div>\\n\\t\\t\\t<div class=\"col-md-4 col-xl-4 col-lg-4\">\\n\\t<div class=\"card product-wrapper thumbnail\">\\n\\t\\t<div class=\"card-body\">\\n\\t\\t\\t<img class=\"img-fluid card-img-top image img-responsive\" alt=\"item\" src=\"/images/test-sites/e-commerce/items/cart2.png\">\\n\\t\\t\\t<div class=\"caption\">\\n\\t\\t\\t\\t<h4 class=\"float-end price card-title pull-right\">$1133.82</h4>\\n\\t\\t\\t\\t<h4>\\n\\t\\t\\t\\t\\t<a href=\"/test-sites/e-commerce/allinone/product/106\" class=\"title\" title=\"Dell Latitude 5480\">Dell Latitude...</a>\\n\\t\\t\\t\\t</h4>\\n\\t\\t\\t\\t<p class=\"description card-text\">Dell Latitude 5480, 14&quot; FHD, Core i5-7300U, 8GB, 500GB, Windows 10 Pro</p>\\n\\n\\t\\t\\t</div>\\n\\t\\t\\t<div class=\"ratings\">\\n\\t\\t\\t\\t<p class=\"float-end review-count\">14 reviews</p>\\n\\t\\t\\t\\t<p data-rating=\"4\">\\n\\t\\t\\t\\t\\t\\t\\t\\t\\t\\t<span class=\"ws-icon ws-icon-star\"></span>\\n\\t\\t\\t\\t\\t\\t\\t\\t\\t\\t<span class=\"ws-icon ws-icon-star\"></span>\\n\\t\\t\\t\\t\\t\\t\\t\\t\\t\\t<span class=\"ws-icon ws-icon-star\"></span>\\n\\t\\t\\t\\t\\t\\t\\t\\t\\t\\t<span class=\"ws-icon ws-icon-star\"></span>\\n\\t\\t\\t\\t\\t\\t\\t\\t\\t</p>\\n\\t\\t\\t</div>\\n\\t\\t</div>\\n\\t</div>\\n</div>\\n\\t\\t\\t<div class=\"col-md-4 col-xl-4 col-lg-4\">\\n\\t<div class=\"card product-wrapper thumbnail\">\\n\\t\\t<div class=\"card-body\">\\n\\t\\t\\t<img class=\"img-fluid card-img-top image img-responsive\" alt=\"item\" src=\"/images/test-sites/e-commerce/items/cart2.png\">\\n\\t\\t\\t<div class=\"caption\">\\n\\t\\t\\t\\t<h4 class=\"float-end price card-title pull-right\">$1133.91</h4>\\n\\t\\t\\t\\t<h4>\\n\\t\\t\\t\\t\\t<a href=\"/test-sites/e-commerce/allinone/product/107\" class=\"title\" title=\"Lenovo Legion Y520\">Lenovo Legion...</a>\\n\\t\\t\\t\\t</h4>\\n\\t\\t\\t\\t<p class=\"description card-text\">Lenovo Legion Y520, 15.6&quot; FHD, Core i7-7700HQ, 8GB, 128 GB SSD + 1TB HDD, GTX 1050 4GB, Windows 10 Home</p>\\n\\n\\t\\t\\t</div>\\n\\t\\t\\t<div class=\"ratings\">\\n\\t\\t\\t\\t<p class=\"float-end review-count\">13 reviews</p>\\n\\t\\t\\t\\t<p data-rating=\"1\">\\n\\t\\t\\t\\t\\t\\t\\t\\t\\t\\t<span class=\"ws-icon ws-icon-star\"></span>\\n\\t\\t\\t\\t\\t\\t\\t\\t\\t</p>\\n\\t\\t\\t</div>\\n\\t\\t</div>\\n\\t</div>\\n</div>\\n\\t\\t\\t<div class=\"col-md-4 col-xl-4 col-lg-4\">\\n\\t<div class=\"card product-wrapper thumbnail\">\\n\\t\\t<div class=\"card-body\">\\n\\t\\t\\t<img class=\"img-fluid card-img-top image img-responsive\" alt=\"item\" src=\"/images/test-sites/e-commerce/items/cart2.png\">\\n\\t\\t\\t<div class=\"caption\">\\n\\t\\t\\t\\t<h4 class=\"float-end price card-title pull-right\">$1139.54</h4>\\n\\t\\t\\t\\t<h4>\\n\\t\\t\\t\\t\\t<a href=\"/test-sites/e-commerce/allinone/product/108\" class=\"title\" title=\"Asus AsusPro Advanced BU401LA-FA271G Dark Grey\">Asus AsusPro A...</a>\\n\\t\\t\\t\\t</h4>\\n\\t\\t\\t\\t<p class=\"description card-text\">Asus AsusPro Advanced BU401LA-FA271G Dark Grey, 14&quot;, Core i5-4210U, 4GB, 128GB SSD, Win7 Pro 64bit, ENG</p>\\n\\n\\t\\t\\t</div>\\n\\t\\t\\t<div class=\"ratings\">\\n\\t\\t\\t\\t<p class=\"float-end review-count\">7 reviews</p>\\n\\t\\t\\t\\t<p data-rating=\"3\">\\n\\t\\t\\t\\t\\t\\t\\t\\t\\t\\t<span class=\"ws-icon ws-icon-star\"></span>\\n\\t\\t\\t\\t\\t\\t\\t\\t\\t\\t<span class=\"ws-icon ws-icon-star\"></span>\\n\\t\\t\\t\\t\\t\\t\\t\\t\\t\\t<span class=\"ws-icon ws-icon-star\"></span>\\n\\t\\t\\t\\t\\t\\t\\t\\t\\t</p>\\n\\t\\t\\t</div>\\n\\t\\t</div>\\n\\t</div>\\n</div>\\n\\t\\t\\t<div class=\"col-md-4 col-xl-4 col-lg-4\">\\n\\t<div class=\"card product-wrapper thumbnail\">\\n\\t\\t<div class=\"card-body\">\\n\\t\\t\\t<img class=\"img-fluid card-img-top image img-responsive\" alt=\"item\" src=\"/images/test-sites/e-commerce/items/cart2.png\">\\n\\t\\t\\t<div class=\"caption\">\\n\\t\\t\\t\\t<h4 class=\"float-end price card-title pull-right\">$1140.62</h4>\\n\\t\\t\\t\\t<h4>\\n\\t\\t\\t\\t\\t<a href=\"/test-sites/e-commerce/allinone/product/109\" class=\"title\" title=\"Acer Nitro 5 AN515-51\">Acer Nitro 5 A...</a>\\n\\t\\t\\t\\t</h4>\\n\\t\\t\\t\\t<p class=\"description card-text\">Acer Nitro 5 AN515-51, 15.6&quot; FHD IPS, Core i7-7700HQ, 8GB, 256GB SSD +1TB, GeForce GTX 1050 Ti 4GB, Windows 10 Home + Windows 10 Home</p>\\n\\n\\t\\t\\t</div>\\n\\t\\t\\t<div class=\"ratings\">\\n\\t\\t\\t\\t<p class=\"float-end review-count\">14 reviews</p>\\n\\t\\t\\t\\t<p data-rating=\"3\">\\n\\t\\t\\t\\t\\t\\t\\t\\t\\t\\t<span class=\"ws-icon ws-icon-star\"></span>\\n\\t\\t\\t\\t\\t\\t\\t\\t\\t\\t<span class=\"ws-icon ws-icon-star\"></span>\\n\\t\\t\\t\\t\\t\\t\\t\\t\\t\\t<span class=\"ws-icon ws-icon-star\"></span>\\n\\t\\t\\t\\t\\t\\t\\t\\t\\t</p>\\n\\t\\t\\t</div>\\n\\t\\t</div>\\n\\t</div>\\n</div>\\n\\t\\t\\t<div class=\"col-md-4 col-xl-4 col-lg-4\">\\n\\t<div class=\"card product-wrapper thumbnail\">\\n\\t\\t<div class=\"card-body\">\\n\\t\\t\\t<img class=\"img-fluid card-img-top image img-responsive\" alt=\"item\" src=\"/images/test-sites/e-commerce/items/cart2.png\">\\n\\t\\t\\t<div class=\"caption\">\\n\\t\\t\\t\\t<h4 class=\"float-end price card-title pull-right\">$1143.4</h4>\\n\\t\\t\\t\\t<h4>\\n\\t\\t\\t\\t\\t<a href=\"/test-sites/e-commerce/allinone/product/110\" class=\"title\" title=\"Dell Latitude 5480\">Dell Latitude...</a>\\n\\t\\t\\t\\t</h4>\\n\\t\\t\\t\\t<p class=\"description card-text\">Dell Latitude 5480, 14&quot; FHD, Core i5-7440HQ, 8GB, 256GB SSD, Windows 10 Pro</p>\\n\\n\\t\\t\\t</div>\\n\\t\\t\\t<div class=\"ratings\">\\n\\t\\t\\t\\t<p class=\"float-end review-count\">5 reviews</p>\\n\\t\\t\\t\\t<p data-rating=\"4\">\\n\\t\\t\\t\\t\\t\\t\\t\\t\\t\\t<span class=\"ws-icon ws-icon-star\"></span>\\n\\t\\t\\t\\t\\t\\t\\t\\t\\t\\t<span class=\"ws-icon ws-icon-star\"></span>\\n\\t\\t\\t\\t\\t\\t\\t\\t\\t\\t<span class=\"ws-icon ws-icon-star\"></span>\\n\\t\\t\\t\\t\\t\\t\\t\\t\\t\\t<span class=\"ws-icon ws-icon-star\"></span>\\n\\t\\t\\t\\t\\t\\t\\t\\t\\t</p>\\n\\t\\t\\t</div>\\n\\t\\t</div>\\n\\t</div>\\n</div>\\n\\t\\t\\t<div class=\"col-md-4 col-xl-4 col-lg-4\">\\n\\t<div class=\"card product-wrapper thumbnail\">\\n\\t\\t<div class=\"card-body\">\\n\\t\\t\\t<img class=\"img-fluid card-img-top image img-responsive\" alt=\"item\" src=\"/images/test-sites/e-commerce/items/cart2.png\">\\n\\t\\t\\t<div class=\"caption\">\\n\\t\\t\\t\\t<h4 class=\"float-end price card-title pull-right\">$1144.2</h4>\\n\\t\\t\\t\\t<h4>\\n\\t\\t\\t\\t\\t<a href=\"/test-sites/e-commerce/allinone/product/111\" class=\"title\" title=\"Dell Inspiron 15 (7567) Black\">Dell Inspiron...</a>\\n\\t\\t\\t\\t</h4>\\n\\t\\t\\t\\t<p class=\"description card-text\">Dell Inspiron 15 (7567) Black, 15.6&quot; FHD, Core i7-7700HQ, 8GB, 1TB, GeForce GTX 1050 Ti 4GB, Linux + Windows 10 Home</p>\\n\\n\\t\\t\\t</div>\\n\\t\\t\\t<div class=\"ratings\">\\n\\t\\t\\t\\t<p class=\"float-end review-count\">2 reviews</p>\\n\\t\\t\\t\\t<p data-rating=\"1\">\\n\\t\\t\\t\\t\\t\\t\\t\\t\\t\\t<span class=\"ws-icon ws-icon-star\"></span>\\n\\t\\t\\t\\t\\t\\t\\t\\t\\t</p>\\n\\t\\t\\t</div>\\n\\t\\t</div>\\n\\t</div>\\n</div>\\n\\t\\t\\t<div class=\"col-md-4 col-xl-4 col-lg-4\">\\n\\t<div class=\"card product-wrapper thumbnail\">\\n\\t\\t<div class=\"card-body\">\\n\\t\\t\\t<img class=\"img-fluid card-img-top image img-responsive\" alt=\"item\" src=\"/images/test-sites/e-commerce/items/cart2.png\">\\n\\t\\t\\t<div class=\"caption\">\\n\\t\\t\\t\\t<h4 class=\"float-end price card-title pull-right\">$1144.4</h4>\\n\\t\\t\\t\\t<h4>\\n\\t\\t\\t\\t\\t<a href=\"/test-sites/e-commerce/allinone/product/112\" class=\"title\" title=\"Dell Latitude 5580\">Dell Latitude...</a>\\n\\t\\t\\t\\t</h4>\\n\\t\\t\\t\\t<p class=\"description card-text\">Dell Latitude 5580, 15.6&quot; FHD, Core i5-7300U, 8GB, 256GB SSD, Windows 10 Pro</p>\\n\\n\\t\\t\\t</div>\\n\\t\\t\\t<div class=\"ratings\">\\n\\t\\t\\t\\t<p class=\"float-end review-count\">10 reviews</p>\\n\\t\\t\\t\\t<p data-rating=\"3\">\\n\\t\\t\\t\\t\\t\\t\\t\\t\\t\\t<span class=\"ws-icon ws-icon-star\"></span>\\n\\t\\t\\t\\t\\t\\t\\t\\t\\t\\t<span class=\"ws-icon ws-icon-star\"></span>\\n\\t\\t\\t\\t\\t\\t\\t\\t\\t\\t<span class=\"ws-icon ws-icon-star\"></span>\\n\\t\\t\\t\\t\\t\\t\\t\\t\\t</p>\\n\\t\\t\\t</div>\\n\\t\\t</div>\\n\\t</div>\\n</div>\\n\\t\\t\\t<div class=\"col-md-4 col-xl-4 col-lg-4\">\\n\\t<div class=\"card product-wrapper thumbnail\">\\n\\t\\t<div class=\"card-body\">\\n\\t\\t\\t<img class=\"img-fluid card-img-top image img-responsive\" alt=\"item\" src=\"/images/test-sites/e-commerce/items/cart2.png\">\\n\\t\\t\\t<div class=\"caption\">\\n\\t\\t\\t\\t<h4 class=\"float-end price card-title pull-right\">$1149</h4>\\n\\t\\t\\t\\t<h4>\\n\\t\\t\\t\\t\\t<a href=\"/test-sites/e-commerce/allinone/product/55\" class=\"title\" title=\"Lenovo Legion Y520-15IKBM\">Lenovo Legion...</a>\\n\\t\\t\\t\\t</h4>\\n\\t\\t\\t\\t<p class=\"description card-text\">Lenovo Legion Y520-15IKBM, 15.6&quot; FHD IPS, Core i7-7700HQ, 8GB, 128GB SSD + 1TB, GeForce GTX 1060 Max-Q 6GB, DOS</p>\\n\\n\\t\\t\\t</div>\\n\\t\\t\\t<div class=\"ratings\">\\n\\t\\t\\t\\t<p class=\"float-end review-count\">11 reviews</p>\\n\\t\\t\\t\\t<p data-rating=\"3\">\\n\\t\\t\\t\\t\\t\\t\\t\\t\\t\\t<span class=\"ws-icon ws-icon-star\"></span>\\n\\t\\t\\t\\t\\t\\t\\t\\t\\t\\t<span class=\"ws-icon ws-icon-star\"></span>\\n\\t\\t\\t\\t\\t\\t\\t\\t\\t\\t<span class=\"ws-icon ws-icon-star\"></span>\\n\\t\\t\\t\\t\\t\\t\\t\\t\\t</p>\\n\\t\\t\\t</div>\\n\\t\\t</div>\\n\\t</div>\\n</div>\\n\\t\\t\\t<div class=\"col-md-4 col-xl-4 col-lg-4\">\\n\\t<div class=\"card product-wrapper thumbnail\">\\n\\t\\t<div class=\"card-body\">\\n\\t\\t\\t<img class=\"img-fluid card-img-top image img-responsive\" alt=\"item\" src=\"/images/test-sites/e-commerce/items/cart2.png\">\\n\\t\\t\\t<div class=\"caption\">\\n\\t\\t\\t\\t<h4 class=\"float-end price card-title pull-right\">$1149</h4>\\n\\t\\t\\t\\t<h4>\\n\\t\\t\\t\\t\\t<a href=\"/test-sites/e-commerce/allinone/product/113\" class=\"title\" title=\"MSI GP62M 7RDX Leopard\">MSI GP62M 7RDX...</a>\\n\\t\\t\\t\\t</h4>\\n\\t\\t\\t\\t<p class=\"description card-text\">MSI GP62M 7RDX Leopard, 15.6&quot; FHD, Core i7-7700HQ, 8GB, 1TB + 128GB SSD, GeForce GTX 1050 2GB, Windows 10 Home</p>\\n\\n\\t\\t\\t</div>\\n\\t\\t\\t<div class=\"ratings\">\\n\\t\\t\\t\\t<p class=\"float-end review-count\">11 reviews</p>\\n\\t\\t\\t\\t<p data-rating=\"1\">\\n\\t\\t\\t\\t\\t\\t\\t\\t\\t\\t<span class=\"ws-icon ws-icon-star\"></span>\\n\\t\\t\\t\\t\\t\\t\\t\\t\\t</p>\\n\\t\\t\\t</div>\\n\\t\\t</div>\\n\\t</div>\\n</div>\\n\\t\\t\\t<div class=\"col-md-4 col-xl-4 col-lg-4\">\\n\\t<div class=\"card product-wrapper thumbnail\">\\n\\t\\t<div class=\"card-body\">\\n\\t\\t\\t<img class=\"img-fluid card-img-top image img-responsive\" alt=\"item\" src=\"/images/test-sites/e-commerce/items/cart2.png\">\\n\\t\\t\\t<div class=\"caption\">\\n\\t\\t\\t\\t<h4 class=\"float-end price card-title pull-right\">$1149.73</h4>\\n\\t\\t\\t\\t<h4>\\n\\t\\t\\t\\t\\t<a href=\"/test-sites/e-commerce/allinone/product/114\" class=\"title\" title=\"Lenovo Yoga 720 Grey\">Lenovo Yoga 72...</a>\\n\\t\\t\\t\\t</h4>\\n\\t\\t\\t\\t<p class=\"description card-text\">Lenovo Yoga 720 Grey, 15.6&quot; FHD IPS, Core i5-7300HQ, 8GB, 256GB SSD, GeForce GTX 1050 2GB, Windows 10 Home</p>\\n\\n\\t\\t\\t</div>\\n\\t\\t\\t<div class=\"ratings\">\\n\\t\\t\\t\\t<p class=\"float-end review-count\">12 reviews</p>\\n\\t\\t\\t\\t<p data-rating=\"2\">\\n\\t\\t\\t\\t\\t\\t\\t\\t\\t\\t<span class=\"ws-icon ws-icon-star\"></span>\\n\\t\\t\\t\\t\\t\\t\\t\\t\\t\\t<span class=\"ws-icon ws-icon-star\"></span>\\n\\t\\t\\t\\t\\t\\t\\t\\t\\t</p>\\n\\t\\t\\t</div>\\n\\t\\t</div>\\n\\t</div>\\n</div>\\n\\t\\t\\t<div class=\"col-md-4 col-xl-4 col-lg-4\">\\n\\t<div class=\"card product-wrapper thumbnail\">\\n\\t\\t<div class=\"card-body\">\\n\\t\\t\\t<img class=\"img-fluid card-img-top image img-responsive\" alt=\"item\" src=\"/images/test-sites/e-commerce/items/cart2.png\">\\n\\t\\t\\t<div class=\"caption\">\\n\\t\\t\\t\\t<h4 class=\"float-end price card-title pull-right\">$1154.04</h4>\\n\\t\\t\\t\\t<h4>\\n\\t\\t\\t\\t\\t<a href=\"/test-sites/e-commerce/allinone/product/115\" class=\"title\" title=\"Toshiba Portege Z30-C-16L Grey\">Toshiba Porteg...</a>\\n\\t\\t\\t\\t</h4>\\n\\t\\t\\t\\t<p class=\"description card-text\">Toshiba Portege Z30-C-16L Grey, 13.3&quot; FHD, Core i7-6500U, 8GB, 256GB SSD, Windows 10 Pro</p>\\n\\n\\t\\t\\t</div>\\n\\t\\t\\t<div class=\"ratings\">\\n\\t\\t\\t\\t<p class=\"float-end review-count\">7 reviews</p>\\n\\t\\t\\t\\t<p data-rating=\"1\">\\n\\t\\t\\t\\t\\t\\t\\t\\t\\t\\t<span class=\"ws-icon ws-icon-star\"></span>\\n\\t\\t\\t\\t\\t\\t\\t\\t\\t</p>\\n\\t\\t\\t</div>\\n\\t\\t</div>\\n\\t</div>\\n</div>\\n\\t\\t\\t<div class=\"col-md-4 col-xl-4 col-lg-4\">\\n\\t<div class=\"card product-wrapper thumbnail\">\\n\\t\\t<div class=\"card-body\">\\n\\t\\t\\t<img class=\"img-fluid card-img-top image img-responsive\" alt=\"item\" src=\"/images/test-sites/e-commerce/items/cart2.png\">\\n\\t\\t\\t<div class=\"caption\">\\n\\t\\t\\t\\t<h4 class=\"float-end price card-title pull-right\">$1170.1</h4>\\n\\t\\t\\t\\t<h4>\\n\\t\\t\\t\\t\\t<a href=\"/test-sites/e-commerce/allinone/product/116\" class=\"title\" title=\"Acer TravelMate P645-S-511A Black\">Acer TravelMat...</a>\\n\\t\\t\\t\\t</h4>\\n\\t\\t\\t\\t<p class=\"description card-text\">Acer TravelMate P645-S-511A Black, 14&quot; FHD IPS, Core i5-5200U, 8GB, 256GB SSD, 3G, Windows 10 Pro</p>\\n\\n\\t\\t\\t</div>\\n\\t\\t\\t<div class=\"ratings\">\\n\\t\\t\\t\\t<p class=\"float-end review-count\">0 reviews</p>\\n\\t\\t\\t\\t<p data-rating=\"1\">\\n\\t\\t\\t\\t\\t\\t\\t\\t\\t\\t<span class=\"ws-icon ws-icon-star\"></span>\\n\\t\\t\\t\\t\\t\\t\\t\\t\\t</p>\\n\\t\\t\\t</div>\\n\\t\\t</div>\\n\\t</div>\\n</div>\\n\\t\\t\\t<div class=\"col-md-4 col-xl-4 col-lg-4\">\\n\\t<div class=\"card product-wrapper thumbnail\">\\n\\t\\t<div class=\"card-body\">\\n\\t\\t\\t<img class=\"img-fluid card-img-top image img-responsive\" alt=\"item\" src=\"/images/test-sites/e-commerce/items/cart2.png\">\\n\\t\\t\\t<div class=\"caption\">\\n\\t\\t\\t\\t<h4 class=\"float-end price card-title pull-right\">$1178.19</h4>\\n\\t\\t\\t\\t<h4>\\n\\t\\t\\t\\t\\t<a href=\"/test-sites/e-commerce/allinone/product/117\" class=\"title\" title=\"Dell Latitude 5580\">Dell Latitude...</a>\\n\\t\\t\\t\\t</h4>\\n\\t\\t\\t\\t<p class=\"description card-text\">Dell Latitude 5580, 15.6&quot; FHD, Core i5-7300U, 16GB, 256GB SSD, Linux + Windows 10 Home</p>\\n\\n\\t\\t\\t</div>\\n\\t\\t\\t<div class=\"ratings\">\\n\\t\\t\\t\\t<p class=\"float-end review-count\">6 reviews</p>\\n\\t\\t\\t\\t<p data-rating=\"3\">\\n\\t\\t\\t\\t\\t\\t\\t\\t\\t\\t<span class=\"ws-icon ws-icon-star\"></span>\\n\\t\\t\\t\\t\\t\\t\\t\\t\\t\\t<span class=\"ws-icon ws-icon-star\"></span>\\n\\t\\t\\t\\t\\t\\t\\t\\t\\t\\t<span class=\"ws-icon ws-icon-star\"></span>\\n\\t\\t\\t\\t\\t\\t\\t\\t\\t</p>\\n\\t\\t\\t</div>\\n\\t\\t</div>\\n\\t</div>\\n</div>\\n\\t\\t\\t<div class=\"col-md-4 col-xl-4 col-lg-4\">\\n\\t<div class=\"card product-wrapper thumbnail\">\\n\\t\\t<div class=\"card-body\">\\n\\t\\t\\t<img class=\"img-fluid card-img-top image img-responsive\" alt=\"item\" src=\"/images/test-sites/e-commerce/items/cart2.png\">\\n\\t\\t\\t<div class=\"caption\">\\n\\t\\t\\t\\t<h4 class=\"float-end price card-title pull-right\">$1178.99</h4>\\n\\t\\t\\t\\t<h4>\\n\\t\\t\\t\\t\\t<a href=\"/test-sites/e-commerce/allinone/product/33\" class=\"title\" title=\"ThinkPad T540p\">ThinkPad T540p</a>\\n\\t\\t\\t\\t</h4>\\n\\t\\t\\t\\t<p class=\"description card-text\">15.6&quot;, Core i5-4200M, 4GB, 500GB, Win7 Pro 64bit</p>\\n\\n\\t\\t\\t</div>\\n\\t\\t\\t<div class=\"ratings\">\\n\\t\\t\\t\\t<p class=\"float-end review-count\">2 reviews</p>\\n\\t\\t\\t\\t<p data-rating=\"1\">\\n\\t\\t\\t\\t\\t\\t\\t\\t\\t\\t<span class=\"ws-icon ws-icon-star\"></span>\\n\\t\\t\\t\\t\\t\\t\\t\\t\\t</p>\\n\\t\\t\\t</div>\\n\\t\\t</div>\\n\\t</div>\\n</div>\\n\\t\\t\\t<div class=\"col-md-4 col-xl-4 col-lg-4\">\\n\\t<div class=\"card product-wrapper thumbnail\">\\n\\t\\t<div class=\"card-body\">\\n\\t\\t\\t<img class=\"img-fluid card-img-top image img-responsive\" alt=\"item\" src=\"/images/test-sites/e-commerce/items/cart2.png\">\\n\\t\\t\\t<div class=\"caption\">\\n\\t\\t\\t\\t<h4 class=\"float-end price card-title pull-right\">$1179</h4>\\n\\t\\t\\t\\t<h4>\\n\\t\\t\\t\\t\\t<a href=\"/test-sites/e-commerce/allinone/product/118\" class=\"title\" title=\"MSI GS63 7RD Stealth\">MSI GS63 7RD S...</a>\\n\\t\\t\\t\\t</h4>\\n\\t\\t\\t\\t<p class=\"description card-text\">MSI GS63 7RD Stealth, 15.6&quot; FHD IPS, Core i7-7700HQ, 8GB, 256GB SSD, GeForce GTX 1050 2GB, DOS + Windows 10 Home</p>\\n\\n\\t\\t\\t</div>\\n\\t\\t\\t<div class=\"ratings\">\\n\\t\\t\\t\\t<p class=\"float-end review-count\">2 reviews</p>\\n\\t\\t\\t\\t<p data-rating=\"1\">\\n\\t\\t\\t\\t\\t\\t\\t\\t\\t\\t<span class=\"ws-icon ws-icon-star\"></span>\\n\\t\\t\\t\\t\\t\\t\\t\\t\\t</p>\\n\\t\\t\\t</div>\\n\\t\\t</div>\\n\\t</div>\\n</div>\\n\\t\\t\\t<div class=\"col-md-4 col-xl-4 col-lg-4\">\\n\\t<div class=\"card product-wrapper thumbnail\">\\n\\t\\t<div class=\"card-body\">\\n\\t\\t\\t<img class=\"img-fluid card-img-top image img-responsive\" alt=\"item\" src=\"/images/test-sites/e-commerce/items/cart2.png\">\\n\\t\\t\\t<div class=\"caption\">\\n\\t\\t\\t\\t<h4 class=\"float-end price card-title pull-right\">$1187.88</h4>\\n\\t\\t\\t\\t<h4>\\n\\t\\t\\t\\t\\t<a href=\"/test-sites/e-commerce/allinone/product/119\" class=\"title\" title=\"Dell Latitude 5480\">Dell Latitude...</a>\\n\\t\\t\\t\\t</h4>\\n\\t\\t\\t\\t<p class=\"description card-text\">Dell Latitude 5480, 14&quot; FHD, Core i5-7300U, 8GB, 256GB SSD, Windows 10 Pro</p>\\n\\n\\t\\t\\t</div>\\n\\t\\t\\t<div class=\"ratings\">\\n\\t\\t\\t\\t<p class=\"float-end review-count\">5 reviews</p>\\n\\t\\t\\t\\t<p data-rating=\"3\">\\n\\t\\t\\t\\t\\t\\t\\t\\t\\t\\t<span class=\"ws-icon ws-icon-star\"></span>\\n\\t\\t\\t\\t\\t\\t\\t\\t\\t\\t<span class=\"ws-icon ws-icon-star\"></span>\\n\\t\\t\\t\\t\\t\\t\\t\\t\\t\\t<span class=\"ws-icon ws-icon-star\"></span>\\n\\t\\t\\t\\t\\t\\t\\t\\t\\t</p>\\n\\t\\t\\t</div>\\n\\t\\t</div>\\n\\t</div>\\n</div>\\n\\t\\t\\t<div class=\"col-md-4 col-xl-4 col-lg-4\">\\n\\t<div class=\"card product-wrapper thumbnail\">\\n\\t\\t<div class=\"card-body\">\\n\\t\\t\\t<img class=\"img-fluid card-img-top image img-responsive\" alt=\"item\" src=\"/images/test-sites/e-commerce/items/cart2.png\">\\n\\t\\t\\t<div class=\"caption\">\\n\\t\\t\\t\\t<h4 class=\"float-end price card-title pull-right\">$1187.98</h4>\\n\\t\\t\\t\\t<h4>\\n\\t\\t\\t\\t\\t<a href=\"/test-sites/e-commerce/allinone/product/120\" class=\"title\" title=\"Acer Predator Helios 300 (PH317-51)\">Acer Predator...</a>\\n\\t\\t\\t\\t</h4>\\n\\t\\t\\t\\t<p class=\"description card-text\">Acer Predator Helios 300 (PH317-51), 17.3&quot; FHD IPS, Core i7-7700HQ. 8GB, 128GB SSD +1TB, GeForce GTX 1050Ti 4GB, Linux + Windows 10 Home</p>\\n\\n\\t\\t\\t</div>\\n\\t\\t\\t<div class=\"ratings\">\\n\\t\\t\\t\\t<p class=\"float-end review-count\">14 reviews</p>\\n\\t\\t\\t\\t<p data-rating=\"3\">\\n\\t\\t\\t\\t\\t\\t\\t\\t\\t\\t<span class=\"ws-icon ws-icon-star\"></span>\\n\\t\\t\\t\\t\\t\\t\\t\\t\\t\\t<span class=\"ws-icon ws-icon-star\"></span>\\n\\t\\t\\t\\t\\t\\t\\t\\t\\t\\t<span class=\"ws-icon ws-icon-star\"></span>\\n\\t\\t\\t\\t\\t\\t\\t\\t\\t</p>\\n\\t\\t\\t</div>\\n\\t\\t</div>\\n\\t</div>\\n</div>\\n\\t\\t\\t<div class=\"col-md-4 col-xl-4 col-lg-4\">\\n\\t<div class=\"card product-wrapper thumbnail\">\\n\\t\\t<div class=\"card-body\">\\n\\t\\t\\t<img class=\"img-fluid card-img-top image img-responsive\" alt=\"item\" src=\"/images/test-sites/e-commerce/items/cart2.png\">\\n\\t\\t\\t<div class=\"caption\">\\n\\t\\t\\t\\t<h4 class=\"float-end price card-title pull-right\">$1199</h4>\\n\\t\\t\\t\\t<h4>\\n\\t\\t\\t\\t\\t<a href=\"/test-sites/e-commerce/allinone/product/121\" class=\"title\" title=\"MSI GL62M 7REX\">MSI GL62M 7REX</a>\\n\\t\\t\\t\\t</h4>\\n\\t\\t\\t\\t<p class=\"description card-text\">MSI GL62M 7REX, 15.6&quot; FHD, Core i7-7700HQ, 8GB, 1TB + 128GB SSD, GeForce GTX 1050 Ti 2GB, Windows 10 Home</p>\\n\\n\\t\\t\\t</div>\\n\\t\\t\\t<div class=\"ratings\">\\n\\t\\t\\t\\t<p class=\"float-end review-count\">7 reviews</p>\\n\\t\\t\\t\\t<p data-rating=\"1\">\\n\\t\\t\\t\\t\\t\\t\\t\\t\\t\\t<span class=\"ws-icon ws-icon-star\"></span>\\n\\t\\t\\t\\t\\t\\t\\t\\t\\t</p>\\n\\t\\t\\t</div>\\n\\t\\t</div>\\n\\t</div>\\n</div>\\n\\t\\t\\t<div class=\"col-md-4 col-xl-4 col-lg-4\">\\n\\t<div class=\"card product-wrapper thumbnail\">\\n\\t\\t<div class=\"card-body\">\\n\\t\\t\\t<img class=\"img-fluid card-img-top image img-responsive\" alt=\"item\" src=\"/images/test-sites/e-commerce/items/cart2.png\">\\n\\t\\t\\t<div class=\"caption\">\\n\\t\\t\\t\\t<h4 class=\"float-end price card-title pull-right\">$1199</h4>\\n\\t\\t\\t\\t<h4>\\n\\t\\t\\t\\t\\t<a href=\"/test-sites/e-commerce/allinone/product/122\" class=\"title\" title=\"MSI GL62M 7REX2\">MSI GL62M 7REX...</a>\\n\\t\\t\\t\\t</h4>\\n\\t\\t\\t\\t<p class=\"description card-text\">MSI GL62M 7REX2, 15.6&quot; FHD, Core i7-7700HQ, 8GB, 1TB + 128GB SSD, GeForce GTX 1050 Ti 2GB, Windows 10 Home</p>\\n\\n\\t\\t\\t</div>\\n\\t\\t\\t<div class=\"ratings\">\\n\\t\\t\\t\\t<p class=\"float-end review-count\">12 reviews</p>\\n\\t\\t\\t\\t<p data-rating=\"2\">\\n\\t\\t\\t\\t\\t\\t\\t\\t\\t\\t<span class=\"ws-icon ws-icon-star\"></span>\\n\\t\\t\\t\\t\\t\\t\\t\\t\\t\\t<span class=\"ws-icon ws-icon-star\"></span>\\n\\t\\t\\t\\t\\t\\t\\t\\t\\t</p>\\n\\t\\t\\t</div>\\n\\t\\t</div>\\n\\t</div>\\n</div>\\n\\t\\t\\t<div class=\"col-md-4 col-xl-4 col-lg-4\">\\n\\t<div class=\"card product-wrapper thumbnail\">\\n\\t\\t<div class=\"card-body\">\\n\\t\\t\\t<img class=\"img-fluid card-img-top image img-responsive\" alt=\"item\" src=\"/images/test-sites/e-commerce/items/cart2.png\">\\n\\t\\t\\t<div class=\"caption\">\\n\\t\\t\\t\\t<h4 class=\"float-end price card-title pull-right\">$1199.73</h4>\\n\\t\\t\\t\\t<h4>\\n\\t\\t\\t\\t\\t<a href=\"/test-sites/e-commerce/allinone/product/123\" class=\"title\" title=\"Lenovo Yoga 910 Grey\">Lenovo Yoga 91...</a>\\n\\t\\t\\t\\t</h4>\\n\\t\\t\\t\\t<p class=\"description card-text\">Lenovo Yoga 910 Grey, 13.9&quot; FHD Touch, Core i5-7200U, 8GB, 256GB SSD, Windows 10 Home</p>\\n\\n\\t\\t\\t</div>\\n\\t\\t\\t<div class=\"ratings\">\\n\\t\\t\\t\\t<p class=\"float-end review-count\">7 reviews</p>\\n\\t\\t\\t\\t<p data-rating=\"3\">\\n\\t\\t\\t\\t\\t\\t\\t\\t\\t\\t<span class=\"ws-icon ws-icon-star\"></span>\\n\\t\\t\\t\\t\\t\\t\\t\\t\\t\\t<span class=\"ws-icon ws-icon-star\"></span>\\n\\t\\t\\t\\t\\t\\t\\t\\t\\t\\t<span class=\"ws-icon ws-icon-star\"></span>\\n\\t\\t\\t\\t\\t\\t\\t\\t\\t</p>\\n\\t\\t\\t</div>\\n\\t\\t</div>\\n\\t</div>\\n</div>\\n\\t\\t\\t<div class=\"col-md-4 col-xl-4 col-lg-4\">\\n\\t<div class=\"card product-wrapper thumbnail\">\\n\\t\\t<div class=\"card-body\">\\n\\t\\t\\t<img class=\"img-fluid card-img-top image img-responsive\" alt=\"item\" src=\"/images/test-sites/e-commerce/items/cart2.png\">\\n\\t\\t\\t<div class=\"caption\">\\n\\t\\t\\t\\t<h4 class=\"float-end price card-title pull-right\">$1203.41</h4>\\n\\t\\t\\t\\t<h4>\\n\\t\\t\\t\\t\\t<a href=\"/test-sites/e-commerce/allinone/product/124\" class=\"title\" title=\"Toshiba Portege X30-D-10J Black/Blue\">Toshiba Porteg...</a>\\n\\t\\t\\t\\t</h4>\\n\\t\\t\\t\\t<p class=\"description card-text\">Toshiba Portege X30-D-10J Black/Blue, 13.3&quot; FHD IPS, Core i5-7200U, 8GB, 256GB SSD, Windows 10 Pro</p>\\n\\n\\t\\t\\t</div>\\n\\t\\t\\t<div class=\"ratings\">\\n\\t\\t\\t\\t<p class=\"float-end review-count\">13 reviews</p>\\n\\t\\t\\t\\t<p data-rating=\"4\">\\n\\t\\t\\t\\t\\t\\t\\t\\t\\t\\t<span class=\"ws-icon ws-icon-star\"></span>\\n\\t\\t\\t\\t\\t\\t\\t\\t\\t\\t<span class=\"ws-icon ws-icon-star\"></span>\\n\\t\\t\\t\\t\\t\\t\\t\\t\\t\\t<span class=\"ws-icon ws-icon-star\"></span>\\n\\t\\t\\t\\t\\t\\t\\t\\t\\t\\t<span class=\"ws-icon ws-icon-star\"></span>\\n\\t\\t\\t\\t\\t\\t\\t\\t\\t</p>\\n\\t\\t\\t</div>\\n\\t\\t</div>\\n\\t</div>\\n</div>\\n\\t\\t\\t<div class=\"col-md-4 col-xl-4 col-lg-4\">\\n\\t<div class=\"card product-wrapper thumbnail\">\\n\\t\\t<div class=\"card-body\">\\n\\t\\t\\t<img class=\"img-fluid card-img-top image img-responsive\" alt=\"item\" src=\"/images/test-sites/e-commerce/items/cart2.png\">\\n\\t\\t\\t<div class=\"caption\">\\n\\t\\t\\t\\t<h4 class=\"float-end price card-title pull-right\">$1212.16</h4>\\n\\t\\t\\t\\t<h4>\\n\\t\\t\\t\\t\\t<a href=\"/test-sites/e-commerce/allinone/product/125\" class=\"title\" title=\"Lenovo IdeaPad Miix 510 Platinum Silver\">Lenovo IdeaPad...</a>\\n\\t\\t\\t\\t</h4>\\n\\t\\t\\t\\t<p class=\"description card-text\">Lenovo IdeaPad Miix 510 Platinum Silver, 12.2&quot; IPS Touch, Core i5-7200U, 8GB, 256GB SSD, 4G, Windows 10 Pro</p>\\n\\n\\t\\t\\t</div>\\n\\t\\t\\t<div class=\"ratings\">\\n\\t\\t\\t\\t<p class=\"float-end review-count\">0 reviews</p>\\n\\t\\t\\t\\t<p data-rating=\"4\">\\n\\t\\t\\t\\t\\t\\t\\t\\t\\t\\t<span class=\"ws-icon ws-icon-star\"></span>\\n\\t\\t\\t\\t\\t\\t\\t\\t\\t\\t<span class=\"ws-icon ws-icon-star\"></span>\\n\\t\\t\\t\\t\\t\\t\\t\\t\\t\\t<span class=\"ws-icon ws-icon-star\"></span>\\n\\t\\t\\t\\t\\t\\t\\t\\t\\t\\t<span class=\"ws-icon ws-icon-star\"></span>\\n\\t\\t\\t\\t\\t\\t\\t\\t\\t</p>\\n\\t\\t\\t</div>\\n\\t\\t</div>\\n\\t</div>\\n</div>\\n\\t\\t\\t<div class=\"col-md-4 col-xl-4 col-lg-4\">\\n\\t<div class=\"card product-wrapper thumbnail\">\\n\\t\\t<div class=\"card-body\">\\n\\t\\t\\t<img class=\"img-fluid card-img-top image img-responsive\" alt=\"item\" src=\"/images/test-sites/e-commerce/items/cart2.png\">\\n\\t\\t\\t<div class=\"caption\">\\n\\t\\t\\t\\t<h4 class=\"float-end price card-title pull-right\">$1221.58</h4>\\n\\t\\t\\t\\t<h4>\\n\\t\\t\\t\\t\\t<a href=\"/test-sites/e-commerce/allinone/product/126\" class=\"title\" title=\"Acer Predator Helios 300 (PH317-51)\">Acer Predator...</a>\\n\\t\\t\\t\\t</h4>\\n\\t\\t\\t\\t<p class=\"description card-text\">Acer Predator Helios 300 (PH317-51), 17.3&quot; FHD IPS, Core i7-7700HQ, 8GB, 1TB + 128GB SSD, GeForce GTX 1050 Ti 4GB, Windows 10 Home</p>\\n\\n\\t\\t\\t</div>\\n\\t\\t\\t<div class=\"ratings\">\\n\\t\\t\\t\\t<p class=\"float-end review-count\">9 reviews</p>\\n\\t\\t\\t\\t<p data-rating=\"1\">\\n\\t\\t\\t\\t\\t\\t\\t\\t\\t\\t<span class=\"ws-icon ws-icon-star\"></span>\\n\\t\\t\\t\\t\\t\\t\\t\\t\\t</p>\\n\\t\\t\\t</div>\\n\\t\\t</div>\\n\\t</div>\\n</div>\\n\\t\\t\\t<div class=\"col-md-4 col-xl-4 col-lg-4\">\\n\\t<div class=\"card product-wrapper thumbnail\">\\n\\t\\t<div class=\"card-body\">\\n\\t\\t\\t<img class=\"img-fluid card-img-top image img-responsive\" alt=\"item\" src=\"/images/test-sites/e-commerce/items/cart2.png\">\\n\\t\\t\\t<div class=\"caption\">\\n\\t\\t\\t\\t<h4 class=\"float-end price card-title pull-right\">$1223.99</h4>\\n\\t\\t\\t\\t<h4>\\n\\t\\t\\t\\t\\t<a href=\"/test-sites/e-commerce/allinone/product/43\" class=\"title\" title=\"ThinkPad Yoga\">ThinkPad Yoga</a>\\n\\t\\t\\t\\t</h4>\\n\\t\\t\\t\\t<p class=\"description card-text\">12.5&quot; Touch, Core i5 4200U, 8GB, 500GB + 16GB SSD Cache, Windows</p>\\n\\n\\t\\t\\t</div>\\n\\t\\t\\t<div class=\"ratings\">\\n\\t\\t\\t\\t<p class=\"float-end review-count\">2 reviews</p>\\n\\t\\t\\t\\t<p data-rating=\"3\">\\n\\t\\t\\t\\t\\t\\t\\t\\t\\t\\t<span class=\"ws-icon ws-icon-star\"></span>\\n\\t\\t\\t\\t\\t\\t\\t\\t\\t\\t<span class=\"ws-icon ws-icon-star\"></span>\\n\\t\\t\\t\\t\\t\\t\\t\\t\\t\\t<span class=\"ws-icon ws-icon-star\"></span>\\n\\t\\t\\t\\t\\t\\t\\t\\t\\t</p>\\n\\t\\t\\t</div>\\n\\t\\t</div>\\n\\t</div>\\n</div>\\n\\t\\t\\t<div class=\"col-md-4 col-xl-4 col-lg-4\">\\n\\t<div class=\"card product-wrapper thumbnail\">\\n\\t\\t<div class=\"card-body\">\\n\\t\\t\\t<img class=\"img-fluid card-img-top image img-responsive\" alt=\"item\" src=\"/images/test-sites/e-commerce/items/cart2.png\">\\n\\t\\t\\t<div class=\"caption\">\\n\\t\\t\\t\\t<h4 class=\"float-end price card-title pull-right\">$1235.49</h4>\\n\\t\\t\\t\\t<h4>\\n\\t\\t\\t\\t\\t<a href=\"/test-sites/e-commerce/allinone/product/127\" class=\"title\" title=\"Asus VivoBook Pro 15 N580VN-FI006T Gold Metal\">Asus VivoBook...</a>\\n\\t\\t\\t\\t</h4>\\n\\t\\t\\t\\t<p class=\"description card-text\">Asus VivoBook Pro 15 N580VN-FI006T Gold Metal, 15.6&quot; UHD, Core i7-7700HQ, 16GB, 1TB + 256GB SSD, GeForce MX150 2GB, Windows 10 Home, Eng kbd</p>\\n\\n\\t\\t\\t</div>\\n\\t\\t\\t<div class=\"ratings\">\\n\\t\\t\\t\\t<p class=\"float-end review-count\">10 reviews</p>\\n\\t\\t\\t\\t<p data-rating=\"2\">\\n\\t\\t\\t\\t\\t\\t\\t\\t\\t\\t<span class=\"ws-icon ws-icon-star\"></span>\\n\\t\\t\\t\\t\\t\\t\\t\\t\\t\\t<span class=\"ws-icon ws-icon-star\"></span>\\n\\t\\t\\t\\t\\t\\t\\t\\t\\t</p>\\n\\t\\t\\t</div>\\n\\t\\t</div>\\n\\t</div>\\n</div>\\n\\t\\t\\t<div class=\"col-md-4 col-xl-4 col-lg-4\">\\n\\t<div class=\"card product-wrapper thumbnail\">\\n\\t\\t<div class=\"card-body\">\\n\\t\\t\\t<img class=\"img-fluid card-img-top image img-responsive\" alt=\"item\" src=\"/images/test-sites/e-commerce/items/cart2.png\">\\n\\t\\t\\t<div class=\"caption\">\\n\\t\\t\\t\\t<h4 class=\"float-end price card-title pull-right\">$1238.37</h4>\\n\\t\\t\\t\\t<h4>\\n\\t\\t\\t\\t\\t<a href=\"/test-sites/e-commerce/allinone/product/128\" class=\"title\" title=\"Dell Latitude 5480\">Dell Latitude...</a>\\n\\t\\t\\t\\t</h4>\\n\\t\\t\\t\\t<p class=\"description card-text\">Dell Latitude 5480, 14&quot; FHD, Core i7-7600U, 8GB, 256GB SSD, Linux</p>\\n\\n\\t\\t\\t</div>\\n\\t\\t\\t<div class=\"ratings\">\\n\\t\\t\\t\\t<p class=\"float-end review-count\">0 reviews</p>\\n\\t\\t\\t\\t<p data-rating=\"2\">\\n\\t\\t\\t\\t\\t\\t\\t\\t\\t\\t<span class=\"ws-icon ws-icon-star\"></span>\\n\\t\\t\\t\\t\\t\\t\\t\\t\\t\\t<span class=\"ws-icon ws-icon-star\"></span>\\n\\t\\t\\t\\t\\t\\t\\t\\t\\t</p>\\n\\t\\t\\t</div>\\n\\t\\t</div>\\n\\t</div>\\n</div>\\n\\t\\t\\t<div class=\"col-md-4 col-xl-4 col-lg-4\">\\n\\t<div class=\"card product-wrapper thumbnail\">\\n\\t\\t<div class=\"card-body\">\\n\\t\\t\\t<img class=\"img-fluid card-img-top image img-responsive\" alt=\"item\" src=\"/images/test-sites/e-commerce/items/cart2.png\">\\n\\t\\t\\t<div class=\"caption\">\\n\\t\\t\\t\\t<h4 class=\"float-end price card-title pull-right\">$1239.2</h4>\\n\\t\\t\\t\\t<h4>\\n\\t\\t\\t\\t\\t<a href=\"/test-sites/e-commerce/allinone/product/129\" class=\"title\" title=\"Asus ZenBook UX530UX-FY040T Blue\">Asus ZenBook U...</a>\\n\\t\\t\\t\\t</h4>\\n\\t\\t\\t\\t<p class=\"description card-text\">Asus ZenBook UX530UX-FY040T Blue, 15.6&quot; FHD, Core i7-7500U, 8GB, 512GB SSD, GeForce GTX950M 2GB, Windows 10 Home, Eng kbd</p>\\n\\n\\t\\t\\t</div>\\n\\t\\t\\t<div class=\"ratings\">\\n\\t\\t\\t\\t<p class=\"float-end review-count\">14 reviews</p>\\n\\t\\t\\t\\t<p data-rating=\"1\">\\n\\t\\t\\t\\t\\t\\t\\t\\t\\t\\t<span class=\"ws-icon ws-icon-star\"></span>\\n\\t\\t\\t\\t\\t\\t\\t\\t\\t</p>\\n\\t\\t\\t</div>\\n\\t\\t</div>\\n\\t</div>\\n</div>\\n\\t\\t\\t<div class=\"col-md-4 col-xl-4 col-lg-4\">\\n\\t<div class=\"card product-wrapper thumbnail\">\\n\\t\\t<div class=\"card-body\">\\n\\t\\t\\t<img class=\"img-fluid card-img-top image img-responsive\" alt=\"item\" src=\"/images/test-sites/e-commerce/items/cart2.png\">\\n\\t\\t\\t<div class=\"caption\">\\n\\t\\t\\t\\t<h4 class=\"float-end price card-title pull-right\">$1244.99</h4>\\n\\t\\t\\t\\t<h4>\\n\\t\\t\\t\\t\\t<a href=\"/test-sites/e-commerce/allinone/product/41\" class=\"title\" title=\"ThinkPad X230\">ThinkPad X230</a>\\n\\t\\t\\t\\t</h4>\\n\\t\\t\\t\\t<p class=\"description card-text\">12.5&quot;, Core i5 2.6GHz, 8GB, 180GB SSD, Win7 Pro 64bit</p>\\n\\n\\t\\t\\t</div>\\n\\t\\t\\t<div class=\"ratings\">\\n\\t\\t\\t\\t<p class=\"float-end review-count\">10 reviews</p>\\n\\t\\t\\t\\t<p data-rating=\"3\">\\n\\t\\t\\t\\t\\t\\t\\t\\t\\t\\t<span class=\"ws-icon ws-icon-star\"></span>\\n\\t\\t\\t\\t\\t\\t\\t\\t\\t\\t<span class=\"ws-icon ws-icon-star\"></span>\\n\\t\\t\\t\\t\\t\\t\\t\\t\\t\\t<span class=\"ws-icon ws-icon-star\"></span>\\n\\t\\t\\t\\t\\t\\t\\t\\t\\t</p>\\n\\t\\t\\t</div>\\n\\t\\t</div>\\n\\t</div>\\n</div>\\n\\t\\t\\t<div class=\"col-md-4 col-xl-4 col-lg-4\">\\n\\t<div class=\"card product-wrapper thumbnail\">\\n\\t\\t<div class=\"card-body\">\\n\\t\\t\\t<img class=\"img-fluid card-img-top image img-responsive\" alt=\"item\" src=\"/images/test-sites/e-commerce/items/cart2.png\">\\n\\t\\t\\t<div class=\"caption\">\\n\\t\\t\\t\\t<h4 class=\"float-end price card-title pull-right\">$1259</h4>\\n\\t\\t\\t\\t<h4>\\n\\t\\t\\t\\t\\t<a href=\"/test-sites/e-commerce/allinone/product/130\" class=\"title\" title=\"Asus ROG Strix GL753VE-GC096T\">Asus ROG Strix...</a>\\n\\t\\t\\t\\t</h4>\\n\\t\\t\\t\\t<p class=\"description card-text\">Asus ROG Strix GL753VE-GC096T, 17.3&quot; FHD, Core i7-7700HQ, 8GB, 1TB + 128GB SSD, GeForce GTX 1050 Ti 4GB, Windows 10 Home, Eng kbd</p>\\n\\n\\t\\t\\t</div>\\n\\t\\t\\t<div class=\"ratings\">\\n\\t\\t\\t\\t<p class=\"float-end review-count\">7 reviews</p>\\n\\t\\t\\t\\t<p data-rating=\"4\">\\n\\t\\t\\t\\t\\t\\t\\t\\t\\t\\t<span class=\"ws-icon ws-icon-star\"></span>\\n\\t\\t\\t\\t\\t\\t\\t\\t\\t\\t<span class=\"ws-icon ws-icon-star\"></span>\\n\\t\\t\\t\\t\\t\\t\\t\\t\\t\\t<span class=\"ws-icon ws-icon-star\"></span>\\n\\t\\t\\t\\t\\t\\t\\t\\t\\t\\t<span class=\"ws-icon ws-icon-star\"></span>\\n\\t\\t\\t\\t\\t\\t\\t\\t\\t</p>\\n\\t\\t\\t</div>\\n\\t\\t</div>\\n\\t</div>\\n</div>\\n\\t\\t\\t<div class=\"col-md-4 col-xl-4 col-lg-4\">\\n\\t<div class=\"card product-wrapper thumbnail\">\\n\\t\\t<div class=\"card-body\">\\n\\t\\t\\t<img class=\"img-fluid card-img-top image img-responsive\" alt=\"item\" src=\"/images/test-sites/e-commerce/items/cart2.png\">\\n\\t\\t\\t<div class=\"caption\">\\n\\t\\t\\t\\t<h4 class=\"float-end price card-title pull-right\">$1260.13</h4>\\n\\t\\t\\t\\t<h4>\\n\\t\\t\\t\\t\\t<a href=\"/test-sites/e-commerce/allinone/product/131\" class=\"title\" title=\"Apple MacBook Air 13&quot;\">Apple MacBook...</a>\\n\\t\\t\\t\\t</h4>\\n\\t\\t\\t\\t<p class=\"description card-text\">Apple MacBook Air 13&quot;, i5 1.8GHz, 8GB, 256GB SSD, Intel HD 6000, ENG</p>\\n\\n\\t\\t\\t</div>\\n\\t\\t\\t<div class=\"ratings\">\\n\\t\\t\\t\\t<p class=\"float-end review-count\">8 reviews</p>\\n\\t\\t\\t\\t<p data-rating=\"4\">\\n\\t\\t\\t\\t\\t\\t\\t\\t\\t\\t<span class=\"ws-icon ws-icon-star\"></span>\\n\\t\\t\\t\\t\\t\\t\\t\\t\\t\\t<span class=\"ws-icon ws-icon-star\"></span>\\n\\t\\t\\t\\t\\t\\t\\t\\t\\t\\t<span class=\"ws-icon ws-icon-star\"></span>\\n\\t\\t\\t\\t\\t\\t\\t\\t\\t\\t<span class=\"ws-icon ws-icon-star\"></span>\\n\\t\\t\\t\\t\\t\\t\\t\\t\\t</p>\\n\\t\\t\\t</div>\\n\\t\\t</div>\\n\\t</div>\\n</div>\\n\\t\\t\\t<div class=\"col-md-4 col-xl-4 col-lg-4\">\\n\\t<div class=\"card product-wrapper thumbnail\">\\n\\t\\t<div class=\"card-body\">\\n\\t\\t\\t<img class=\"img-fluid card-img-top image img-responsive\" alt=\"item\" src=\"/images/test-sites/e-commerce/items/cart2.png\">\\n\\t\\t\\t<div class=\"caption\">\\n\\t\\t\\t\\t<h4 class=\"float-end price card-title pull-right\">$1271.06</h4>\\n\\t\\t\\t\\t<h4>\\n\\t\\t\\t\\t\\t<a href=\"/test-sites/e-commerce/allinone/product/132\" class=\"title\" title=\"Dell Latitude 5480\">Dell Latitude...</a>\\n\\t\\t\\t\\t</h4>\\n\\t\\t\\t\\t<p class=\"description card-text\">Dell Latitude 5480, 14&quot; FHD, Core i7-7600U, 8GB, 1TB, GeForce GT930MX, Windows 10 Pro</p>\\n\\n\\t\\t\\t</div>\\n\\t\\t\\t<div class=\"ratings\">\\n\\t\\t\\t\\t<p class=\"float-end review-count\">13 reviews</p>\\n\\t\\t\\t\\t<p data-rating=\"1\">\\n\\t\\t\\t\\t\\t\\t\\t\\t\\t\\t<span class=\"ws-icon ws-icon-star\"></span>\\n\\t\\t\\t\\t\\t\\t\\t\\t\\t</p>\\n\\t\\t\\t</div>\\n\\t\\t</div>\\n\\t</div>\\n</div>\\n\\t\\t\\t<div class=\"col-md-4 col-xl-4 col-lg-4\">\\n\\t<div class=\"card product-wrapper thumbnail\">\\n\\t\\t<div class=\"card-body\">\\n\\t\\t\\t<img class=\"img-fluid card-img-top image img-responsive\" alt=\"item\" src=\"/images/test-sites/e-commerce/items/cart2.png\">\\n\\t\\t\\t<div class=\"caption\">\\n\\t\\t\\t\\t<h4 class=\"float-end price card-title pull-right\">$1273.11</h4>\\n\\t\\t\\t\\t<h4>\\n\\t\\t\\t\\t\\t<a href=\"/test-sites/e-commerce/allinone/product/133\" class=\"title\" title=\"Hewlett Packard Spectre 13-v106na Dark Ash Silver\">Hewlett Packar...</a>\\n\\t\\t\\t\\t</h4>\\n\\t\\t\\t\\t<p class=\"description card-text\">Hewlett Packard Spectre 13-v106na Dark Ash Silver, 13.3&quot; FHD IPS, Core i5-7200U, 8GB, 256GB SSD, Windows 10 Home</p>\\n\\n\\t\\t\\t</div>\\n\\t\\t\\t<div class=\"ratings\">\\n\\t\\t\\t\\t<p class=\"float-end review-count\">8 reviews</p>\\n\\t\\t\\t\\t<p data-rating=\"3\">\\n\\t\\t\\t\\t\\t\\t\\t\\t\\t\\t<span class=\"ws-icon ws-icon-star\"></span>\\n\\t\\t\\t\\t\\t\\t\\t\\t\\t\\t<span class=\"ws-icon ws-icon-star\"></span>\\n\\t\\t\\t\\t\\t\\t\\t\\t\\t\\t<span class=\"ws-icon ws-icon-star\"></span>\\n\\t\\t\\t\\t\\t\\t\\t\\t\\t</p>\\n\\t\\t\\t</div>\\n\\t\\t</div>\\n\\t</div>\\n</div>\\n\\t\\t\\t<div class=\"col-md-4 col-xl-4 col-lg-4\">\\n\\t<div class=\"card product-wrapper thumbnail\">\\n\\t\\t<div class=\"card-body\">\\n\\t\\t\\t<img class=\"img-fluid card-img-top image img-responsive\" alt=\"item\" src=\"/images/test-sites/e-commerce/items/cart2.png\">\\n\\t\\t\\t<div class=\"caption\">\\n\\t\\t\\t\\t<h4 class=\"float-end price card-title pull-right\">$1281.99</h4>\\n\\t\\t\\t\\t<h4>\\n\\t\\t\\t\\t\\t<a href=\"/test-sites/e-commerce/allinone/product/40\" class=\"title\" title=\"Dell XPS 13\">Dell XPS 13</a>\\n\\t\\t\\t\\t</h4>\\n\\t\\t\\t\\t<p class=\"description card-text\">13.3&quot; Touch, Core i5-4210U, 8GB, 128GB SSD, Windows 8.1</p>\\n\\n\\t\\t\\t</div>\\n\\t\\t\\t<div class=\"ratings\">\\n\\t\\t\\t\\t<p class=\"float-end review-count\">4 reviews</p>\\n\\t\\t\\t\\t<p data-rating=\"3\">\\n\\t\\t\\t\\t\\t\\t\\t\\t\\t\\t<span class=\"ws-icon ws-icon-star\"></span>\\n\\t\\t\\t\\t\\t\\t\\t\\t\\t\\t<span class=\"ws-icon ws-icon-star\"></span>\\n\\t\\t\\t\\t\\t\\t\\t\\t\\t\\t<span class=\"ws-icon ws-icon-star\"></span>\\n\\t\\t\\t\\t\\t\\t\\t\\t\\t</p>\\n\\t\\t\\t</div>\\n\\t\\t</div>\\n\\t</div>\\n</div>\\n\\t\\t\\t<div class=\"col-md-4 col-xl-4 col-lg-4\">\\n\\t<div class=\"card product-wrapper thumbnail\">\\n\\t\\t<div class=\"card-body\">\\n\\t\\t\\t<img class=\"img-fluid card-img-top image img-responsive\" alt=\"item\" src=\"/images/test-sites/e-commerce/items/cart2.png\">\\n\\t\\t\\t<div class=\"caption\">\\n\\t\\t\\t\\t<h4 class=\"float-end price card-title pull-right\">$1294.74</h4>\\n\\t\\t\\t\\t<h4>\\n\\t\\t\\t\\t\\t<a href=\"/test-sites/e-commerce/allinone/product/134\" class=\"title\" title=\"Toshiba Portege Z30-C-16K Grey\">Toshiba Porteg...</a>\\n\\t\\t\\t\\t</h4>\\n\\t\\t\\t\\t<p class=\"description card-text\">Toshiba Portege Z30-C-16K Grey, 13.3&quot; FHD, Core i5-6200U, 8GB, 256GB SSD, 4G, Windows 10 Pro</p>\\n\\n\\t\\t\\t</div>\\n\\t\\t\\t<div class=\"ratings\">\\n\\t\\t\\t\\t<p class=\"float-end review-count\">6 reviews</p>\\n\\t\\t\\t\\t<p data-rating=\"1\">\\n\\t\\t\\t\\t\\t\\t\\t\\t\\t\\t<span class=\"ws-icon ws-icon-star\"></span>\\n\\t\\t\\t\\t\\t\\t\\t\\t\\t</p>\\n\\t\\t\\t</div>\\n\\t\\t</div>\\n\\t</div>\\n</div>\\n\\t\\t\\t<div class=\"col-md-4 col-xl-4 col-lg-4\">\\n\\t<div class=\"card product-wrapper thumbnail\">\\n\\t\\t<div class=\"card-body\">\\n\\t\\t\\t<img class=\"img-fluid card-img-top image img-responsive\" alt=\"item\" src=\"/images/test-sites/e-commerce/items/cart2.png\">\\n\\t\\t\\t<div class=\"caption\">\\n\\t\\t\\t\\t<h4 class=\"float-end price card-title pull-right\">$1299</h4>\\n\\t\\t\\t\\t<h4>\\n\\t\\t\\t\\t\\t<a href=\"/test-sites/e-commerce/allinone/product/135\" class=\"title\" title=\"MSI GL62VR 7RFX\">MSI GL62VR 7RF...</a>\\n\\t\\t\\t\\t</h4>\\n\\t\\t\\t\\t<p class=\"description card-text\">MSI GL62VR 7RFX, 15.6&quot; FHD, Core i7-7700HQ, 8GB, 1TB + 256GB SSD, GeForce GTX 1060 3GB, Windows 10 Home</p>\\n\\n\\t\\t\\t</div>\\n\\t\\t\\t<div class=\"ratings\">\\n\\t\\t\\t\\t<p class=\"float-end review-count\">1 reviews</p>\\n\\t\\t\\t\\t<p data-rating=\"3\">\\n\\t\\t\\t\\t\\t\\t\\t\\t\\t\\t<span class=\"ws-icon ws-icon-star\"></span>\\n\\t\\t\\t\\t\\t\\t\\t\\t\\t\\t<span class=\"ws-icon ws-icon-star\"></span>\\n\\t\\t\\t\\t\\t\\t\\t\\t\\t\\t<span class=\"ws-icon ws-icon-star\"></span>\\n\\t\\t\\t\\t\\t\\t\\t\\t\\t</p>\\n\\t\\t\\t</div>\\n\\t\\t</div>\\n\\t</div>\\n</div>\\n\\t\\t\\t<div class=\"col-md-4 col-xl-4 col-lg-4\">\\n\\t<div class=\"card product-wrapper thumbnail\">\\n\\t\\t<div class=\"card-body\">\\n\\t\\t\\t<img class=\"img-fluid card-img-top image img-responsive\" alt=\"item\" src=\"/images/test-sites/e-commerce/items/cart2.png\">\\n\\t\\t\\t<div class=\"caption\">\\n\\t\\t\\t\\t<h4 class=\"float-end price card-title pull-right\">$1310.39</h4>\\n\\t\\t\\t\\t<h4>\\n\\t\\t\\t\\t\\t<a href=\"/test-sites/e-commerce/allinone/product/136\" class=\"title\" title=\"Dell Latitude 5480\">Dell Latitude...</a>\\n\\t\\t\\t\\t</h4>\\n\\t\\t\\t\\t<p class=\"description card-text\">Dell Latitude 5480, 14&quot; FHD, Core i7-7600U, 8GB, 256GB SSD, Windows 10 Pro</p>\\n\\n\\t\\t\\t</div>\\n\\t\\t\\t<div class=\"ratings\">\\n\\t\\t\\t\\t<p class=\"float-end review-count\">8 reviews</p>\\n\\t\\t\\t\\t<p data-rating=\"3\">\\n\\t\\t\\t\\t\\t\\t\\t\\t\\t\\t<span class=\"ws-icon ws-icon-star\"></span>\\n\\t\\t\\t\\t\\t\\t\\t\\t\\t\\t<span class=\"ws-icon ws-icon-star\"></span>\\n\\t\\t\\t\\t\\t\\t\\t\\t\\t\\t<span class=\"ws-icon ws-icon-star\"></span>\\n\\t\\t\\t\\t\\t\\t\\t\\t\\t</p>\\n\\t\\t\\t</div>\\n\\t\\t</div>\\n\\t</div>\\n</div>\\n\\t\\t\\t<div class=\"col-md-4 col-xl-4 col-lg-4\">\\n\\t<div class=\"card product-wrapper thumbnail\">\\n\\t\\t<div class=\"card-body\">\\n\\t\\t\\t<img class=\"img-fluid card-img-top image img-responsive\" alt=\"item\" src=\"/images/test-sites/e-commerce/items/cart2.png\">\\n\\t\\t\\t<div class=\"caption\">\\n\\t\\t\\t\\t<h4 class=\"float-end price card-title pull-right\">$1311.99</h4>\\n\\t\\t\\t\\t<h4>\\n\\t\\t\\t\\t\\t<a href=\"/test-sites/e-commerce/allinone/product/35\" class=\"title\" title=\"ThinkPad X240\">ThinkPad X240</a>\\n\\t\\t\\t\\t</h4>\\n\\t\\t\\t\\t<p class=\"description card-text\">12.5&quot;, Core i5-4300U, 8GB, 240GB SSD, Win7 Pro 64bit</p>\\n\\n\\t\\t\\t</div>\\n\\t\\t\\t<div class=\"ratings\">\\n\\t\\t\\t\\t<p class=\"float-end review-count\">12 reviews</p>\\n\\t\\t\\t\\t<p data-rating=\"3\">\\n\\t\\t\\t\\t\\t\\t\\t\\t\\t\\t<span class=\"ws-icon ws-icon-star\"></span>\\n\\t\\t\\t\\t\\t\\t\\t\\t\\t\\t<span class=\"ws-icon ws-icon-star\"></span>\\n\\t\\t\\t\\t\\t\\t\\t\\t\\t\\t<span class=\"ws-icon ws-icon-star\"></span>\\n\\t\\t\\t\\t\\t\\t\\t\\t\\t</p>\\n\\t\\t\\t</div>\\n\\t\\t</div>\\n\\t</div>\\n</div>\\n\\t\\t\\t<div class=\"col-md-4 col-xl-4 col-lg-4\">\\n\\t<div class=\"card product-wrapper thumbnail\">\\n\\t\\t<div class=\"card-body\">\\n\\t\\t\\t<img class=\"img-fluid card-img-top image img-responsive\" alt=\"item\" src=\"/images/test-sites/e-commerce/items/cart2.png\">\\n\\t\\t\\t<div class=\"caption\">\\n\\t\\t\\t\\t<h4 class=\"float-end price card-title pull-right\">$1326.83</h4>\\n\\t\\t\\t\\t<h4>\\n\\t\\t\\t\\t\\t<a href=\"/test-sites/e-commerce/allinone/product/137\" class=\"title\" title=\"Hewlett Packard ProBook 640 G3\">Hewlett Packar...</a>\\n\\t\\t\\t\\t</h4>\\n\\t\\t\\t\\t<p class=\"description card-text\">Hewlett Packard ProBook 640 G3, 14&quot; FHD, Core i7-7600U, 8GB, 256GB SSD, Windows 10 Pro</p>\\n\\n\\t\\t\\t</div>\\n\\t\\t\\t<div class=\"ratings\">\\n\\t\\t\\t\\t<p class=\"float-end review-count\">2 reviews</p>\\n\\t\\t\\t\\t<p data-rating=\"1\">\\n\\t\\t\\t\\t\\t\\t\\t\\t\\t\\t<span class=\"ws-icon ws-icon-star\"></span>\\n\\t\\t\\t\\t\\t\\t\\t\\t\\t</p>\\n\\t\\t\\t</div>\\n\\t\\t</div>\\n\\t</div>\\n</div>\\n\\t\\t\\t<div class=\"col-md-4 col-xl-4 col-lg-4\">\\n\\t<div class=\"card product-wrapper thumbnail\">\\n\\t\\t<div class=\"card-body\">\\n\\t\\t\\t<img class=\"img-fluid card-img-top image img-responsive\" alt=\"item\" src=\"/images/test-sites/e-commerce/items/cart2.png\">\\n\\t\\t\\t<div class=\"caption\">\\n\\t\\t\\t\\t<h4 class=\"float-end price card-title pull-right\">$1333</h4>\\n\\t\\t\\t\\t<h4>\\n\\t\\t\\t\\t\\t<a href=\"/test-sites/e-commerce/allinone/product/138\" class=\"title\" title=\"Apple MacBook Pro 13&quot; Space Gray\">Apple MacBook...</a>\\n\\t\\t\\t\\t</h4>\\n\\t\\t\\t\\t<p class=\"description card-text\">Apple MacBook Pro 13&quot; Space Gray, Core i5 2.3GHz, 8GB, 128GB SSD, Iris Plus 640, ENG</p>\\n\\n\\t\\t\\t</div>\\n\\t\\t\\t<div class=\"ratings\">\\n\\t\\t\\t\\t<p class=\"float-end review-count\">0 reviews</p>\\n\\t\\t\\t\\t<p data-rating=\"1\">\\n\\t\\t\\t\\t\\t\\t\\t\\t\\t\\t<span class=\"ws-icon ws-icon-star\"></span>\\n\\t\\t\\t\\t\\t\\t\\t\\t\\t</p>\\n\\t\\t\\t</div>\\n\\t\\t</div>\\n\\t</div>\\n</div>\\n\\t\\t\\t<div class=\"col-md-4 col-xl-4 col-lg-4\">\\n\\t<div class=\"card product-wrapper thumbnail\">\\n\\t\\t<div class=\"card-body\">\\n\\t\\t\\t<img class=\"img-fluid card-img-top image img-responsive\" alt=\"item\" src=\"/images/test-sites/e-commerce/items/cart2.png\">\\n\\t\\t\\t<div class=\"caption\">\\n\\t\\t\\t\\t<h4 class=\"float-end price card-title pull-right\">$1337.28</h4>\\n\\t\\t\\t\\t<h4>\\n\\t\\t\\t\\t\\t<a href=\"/test-sites/e-commerce/allinone/product/139\" class=\"title\" title=\"Dell Latitude 5580\">Dell Latitude...</a>\\n\\t\\t\\t\\t</h4>\\n\\t\\t\\t\\t<p class=\"description card-text\">Dell Latitude 5580, 15.6&quot; FHD, Core i7-7600U, 8GB, 256GB SSD, GeForce GT930MX, Windows 10 Pro</p>\\n\\n\\t\\t\\t</div>\\n\\t\\t\\t<div class=\"ratings\">\\n\\t\\t\\t\\t<p class=\"float-end review-count\">6 reviews</p>\\n\\t\\t\\t\\t<p data-rating=\"1\">\\n\\t\\t\\t\\t\\t\\t\\t\\t\\t\\t<span class=\"ws-icon ws-icon-star\"></span>\\n\\t\\t\\t\\t\\t\\t\\t\\t\\t</p>\\n\\t\\t\\t</div>\\n\\t\\t</div>\\n\\t</div>\\n</div>\\n\\t\\t\\t<div class=\"col-md-4 col-xl-4 col-lg-4\">\\n\\t<div class=\"card product-wrapper thumbnail\">\\n\\t\\t<div class=\"card-body\">\\n\\t\\t\\t<img class=\"img-fluid card-img-top image img-responsive\" alt=\"item\" src=\"/images/test-sites/e-commerce/items/cart2.png\">\\n\\t\\t\\t<div class=\"caption\">\\n\\t\\t\\t\\t<h4 class=\"float-end price card-title pull-right\">$1338.37</h4>\\n\\t\\t\\t\\t<h4>\\n\\t\\t\\t\\t\\t<a href=\"/test-sites/e-commerce/allinone/product/140\" class=\"title\" title=\"Dell Latitude 5480\">Dell Latitude...</a>\\n\\t\\t\\t\\t</h4>\\n\\t\\t\\t\\t<p class=\"description card-text\">Dell Latitude 5480, 14&quot; FHD, Core i7-7600U, 8GB, 256GB SSD, Linux + Windows 10 Home</p>\\n\\n\\t\\t\\t</div>\\n\\t\\t\\t<div class=\"ratings\">\\n\\t\\t\\t\\t<p class=\"float-end review-count\">11 reviews</p>\\n\\t\\t\\t\\t<p data-rating=\"2\">\\n\\t\\t\\t\\t\\t\\t\\t\\t\\t\\t<span class=\"ws-icon ws-icon-star\"></span>\\n\\t\\t\\t\\t\\t\\t\\t\\t\\t\\t<span class=\"ws-icon ws-icon-star\"></span>\\n\\t\\t\\t\\t\\t\\t\\t\\t\\t</p>\\n\\t\\t\\t</div>\\n\\t\\t</div>\\n\\t</div>\\n</div>\\n\\t\\t\\t<div class=\"col-md-4 col-xl-4 col-lg-4\">\\n\\t<div class=\"card product-wrapper thumbnail\">\\n\\t\\t<div class=\"card-body\">\\n\\t\\t\\t<img class=\"img-fluid card-img-top image img-responsive\" alt=\"item\" src=\"/images/test-sites/e-commerce/items/cart2.png\">\\n\\t\\t\\t<div class=\"caption\">\\n\\t\\t\\t\\t<h4 class=\"float-end price card-title pull-right\">$1341.22</h4>\\n\\t\\t\\t\\t<h4>\\n\\t\\t\\t\\t\\t<a href=\"/test-sites/e-commerce/allinone/product/141\" class=\"title\" title=\"Dell Latitude 5580\">Dell Latitude...</a>\\n\\t\\t\\t\\t</h4>\\n\\t\\t\\t\\t<p class=\"description card-text\">Dell Latitude 5580, 15.6&quot; FHD, Core i7-7600U, 16GB, 256GB SSD, GeForce GT930MX, Linux</p>\\n\\n\\t\\t\\t</div>\\n\\t\\t\\t<div class=\"ratings\">\\n\\t\\t\\t\\t<p class=\"float-end review-count\">3 reviews</p>\\n\\t\\t\\t\\t<p data-rating=\"3\">\\n\\t\\t\\t\\t\\t\\t\\t\\t\\t\\t<span class=\"ws-icon ws-icon-star\"></span>\\n\\t\\t\\t\\t\\t\\t\\t\\t\\t\\t<span class=\"ws-icon ws-icon-star\"></span>\\n\\t\\t\\t\\t\\t\\t\\t\\t\\t\\t<span class=\"ws-icon ws-icon-star\"></span>\\n\\t\\t\\t\\t\\t\\t\\t\\t\\t</p>\\n\\t\\t\\t</div>\\n\\t\\t</div>\\n\\t</div>\\n</div>\\n\\t\\t\\t<div class=\"col-md-4 col-xl-4 col-lg-4\">\\n\\t<div class=\"card product-wrapper thumbnail\">\\n\\t\\t<div class=\"card-body\">\\n\\t\\t\\t<img class=\"img-fluid card-img-top image img-responsive\" alt=\"item\" src=\"/images/test-sites/e-commerce/items/cart2.png\">\\n\\t\\t\\t<div class=\"caption\">\\n\\t\\t\\t\\t<h4 class=\"float-end price card-title pull-right\">$1347.78</h4>\\n\\t\\t\\t\\t<h4>\\n\\t\\t\\t\\t\\t<a href=\"/test-sites/e-commerce/allinone/product/142\" class=\"title\" title=\"Apple MacBook Air 13&quot;\">Apple MacBook...</a>\\n\\t\\t\\t\\t</h4>\\n\\t\\t\\t\\t<p class=\"description card-text\">Apple MacBook Air 13&quot;, Intel Core i5 1.8GHz, 8GB, 256GB SSD, Intel HD 6000, RUS</p>\\n\\n\\t\\t\\t</div>\\n\\t\\t\\t<div class=\"ratings\">\\n\\t\\t\\t\\t<p class=\"float-end review-count\">11 reviews</p>\\n\\t\\t\\t\\t<p data-rating=\"2\">\\n\\t\\t\\t\\t\\t\\t\\t\\t\\t\\t<span class=\"ws-icon ws-icon-star\"></span>\\n\\t\\t\\t\\t\\t\\t\\t\\t\\t\\t<span class=\"ws-icon ws-icon-star\"></span>\\n\\t\\t\\t\\t\\t\\t\\t\\t\\t</p>\\n\\t\\t\\t</div>\\n\\t\\t</div>\\n\\t</div>\\n</div>\\n\\t\\t\\t<div class=\"col-md-4 col-xl-4 col-lg-4\">\\n\\t<div class=\"card product-wrapper thumbnail\">\\n\\t\\t<div class=\"card-body\">\\n\\t\\t\\t<img class=\"img-fluid card-img-top image img-responsive\" alt=\"item\" src=\"/images/test-sites/e-commerce/items/cart2.png\">\\n\\t\\t\\t<div class=\"caption\">\\n\\t\\t\\t\\t<h4 class=\"float-end price card-title pull-right\">$1349.23</h4>\\n\\t\\t\\t\\t<h4>\\n\\t\\t\\t\\t\\t<a href=\"/test-sites/e-commerce/allinone/product/143\" class=\"title\" title=\"Lenovo ThinkPad T470\">Lenovo ThinkPa...</a>\\n\\t\\t\\t\\t</h4>\\n\\t\\t\\t\\t<p class=\"description card-text\">Lenovo ThinkPad T470, 14&quot; FHD IPS, Core i5-7200U, 8GB, 256GB SSD, Windows 10 Pro</p>\\n\\n\\t\\t\\t</div>\\n\\t\\t\\t<div class=\"ratings\">\\n\\t\\t\\t\\t<p class=\"float-end review-count\">5 reviews</p>\\n\\t\\t\\t\\t<p data-rating=\"1\">\\n\\t\\t\\t\\t\\t\\t\\t\\t\\t\\t<span class=\"ws-icon ws-icon-star\"></span>\\n\\t\\t\\t\\t\\t\\t\\t\\t\\t</p>\\n\\t\\t\\t</div>\\n\\t\\t</div>\\n\\t</div>\\n</div>\\n\\t\\t\\t<div class=\"col-md-4 col-xl-4 col-lg-4\">\\n\\t<div class=\"card product-wrapper thumbnail\">\\n\\t\\t<div class=\"card-body\">\\n\\t\\t\\t<img class=\"img-fluid card-img-top image img-responsive\" alt=\"item\" src=\"/images/test-sites/e-commerce/items/cart2.png\">\\n\\t\\t\\t<div class=\"caption\">\\n\\t\\t\\t\\t<h4 class=\"float-end price card-title pull-right\">$1362.24</h4>\\n\\t\\t\\t\\t<h4>\\n\\t\\t\\t\\t\\t<a href=\"/test-sites/e-commerce/allinone/product/144\" class=\"title\" title=\"Lenovo ThinkPad Yoga 370 Black\">Lenovo ThinkPa...</a>\\n\\t\\t\\t\\t</h4>\\n\\t\\t\\t\\t<p class=\"description card-text\">Lenovo ThinkPad Yoga 370 Black, 13.3&quot; FHD IPS Touch, Core i5-7200U, 8GB, 256GB SSD, 4G, Windows 10 Pro</p>\\n\\n\\t\\t\\t</div>\\n\\t\\t\\t<div class=\"ratings\">\\n\\t\\t\\t\\t<p class=\"float-end review-count\">12 reviews</p>\\n\\t\\t\\t\\t<p data-rating=\"2\">\\n\\t\\t\\t\\t\\t\\t\\t\\t\\t\\t<span class=\"ws-icon ws-icon-star\"></span>\\n\\t\\t\\t\\t\\t\\t\\t\\t\\t\\t<span class=\"ws-icon ws-icon-star\"></span>\\n\\t\\t\\t\\t\\t\\t\\t\\t\\t</p>\\n\\t\\t\\t</div>\\n\\t\\t</div>\\n\\t</div>\\n</div>\\n\\t\\t\\t<div class=\"col-md-4 col-xl-4 col-lg-4\">\\n\\t<div class=\"card product-wrapper thumbnail\">\\n\\t\\t<div class=\"card-body\">\\n\\t\\t\\t<img class=\"img-fluid card-img-top image img-responsive\" alt=\"item\" src=\"/images/test-sites/e-commerce/items/cart2.png\">\\n\\t\\t\\t<div class=\"caption\">\\n\\t\\t\\t\\t<h4 class=\"float-end price card-title pull-right\">$1366.32</h4>\\n\\t\\t\\t\\t<h4>\\n\\t\\t\\t\\t\\t<a href=\"/test-sites/e-commerce/allinone/product/145\" class=\"title\" title=\"Toshiba Portege X20W-D-10V Black/Blue\">Toshiba Porteg...</a>\\n\\t\\t\\t\\t</h4>\\n\\t\\t\\t\\t<p class=\"description card-text\">Toshiba Portege X20W-D-10V Black/Blue, 12.5&quot; FHD Touch, Core i7-7500U, 8GB, 512GB SSD, Windows 10 Pro</p>\\n\\n\\t\\t\\t</div>\\n\\t\\t\\t<div class=\"ratings\">\\n\\t\\t\\t\\t<p class=\"float-end review-count\">11 reviews</p>\\n\\t\\t\\t\\t<p data-rating=\"1\">\\n\\t\\t\\t\\t\\t\\t\\t\\t\\t\\t<span class=\"ws-icon ws-icon-star\"></span>\\n\\t\\t\\t\\t\\t\\t\\t\\t\\t</p>\\n\\t\\t\\t</div>\\n\\t\\t</div>\\n\\t</div>\\n</div>\\n\\t\\t\\t<div class=\"col-md-4 col-xl-4 col-lg-4\">\\n\\t<div class=\"card product-wrapper thumbnail\">\\n\\t\\t<div class=\"card-body\">\\n\\t\\t\\t<img class=\"img-fluid card-img-top image img-responsive\" alt=\"item\" src=\"/images/test-sites/e-commerce/items/cart2.png\">\\n\\t\\t\\t<div class=\"caption\">\\n\\t\\t\\t\\t<h4 class=\"float-end price card-title pull-right\">$1381.13</h4>\\n\\t\\t\\t\\t<h4>\\n\\t\\t\\t\\t\\t<a href=\"/test-sites/e-commerce/allinone/product/146\" class=\"title\" title=\"Asus ASUSPRO B9440UA-GV0279R Gray\">Asus ASUSPRO B...</a>\\n\\t\\t\\t\\t</h4>\\n\\t\\t\\t\\t<p class=\"description card-text\">Asus ASUSPRO B9440UA-GV0279R Gray, 14&quot; FHD, Core i7-7500U, 16GB, 512GB SSD, Windows 10 Pro, Eng kbd</p>\\n\\n\\t\\t\\t</div>\\n\\t\\t\\t<div class=\"ratings\">\\n\\t\\t\\t\\t<p class=\"float-end review-count\">4 reviews</p>\\n\\t\\t\\t\\t<p data-rating=\"1\">\\n\\t\\t\\t\\t\\t\\t\\t\\t\\t\\t<span class=\"ws-icon ws-icon-star\"></span>\\n\\t\\t\\t\\t\\t\\t\\t\\t\\t</p>\\n\\t\\t\\t</div>\\n\\t\\t</div>\\n\\t</div>\\n</div>\\n\\t\\t\\t<div class=\"col-md-4 col-xl-4 col-lg-4\">\\n\\t<div class=\"card product-wrapper thumbnail\">\\n\\t\\t<div class=\"card-body\">\\n\\t\\t\\t<img class=\"img-fluid card-img-top image img-responsive\" alt=\"item\" src=\"/images/test-sites/e-commerce/items/cart2.png\">\\n\\t\\t\\t<div class=\"caption\">\\n\\t\\t\\t\\t<h4 class=\"float-end price card-title pull-right\">$1399</h4>\\n\\t\\t\\t\\t<h4>\\n\\t\\t\\t\\t\\t<a href=\"/test-sites/e-commerce/allinone/product/56\" class=\"title\" title=\"Lenovo Legion Y720\">Lenovo Legion...</a>\\n\\t\\t\\t\\t</h4>\\n\\t\\t\\t\\t<p class=\"description card-text\">Lenovo Legion Y720, 15.6&quot; FHD IPS, Core i7-7700HQ, 8GB, 128GB SSD + 2TB HDD, GeForce GTX 1060 6GB, DOS, RGB backlit keyboard</p>\\n\\n\\t\\t\\t</div>\\n\\t\\t\\t<div class=\"ratings\">\\n\\t\\t\\t\\t<p class=\"float-end review-count\">8 reviews</p>\\n\\t\\t\\t\\t<p data-rating=\"3\">\\n\\t\\t\\t\\t\\t\\t\\t\\t\\t\\t<span class=\"ws-icon ws-icon-star\"></span>\\n\\t\\t\\t\\t\\t\\t\\t\\t\\t\\t<span class=\"ws-icon ws-icon-star\"></span>\\n\\t\\t\\t\\t\\t\\t\\t\\t\\t\\t<span class=\"ws-icon ws-icon-star\"></span>\\n\\t\\t\\t\\t\\t\\t\\t\\t\\t</p>\\n\\t\\t\\t</div>\\n\\t\\t</div>\\n\\t</div>\\n</div>\\n\\t\\t\\t<div class=\"col-md-4 col-xl-4 col-lg-4\">\\n\\t<div class=\"card product-wrapper thumbnail\">\\n\\t\\t<div class=\"card-body\">\\n\\t\\t\\t<img class=\"img-fluid card-img-top image img-responsive\" alt=\"item\" src=\"/images/test-sites/e-commerce/items/cart2.png\">\\n\\t\\t\\t<div class=\"caption\">\\n\\t\\t\\t\\t<h4 class=\"float-end price card-title pull-right\">$1399</h4>\\n\\t\\t\\t\\t<h4>\\n\\t\\t\\t\\t\\t<a href=\"/test-sites/e-commerce/allinone/product/147\" class=\"title\" title=\"Asus ROG Strix GL702VM-GC146T\">Asus ROG Strix...</a>\\n\\t\\t\\t\\t</h4>\\n\\t\\t\\t\\t<p class=\"description card-text\">Asus ROG Strix GL702VM-GC146T, 17.3&quot; FHD, Core i7-7700HQ, 8GB, 1TB + 128GB SSD, GeForce GTX 1060 3GB, Windows 10 Home, Eng kbd</p>\\n\\n\\t\\t\\t</div>\\n\\t\\t\\t<div class=\"ratings\">\\n\\t\\t\\t\\t<p class=\"float-end review-count\">10 reviews</p>\\n\\t\\t\\t\\t<p data-rating=\"3\">\\n\\t\\t\\t\\t\\t\\t\\t\\t\\t\\t<span class=\"ws-icon ws-icon-star\"></span>\\n\\t\\t\\t\\t\\t\\t\\t\\t\\t\\t<span class=\"ws-icon ws-icon-star\"></span>\\n\\t\\t\\t\\t\\t\\t\\t\\t\\t\\t<span class=\"ws-icon ws-icon-star\"></span>\\n\\t\\t\\t\\t\\t\\t\\t\\t\\t</p>\\n\\t\\t\\t</div>\\n\\t\\t</div>\\n\\t</div>\\n</div>\\n\\t\\t\\t<div class=\"col-md-4 col-xl-4 col-lg-4\">\\n\\t<div class=\"card product-wrapper thumbnail\">\\n\\t\\t<div class=\"card-body\">\\n\\t\\t\\t<img class=\"img-fluid card-img-top image img-responsive\" alt=\"item\" src=\"/images/test-sites/e-commerce/items/cart2.png\">\\n\\t\\t\\t<div class=\"caption\">\\n\\t\\t\\t\\t<h4 class=\"float-end price card-title pull-right\">$1769</h4>\\n\\t\\t\\t\\t<h4>\\n\\t\\t\\t\\t\\t<a href=\"/test-sites/e-commerce/allinone/product/57\" class=\"title\" title=\"Asus ROG Strix GL702ZC-GC154T\">Asus ROG Strix...</a>\\n\\t\\t\\t\\t</h4>\\n\\t\\t\\t\\t<p class=\"description card-text\">Asus ROG Strix GL702ZC-GC154T, 17.3&quot; FHD, Ryzen 7 1700, 16GB, 256GB + 1TB HDD, Radeon RX 580 4GB, Windows 10 Home</p>\\n\\n\\t\\t\\t</div>\\n\\t\\t\\t<div class=\"ratings\">\\n\\t\\t\\t\\t<p class=\"float-end review-count\">7 reviews</p>\\n\\t\\t\\t\\t<p data-rating=\"4\">\\n\\t\\t\\t\\t\\t\\t\\t\\t\\t\\t<span class=\"ws-icon ws-icon-star\"></span>\\n\\t\\t\\t\\t\\t\\t\\t\\t\\t\\t<span class=\"ws-icon ws-icon-star\"></span>\\n\\t\\t\\t\\t\\t\\t\\t\\t\\t\\t<span class=\"ws-icon ws-icon-star\"></span>\\n\\t\\t\\t\\t\\t\\t\\t\\t\\t\\t<span class=\"ws-icon ws-icon-star\"></span>\\n\\t\\t\\t\\t\\t\\t\\t\\t\\t</p>\\n\\t\\t\\t</div>\\n\\t\\t</div>\\n\\t</div>\\n</div>\\n\\t\\t\\t<div class=\"col-md-4 col-xl-4 col-lg-4\">\\n\\t<div class=\"card product-wrapper thumbnail\">\\n\\t\\t<div class=\"card-body\">\\n\\t\\t\\t<img class=\"img-fluid card-img-top image img-responsive\" alt=\"item\" src=\"/images/test-sites/e-commerce/items/cart2.png\">\\n\\t\\t\\t<div class=\"caption\">\\n\\t\\t\\t\\t<h4 class=\"float-end price card-title pull-right\">$1769</h4>\\n\\t\\t\\t\\t<h4>\\n\\t\\t\\t\\t\\t<a href=\"/test-sites/e-commerce/allinone/product/58\" class=\"title\" title=\"Asus ROG Strix GL702ZC-GC209T\">Asus ROG Strix...</a>\\n\\t\\t\\t\\t</h4>\\n\\t\\t\\t\\t<p class=\"description card-text\">Asus ROG Strix GL702ZC-GC209T, 17.3&quot; FHD IPS, Ryzen 7 1700, 16GB, 256GB SSD + 1TB HDD, Radeon RX 580 4GB, Windows 10 Home</p>\\n\\n\\t\\t\\t</div>\\n\\t\\t\\t<div class=\"ratings\">\\n\\t\\t\\t\\t<p class=\"float-end review-count\">8 reviews</p>\\n\\t\\t\\t\\t<p data-rating=\"1\">\\n\\t\\t\\t\\t\\t\\t\\t\\t\\t\\t<span class=\"ws-icon ws-icon-star\"></span>\\n\\t\\t\\t\\t\\t\\t\\t\\t\\t</p>\\n\\t\\t\\t</div>\\n\\t\\t</div>\\n\\t</div>\\n</div>\\n\\t\\t\\t<div class=\"col-md-4 col-xl-4 col-lg-4\">\\n\\t<div class=\"card product-wrapper thumbnail\">\\n\\t\\t<div class=\"card-body\">\\n\\t\\t\\t<img class=\"img-fluid card-img-top image img-responsive\" alt=\"item\" src=\"/images/test-sites/e-commerce/items/cart2.png\">\\n\\t\\t\\t<div class=\"caption\">\\n\\t\\t\\t\\t<h4 class=\"float-end price card-title pull-right\">$1799</h4>\\n\\t\\t\\t\\t<h4>\\n\\t\\t\\t\\t\\t<a href=\"/test-sites/e-commerce/allinone/product/59\" class=\"title\" title=\"Asus ROG Strix SCAR Edition GL503VM-ED115T\">Asus ROG Strix...</a>\\n\\t\\t\\t\\t</h4>\\n\\t\\t\\t\\t<p class=\"description card-text\">Asus ROG Strix SCAR Edition GL503VM-ED115T, 15.6&quot; FHD 120Hz, Core i7-7700HQ, 16GB, 256GB SSD + 1TB SSHD, GeForce GTX 1060 6GB, Windows 10 Home</p>\\n\\n\\t\\t\\t</div>\\n\\t\\t\\t<div class=\"ratings\">\\n\\t\\t\\t\\t<p class=\"float-end review-count\">8 reviews</p>\\n\\t\\t\\t\\t<p data-rating=\"3\">\\n\\t\\t\\t\\t\\t\\t\\t\\t\\t\\t<span class=\"ws-icon ws-icon-star\"></span>\\n\\t\\t\\t\\t\\t\\t\\t\\t\\t\\t<span class=\"ws-icon ws-icon-star\"></span>\\n\\t\\t\\t\\t\\t\\t\\t\\t\\t\\t<span class=\"ws-icon ws-icon-star\"></span>\\n\\t\\t\\t\\t\\t\\t\\t\\t\\t</p>\\n\\t\\t\\t</div>\\n\\t\\t</div>\\n\\t</div>\\n</div>\\n\\t</div>\\n\\n<div id=\"static-pagination\">\\n\\t</div>\\n\\n\\t\\t\\t</div>\\n\\t\\t</div>\\n\\t</div>\\n\\t<div class=\"clearfix\"></div>\\n\\t<div class=\"push\"></div>\\n</div>\\n\\n<div class=\"container-fluid footer\" id=\"layout-footer\">\\n\\t<div class=\"container\">\\n\\t\\t<div class=\"row\">\\n\\t\\t\\t<div class=\"col-lg-3\">\\n\\t\\t\\t\\t<ul>\\n\\t\\t\\t\\t\\t<li><p>Products</p></li>\\n\\t\\t\\t\\t\\t<li>\\n\\t\\t\\t\\t\\t\\t<a href=\"/\">Web Scraper browser extension</a>\\n\\t\\t\\t\\t\\t</li>\\n\\t\\t\\t\\t\\t<li>\\n\\t\\t\\t\\t\\t\\t<a href=\"/pricing\">Web Scraper Cloud</a>\\n\\t\\t\\t\\t\\t</li>\\n\\t\\t\\t\\t</ul>\\n\\t\\t\\t</div>\\n\\t\\t\\t<div class=\"col-lg-3\">\\n\\t\\t\\t\\t<ul>\\n\\t\\t\\t\\t\\t<li><p>Company</p></li>\\n\\t\\t\\t\\t\\t<li>\\n\\t\\t\\t\\t\\t\\t<a href=\"/about-us\">About us</a>\\n\\t\\t\\t\\t\\t</li>\\n\\t\\t\\t\\t\\t<li>\\n\\t\\t\\t\\t\\t\\t<a href=\"/contact\">Contact</a>\\n\\t\\t\\t\\t\\t</li>\\n\\t\\t\\t\\t\\t<li>\\n\\t\\t\\t\\t\\t\\t<a href=\"/privacy-policy\">Website Privacy Policy</a>\\n\\t\\t\\t\\t\\t</li>\\n\\t\\t\\t\\t\\t<li>\\n\\t\\t\\t\\t\\t\\t<a href=\"/extension-privacy-policy\">Browser Extension Privacy Policy</a>\\n\\t\\t\\t\\t\\t</li>\\n\\t\\t\\t\\t\\t<li>\\n\\t\\t\\t\\t\\t\\t<a href=\"https://webscraper.io/downloads/Web_Scraper_Media_Kit.zip\">Media kit</a>\\n\\t\\t\\t\\t\\t</li>\\n\\t\\t\\t\\t\\t<li><a href=\"/jobs\">Jobs</a></li>\\n\\t\\t\\t\\t</ul>\\n\\t\\t\\t</div>\\n\\t\\t\\t<div class=\"col-lg-3\">\\n\\t\\t\\t\\t<ul>\\n\\t\\t\\t\\t\\t<li><p>Resources</p></li>\\n\\t\\t\\t\\t\\t<li><a href=\"/blog\">Blog</a></li>\\n\\t\\t\\t\\t\\t<li>\\n\\t\\t\\t\\t\\t\\t<a href=\"/documentation\">Documentation</a>\\n\\t\\t\\t\\t\\t</li>\\n\\t\\t\\t\\t\\t<li>\\n\\t\\t\\t\\t\\t\\t<a href=\"/tutorials\">Video Tutorials</a>\\n\\t\\t\\t\\t\\t</li>\\n\\t\\t\\t\\t\\t<li>\\n\\t\\t\\t\\t\\t\\t<a href=\"/screenshots\">Screenshots</a>\\n\\t\\t\\t\\t\\t</li>\\n\\t\\t\\t\\t\\t<li>\\n\\t\\t\\t\\t\\t\\t<a href=\"/test-sites\">Test Sites</a>\\n\\t\\t\\t\\t\\t</li>\\n\\t\\t\\t\\t\\t<li>\\n\\t\\t\\t\\t\\t\\t<a target=\"_blank\" href=\"https://forum.webscraper.io/\" rel=\"noopener\">Forum</a>\\n\\t\\t\\t\\t\\t</li>\\n\\t\\t\\t\\t\\t<li>\\n\\t\\t\\t\\t\\t\\t<a target=\"_blank\" href=\"https://status.webscraper.io/\" rel=\"noopener\">Status</a>\\n\\t\\t\\t\\t\\t</li>\\n\\t\\t\\t\\t</ul>\\n\\t\\t\\t</div>\\n\\t\\t\\t<div class=\"col-lg-3\">\\n\\t\\t\\t\\t<ul>\\n\\t\\t\\t\\t\\t<li><p>CONTACT US</p></li>\\n\\t\\t\\t\\t\\t<li>\\n\\t\\t\\t\\t\\t\\t<a href=\"mailto:info@webscraper.io\">info@webscraper.io</a>\\n\\t\\t\\t\\t\\t</li>\\n\\t\\t\\t\\t\\t<li>Ubelu 5-71,<br> Adazi, Latvia, LV-2164</li>\\n\\t\\t\\t\\t</ul>\\n\\t\\t\\t\\t<ul class=\"smedia\">\\n\\t\\t\\t\\t\\t<li>\\n\\t\\t\\t\\t\\t\\t<a href=\"https://www.facebook.com/webscraperio/\" target=\"_blank\" rel=\"noopener\">\\n\\t\\t\\t\\t\\t\\t\\t<i class=\"ws-icon ws-icon-facebook-f\"></i>\\n\\t\\t\\t\\t\\t\\t</a>\\n\\t\\t\\t\\t\\t</li>\\n\\t\\t\\t\\t\\t<li>\\n\\t\\t\\t\\t\\t\\t<a href=\"https://twitter.com/webscraperio\" target=\"_blank\" rel=\"noopener\">\\n\\t\\t\\t\\t\\t\\t\\t<i class=\"ws-icon ws-icon-twitter\"></i>\\n\\t\\t\\t\\t\\t\\t</a>\\n\\t\\t\\t\\t\\t</li>\\n\\t\\t\\t\\t</ul>\\n\\t\\t\\t</div>\\n\\t\\t</div>\\n\\t\\t<div class=\"row\">\\n\\t\\t\\t<div class=\"col-lg-12\">\\n\\t\\t\\t\\t<p class=\"copyright\">Copyright &copy 2024\\n\\t\\t\\t\\t\\t<a href=\"#\">Web Scraper</a> | All rights\\n\\t\\t\\t\\t\\treserved</p>\\n\\t\\t\\t</div>\\n\\t\\t</div>\\n\\t</div>\\n</div>\\n\\n\\n</body>\\n</html>\\n'"
            ],
            "application/vnd.google.colaboratory.intrinsic+json": {
              "type": "string"
            }
          },
          "metadata": {},
          "execution_count": 45
        }
      ]
    },
    {
      "cell_type": "code",
      "source": [
        "import requests\n",
        "from bs4 import BeautifulSoup\n",
        "import pandas as pd\n",
        "\n",
        "titles = []\n",
        "prices = []\n",
        "ratings = []\n",
        "\n",
        "url = 'https://webscraper.io/test-sites/e-commerce/allinone/computers/laptops'\n",
        "request = requests.get(url)\n",
        "soup = BeautifulSoup(request.text, \"html.parser\")\n",
        "\n",
        "for product in soup.find_all('div', {'class': 'col-sm-4 col-lg-4 col-md-4'}):\n",
        "    for pr in product.find_all('div', {'class': 'caption'}):\n",
        "        for p in pr.find_all('h4', {'class': 'pull-right price'}):\n",
        "            prices.append(p.text.strip())\n",
        "        for title in pr.find_all('a', {'title': True}):\n",
        "            titles.append(title.get('title').strip())\n",
        "    for rt in product.find_all('div', {'class': 'ratings'}):\n",
        "        ratings.append(len(rt.find_all('span', \\\n",
        "         {'class': 'glyphicon glyphicon-star'})))\n",
        "\n",
        "# Create a DataFrame\n",
        "product_df = pd.DataFrame(list(zip(titles, prices, ratings)), columns=['Titles', 'Prices', 'Ratings'])\n",
        "\n",
        "# Print or further process the DataFrame\n",
        "product_df.to_csv(\"ecommerce.csv\",index=False)\n",
        "\n"
      ],
      "metadata": {
        "id": "flhlxn5Sn_JE"
      },
      "execution_count": 55,
      "outputs": []
    },
    {
      "cell_type": "code",
      "source": [],
      "metadata": {
        "id": "-oSjK-qooxhR"
      },
      "execution_count": null,
      "outputs": []
    }
  ]
}